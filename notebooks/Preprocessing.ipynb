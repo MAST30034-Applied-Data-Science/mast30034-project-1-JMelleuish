{
 "cells": [
  {
   "cell_type": "markdown",
   "metadata": {},
   "source": [
    "# MAST30034 Project 1\n",
    "## Preprocessing"
   ]
  },
  {
   "cell_type": "markdown",
   "metadata": {},
   "source": [
    "Potential questions:\n",
    "How big of an impact do tourists have on taxi revenue?\n",
    "Do road accidents effecct the duration of taxi trips?"
   ]
  },
  {
   "cell_type": "code",
   "execution_count": 33,
   "metadata": {},
   "outputs": [],
   "source": [
    "from functools import reduce \n",
    "from pyspark.sql import DataFrame\n",
    "from pyspark.sql import SparkSession\n",
    "\n",
    "# Create a spark session (which will run spark jobs)\n",
    "spark = (\n",
    "    SparkSession.builder.appName(\"Project 1 - Preprocessing\")\n",
    "    .config(\"spark.sql.repl.eagerEval.enabled\", True) \n",
    "    .config(\"spark.sql.parquet.cacheMetadata\", \"true\")\n",
    "    .getOrCreate()\n",
    ")"
   ]
  },
  {
   "cell_type": "markdown",
   "metadata": {},
   "source": [
    "The Green taxi service has an extra column called ehail_fee, to help combine the dataframes, all yellow taxi dataframes will have a ehail_fee column appended to it with 0 for each row as yellow taxis don't have a "
   ]
  },
  {
   "cell_type": "code",
   "execution_count": 47,
   "metadata": {},
   "outputs": [],
   "source": [
    "from pyspark.sql.functions import lit\n",
    "\n",
    "Gjan19 = spark.read.parquet('P1 Data/green_tripdata_2019-01.parquet')\n",
    "Gfeb19 = spark.read.parquet('P1 Data/green_tripdata_2019-02.parquet')\n",
    "Gmar19 = spark.read.parquet('P1 Data/green_tripdata_2019-03.parquet')\n",
    "Gapr19 = spark.read.parquet('P1 Data/green_tripdata_2019-04.parquet')\n",
    "Gmay19 = spark.read.parquet('P1 Data/green_tripdata_2019-05.parquet')\n",
    "Gjun19 = spark.read.parquet('P1 Data/green_tripdata_2019-06.parquet')\n",
    "Gjul19 = spark.read.parquet('P1 Data/green_tripdata_2019-07.parquet')\n",
    "Gaug19 = spark.read.parquet('P1 Data/green_tripdata_2019-08.parquet')\n",
    "Gsep19 = spark.read.parquet('P1 Data/green_tripdata_2019-09.parquet')\n",
    "Goct19 = spark.read.parquet('P1 Data/green_tripdata_2019-10.parquet')\n",
    "Gnov19 = spark.read.parquet('P1 Data/green_tripdata_2019-11.parquet')\n",
    "Gdec19 = spark.read.parquet('P1 Data/green_tripdata_2019-12.parquet')\n",
    "\n",
    "Gjan18 = spark.read.parquet('P1 Data/green_tripdata_2018-01.parquet')\n",
    "Gfeb18 = spark.read.parquet('P1 Data/green_tripdata_2018-02.parquet')\n",
    "Gmar18 = spark.read.parquet('P1 Data/green_tripdata_2018-03.parquet')\n",
    "Gapr18 = spark.read.parquet('P1 Data/green_tripdata_2018-04.parquet')\n",
    "Gmay18 = spark.read.parquet('P1 Data/green_tripdata_2018-05.parquet')\n",
    "Gjun18 = spark.read.parquet('P1 Data/green_tripdata_2018-06.parquet')\n",
    "Gjul18 = spark.read.parquet('P1 Data/green_tripdata_2018-07.parquet')\n",
    "Gaug18 = spark.read.parquet('P1 Data/green_tripdata_2018-08.parquet')\n",
    "Gsep18 = spark.read.parquet('P1 Data/green_tripdata_2018-09.parquet')\n",
    "Goct18 = spark.read.parquet('P1 Data/green_tripdata_2018-10.parquet')\n",
    "Gnov18 = spark.read.parquet('P1 Data/green_tripdata_2018-11.parquet')\n",
    "Gdec18 = spark.read.parquet('P1 Data/green_tripdata_2018-12.parquet')\n",
    "\n",
    "Yjan19 = spark.read.parquet('P1 Data/yellow_tripdata_2019-01.parquet').withColumn('ehail_fee', lit(0))\n",
    "Yfeb19 = spark.read.parquet('P1 Data/yellow_tripdata_2019-02.parquet').withColumn('ehail_fee', lit(0))\n",
    "Ymar19 = spark.read.parquet('P1 Data/yellow_tripdata_2019-03.parquet').withColumn('ehail_fee', lit(0))\n",
    "Yapr19 = spark.read.parquet('P1 Data/yellow_tripdata_2019-04.parquet').withColumn('ehail_fee', lit(0))\n",
    "Ymay19 = spark.read.parquet('P1 Data/yellow_tripdata_2019-05.parquet').withColumn('ehail_fee', lit(0))\n",
    "Yjun19 = spark.read.parquet('P1 Data/yellow_tripdata_2019-06.parquet').withColumn('ehail_fee', lit(0))\n",
    "Yjul19 = spark.read.parquet('P1 Data/yellow_tripdata_2019-07.parquet').withColumn('ehail_fee', lit(0))\n",
    "Yaug19 = spark.read.parquet('P1 Data/yellow_tripdata_2019-08.parquet').withColumn('ehail_fee', lit(0))\n",
    "Ysep19 = spark.read.parquet('P1 Data/yellow_tripdata_2019-09.parquet').withColumn('ehail_fee', lit(0))\n",
    "Yoct19 = spark.read.parquet('P1 Data/yellow_tripdata_2019-10.parquet').withColumn('ehail_fee', lit(0))\n",
    "Ynov19 = spark.read.parquet('P1 Data/yellow_tripdata_2019-11.parquet').withColumn('ehail_fee', lit(0))\n",
    "Ydec19 = spark.read.parquet('P1 Data/yellow_tripdata_2019-12.parquet').withColumn('ehail_fee', lit(0))\n",
    "\n",
    "Yjan18 = spark.read.parquet('P1 Data/yellow_tripdata_2019-01.parquet').withColumn('ehail_fee', lit(0))\n",
    "Yfeb18 = spark.read.parquet('P1 Data/yellow_tripdata_2019-02.parquet').withColumn('ehail_fee', lit(0))\n",
    "Ymar18 = spark.read.parquet('P1 Data/yellow_tripdata_2019-03.parquet').withColumn('ehail_fee', lit(0))\n",
    "Yapr18 = spark.read.parquet('P1 Data/yellow_tripdata_2019-04.parquet').withColumn('ehail_fee', lit(0))\n",
    "Ymay18 = spark.read.parquet('P1 Data/yellow_tripdata_2019-05.parquet').withColumn('ehail_fee', lit(0))\n",
    "Yjun18 = spark.read.parquet('P1 Data/yellow_tripdata_2019-06.parquet').withColumn('ehail_fee', lit(0))\n",
    "Yjul18 = spark.read.parquet('P1 Data/yellow_tripdata_2019-07.parquet').withColumn('ehail_fee', lit(0))\n",
    "Yaug18 = spark.read.parquet('P1 Data/yellow_tripdata_2019-08.parquet').withColumn('ehail_fee', lit(0))\n",
    "Ysep18 = spark.read.parquet('P1 Data/yellow_tripdata_2019-09.parquet').withColumn('ehail_fee', lit(0))\n",
    "Yoct18 = spark.read.parquet('P1 Data/yellow_tripdata_2019-10.parquet').withColumn('ehail_fee', lit(0))\n",
    "Ynov18 = spark.read.parquet('P1 Data/yellow_tripdata_2019-11.parquet').withColumn('ehail_fee', lit(0))\n",
    "Ydec18 = spark.read.parquet('P1 Data/yellow_tripdata_2019-12.parquet').withColumn('ehail_fee', lit(0))"
   ]
  },
  {
   "cell_type": "code",
   "execution_count": null,
   "metadata": {},
   "outputs": [],
   "source": []
  },
  {
   "cell_type": "code",
   "execution_count": 35,
   "metadata": {},
   "outputs": [],
   "source": [
    "def unionAll(*dfs):\n",
    "    return reduce(DataFrame.unionAll, dfs)"
   ]
  },
  {
   "cell_type": "code",
   "execution_count": 45,
   "metadata": {},
   "outputs": [
    {
     "name": "stderr",
     "output_type": "stream",
     "text": [
      "                                                                                \r"
     ]
    },
    {
     "data": {
      "text/plain": [
       "184397591"
      ]
     },
     "execution_count": 45,
     "metadata": {},
     "output_type": "execute_result"
    }
   ],
   "source": [
    "sdf = unionAll(*[ \\\n",
    "     Gjan19, Gfeb19, Gmar19, Gapr19, Gmay19, Gjun19, Gjul19, Gaug19, Gsep19, Goct19, Gnov19, Gdec19,\\\n",
    "     Gjan18, Gfeb18, Gmar18, Gapr18, Gmay18, Gjun18, Gjul18, Gaug18, Gsep18, Goct18, Gnov18, Gdec18, \\\n",
    "     Yjan19, Yfeb19, Ymar19, Yapr19, Ymay19, Yjun19, Yjul19, Yaug19, Ysep19, Yoct19, Ynov19, Ydec19,\\\n",
    "     Yjan18, Yfeb18, Ymar18, Yapr18, Ymay18, Yjun18, Yjul18, Yaug18, Ysep18, Yoct18, Ynov18, Ydec18,])\n",
    "sdf.count()"
   ]
  },
  {
   "cell_type": "markdown",
   "metadata": {},
   "source": [
    "### Dropped Columns:"
   ]
  },
  {
   "cell_type": "markdown",
   "metadata": {},
   "source": [
    "VendorID is used to indicate the provider who indicated the record, this inforation is not nesscary to know for this project as it has no effect of the taxis themselves. \n",
    "\n",
    "RatecodeID is used to indicate the kind of rate used (to calculate payment) during the ride. This is unescary information due to other columns.\n",
    "\n",
    "store_and_fwd_flag is used to flag if the vechile had a conection to the service during payment, this information is unnessacy."
   ]
  },
  {
   "cell_type": "code",
   "execution_count": 3,
   "metadata": {},
   "outputs": [],
   "source": [
    "sdf = sdf.drop(\"VendorID\", \"RatecodeID\", \"store_and_fwd_flag\")"
   ]
  },
  {
   "cell_type": "markdown",
   "metadata": {},
   "source": [
    "### Combined columns"
   ]
  },
  {
   "cell_type": "markdown",
   "metadata": {},
   "source": [
    "improvement_surcharge, mta_tax, extra, tolls_amount, airport_fee and congestion_surcharge are all various surcharges applied to the total fee to the customer. These on their own dont hold alot of information but the total will be kept."
   ]
  },
  {
   "cell_type": "code",
   "execution_count": 4,
   "metadata": {},
   "outputs": [],
   "source": [
    "from pyspark.sql.functions import *\n",
    "sdf = sdf.na.fill(value=0,subset=[\"congestion_surcharge\", \"airport_fee\"])\n",
    "sdf = sdf.withColumn('surchange_amount', col(\"improvement_surcharge\") + col(\"mta_tax\") + col(\"extra\") + col(\"tolls_amount\") + col(\"airport_fee\") + col(\"congestion_surcharge\"))\n",
    "sdf = sdf.drop(\"extra\", \"mta_tax\", \"improvement_surcharge\", \"congestion_surcharge\", \"tolls_amount\", \"airport_fee\")"
   ]
  },
  {
   "cell_type": "markdown",
   "metadata": {},
   "source": [
    "### Renaming records"
   ]
  },
  {
   "cell_type": "code",
   "execution_count": 5,
   "metadata": {},
   "outputs": [],
   "source": [
    "sdf = sdf.withColumnRenamed(\"tpep_pickup_datetime\", \"pickup_time\")\n",
    "sdf = sdf.withColumnRenamed(\"tpep_dropoff_datetime\", \"dropoff_time\")\n",
    "sdf = sdf.withColumnRenamed(\"PULocationID\", \"pick_up_location\")\n",
    "sdf = sdf.withColumnRenamed(\"DOLocationID\", \"drop_off_location\")"
   ]
  },
  {
   "cell_type": "markdown",
   "metadata": {},
   "source": [
    "### Converting units"
   ]
  },
  {
   "cell_type": "markdown",
   "metadata": {},
   "source": [
    "The trip_distance is set to miles (imperial), thus for ease of analysis, this will be set to kilometres (metric)"
   ]
  },
  {
   "cell_type": "code",
   "execution_count": 6,
   "metadata": {},
   "outputs": [],
   "source": [
    "sdf = sdf.withColumn(\"trip_distance\", round(col(\"trip_distance\") * 1.60934, 3)) "
   ]
  },
  {
   "cell_type": "markdown",
   "metadata": {},
   "source": [
    "### Adding Trip duration (in minutes)"
   ]
  },
  {
   "cell_type": "markdown",
   "metadata": {},
   "source": [
    "As there are time stamps of the pickup an dropoff times, it may be handy to look into aspects affecting the duration of the trip, thus we will add a column for total duration in minutes:"
   ]
  },
  {
   "cell_type": "code",
   "execution_count": 7,
   "metadata": {},
   "outputs": [],
   "source": [
    "from pyspark.sql.functions import *\n",
    "sdf = sdf.withColumn('trip_time_sec',unix_timestamp(\"dropoff_time\") - unix_timestamp('pickup_time'))\n",
    "sdf = sdf.withColumn('trip_time_min', round(col('trip_time_sec') / 60, 3))\n",
    "sdf = sdf.drop('trip_time_sec')"
   ]
  },
  {
   "cell_type": "markdown",
   "metadata": {},
   "source": [
    "### Changing Passenger count to integer type"
   ]
  },
  {
   "cell_type": "code",
   "execution_count": 8,
   "metadata": {},
   "outputs": [
    {
     "name": "stderr",
     "output_type": "stream",
     "text": [
      "                                                                                \r"
     ]
    },
    {
     "data": {
      "text/html": [
       "<table border='1'>\n",
       "<tr><th>pickup_time</th><th>dropoff_time</th><th>passenger_count</th><th>trip_distance</th><th>pick_up_location</th><th>drop_off_location</th><th>payment_type</th><th>fare_amount</th><th>tip_amount</th><th>total_amount</th><th>surchange_amount</th><th>trip_time_min</th></tr>\n",
       "<tr><td>2019-01-01 11:46:40</td><td>2019-01-01 11:53:20</td><td>1</td><td>2.414</td><td>151</td><td>239</td><td>1</td><td>7.0</td><td>1.65</td><td>9.95</td><td>1.3</td><td>6.667</td></tr>\n",
       "<tr><td>2019-01-01 11:59:47</td><td>2019-01-01 12:18:59</td><td>1</td><td>4.184</td><td>239</td><td>246</td><td>1</td><td>14.0</td><td>1.0</td><td>16.3</td><td>1.3</td><td>19.2</td></tr>\n",
       "<tr><td>2018-12-22 00:48:30</td><td>2018-12-22 00:52:40</td><td>3</td><td>0.0</td><td>236</td><td>236</td><td>1</td><td>4.5</td><td>0.0</td><td>5.8</td><td>1.3</td><td>4.167</td></tr>\n",
       "<tr><td>2018-11-29 02:52:25</td><td>2018-11-29 02:55:45</td><td>5</td><td>0.0</td><td>193</td><td>193</td><td>2</td><td>3.5</td><td>0.0</td><td>7.55</td><td>1.3</td><td>3.333</td></tr>\n",
       "<tr><td>2018-11-29 02:56:57</td><td>2018-11-29 02:58:33</td><td>5</td><td>0.0</td><td>193</td><td>193</td><td>2</td><td>52.0</td><td>0.0</td><td>55.55</td><td>0.8</td><td>1.6</td></tr>\n",
       "<tr><td>2018-11-29 03:25:49</td><td>2018-11-29 03:28:26</td><td>5</td><td>0.0</td><td>193</td><td>193</td><td>2</td><td>3.5</td><td>0.0</td><td>13.31</td><td>7.06</td><td>2.617</td></tr>\n",
       "<tr><td>2018-11-29 03:29:37</td><td>2018-11-29 03:33:43</td><td>5</td><td>0.0</td><td>193</td><td>193</td><td>2</td><td>52.0</td><td>0.0</td><td>55.55</td><td>0.8</td><td>4.1</td></tr>\n",
       "<tr><td>2019-01-01 11:21:28</td><td>2019-01-01 11:28:37</td><td>1</td><td>2.092</td><td>163</td><td>229</td><td>1</td><td>6.5</td><td>1.25</td><td>9.05</td><td>1.3</td><td>7.15</td></tr>\n",
       "<tr><td>2019-01-01 11:32:01</td><td>2019-01-01 11:45:39</td><td>1</td><td>5.955</td><td>229</td><td>7</td><td>1</td><td>13.5</td><td>3.7</td><td>18.5</td><td>1.3</td><td>13.633</td></tr>\n",
       "<tr><td>2019-01-01 11:57:32</td><td>2019-01-01 12:09:32</td><td>2</td><td>3.38</td><td>141</td><td>234</td><td>1</td><td>10.0</td><td>1.7</td><td>13.0</td><td>1.3</td><td>12.0</td></tr>\n",
       "<tr><td>2019-01-01 11:24:04</td><td>2019-01-01 11:47:06</td><td>2</td><td>4.506</td><td>246</td><td>162</td><td>1</td><td>15.0</td><td>3.25</td><td>19.55</td><td>1.3</td><td>23.033</td></tr>\n",
       "<tr><td>2019-01-01 11:21:59</td><td>2019-01-01 11:28:24</td><td>1</td><td>1.127</td><td>238</td><td>151</td><td>1</td><td>5.5</td><td>1.7</td><td>8.5</td><td>1.3</td><td>6.417</td></tr>\n",
       "<tr><td>2019-01-01 11:45:21</td><td>2019-01-01 12:31:05</td><td>1</td><td>14.001</td><td>163</td><td>25</td><td>1</td><td>34.5</td><td>7.15</td><td>42.95</td><td>1.3</td><td>45.733</td></tr>\n",
       "<tr><td>2019-01-01 11:43:19</td><td>2019-01-01 12:07:42</td><td>1</td><td>10.139</td><td>224</td><td>25</td><td>1</td><td>21.5</td><td>5.7</td><td>28.5</td><td>1.3</td><td>24.383</td></tr>\n",
       "<tr><td>2019-01-01 11:58:24</td><td>2019-01-01 12:15:18</td><td>1</td><td>4.345</td><td>141</td><td>234</td><td>1</td><td>13.0</td><td>1.0</td><td>15.3</td><td>1.3</td><td>16.9</td></tr>\n",
       "<tr><td>2019-01-01 11:23:14</td><td>2019-01-01 11:25:40</td><td>1</td><td>0.612</td><td>170</td><td>170</td><td>2</td><td>3.5</td><td>0.0</td><td>4.8</td><td>1.3</td><td>2.433</td></tr>\n",
       "<tr><td>2019-01-01 11:39:51</td><td>2019-01-01 11:48:02</td><td>1</td><td>0.885</td><td>170</td><td>170</td><td>1</td><td>6.5</td><td>1.95</td><td>9.75</td><td>1.3</td><td>8.183</td></tr>\n",
       "<tr><td>2019-01-01 11:46:00</td><td>2019-01-01 11:49:07</td><td>1</td><td>0.483</td><td>107</td><td>107</td><td>1</td><td>4.0</td><td>1.06</td><td>6.36</td><td>1.3</td><td>3.117</td></tr>\n",
       "<tr><td>2019-01-01 11:57:45</td><td>2019-01-01 12:03:51</td><td>1</td><td>2.285</td><td>170</td><td>141</td><td>1</td><td>6.5</td><td>1.56</td><td>9.36</td><td>1.3</td><td>6.1</td></tr>\n",
       "<tr><td>2019-01-01 11:16:16</td><td>2019-01-01 11:25:57</td><td>1</td><td>2.768</td><td>41</td><td>247</td><td>2</td><td>9.0</td><td>0.0</td><td>10.3</td><td>1.3</td><td>9.683</td></tr>\n",
       "</table>\n",
       "only showing top 20 rows\n"
      ],
      "text/plain": [
       "+-------------------+-------------------+---------------+-------------+----------------+-----------------+------------+-----------+----------+------------+----------------+-------------+\n",
       "|        pickup_time|       dropoff_time|passenger_count|trip_distance|pick_up_location|drop_off_location|payment_type|fare_amount|tip_amount|total_amount|surchange_amount|trip_time_min|\n",
       "+-------------------+-------------------+---------------+-------------+----------------+-----------------+------------+-----------+----------+------------+----------------+-------------+\n",
       "|2019-01-01 11:46:40|2019-01-01 11:53:20|              1|        2.414|             151|              239|           1|        7.0|      1.65|        9.95|             1.3|        6.667|\n",
       "|2019-01-01 11:59:47|2019-01-01 12:18:59|              1|        4.184|             239|              246|           1|       14.0|       1.0|        16.3|             1.3|         19.2|\n",
       "|2018-12-22 00:48:30|2018-12-22 00:52:40|              3|          0.0|             236|              236|           1|        4.5|       0.0|         5.8|             1.3|        4.167|\n",
       "|2018-11-29 02:52:25|2018-11-29 02:55:45|              5|          0.0|             193|              193|           2|        3.5|       0.0|        7.55|             1.3|        3.333|\n",
       "|2018-11-29 02:56:57|2018-11-29 02:58:33|              5|          0.0|             193|              193|           2|       52.0|       0.0|       55.55|             0.8|          1.6|\n",
       "|2018-11-29 03:25:49|2018-11-29 03:28:26|              5|          0.0|             193|              193|           2|        3.5|       0.0|       13.31|            7.06|        2.617|\n",
       "|2018-11-29 03:29:37|2018-11-29 03:33:43|              5|          0.0|             193|              193|           2|       52.0|       0.0|       55.55|             0.8|          4.1|\n",
       "|2019-01-01 11:21:28|2019-01-01 11:28:37|              1|        2.092|             163|              229|           1|        6.5|      1.25|        9.05|             1.3|         7.15|\n",
       "|2019-01-01 11:32:01|2019-01-01 11:45:39|              1|        5.955|             229|                7|           1|       13.5|       3.7|        18.5|             1.3|       13.633|\n",
       "|2019-01-01 11:57:32|2019-01-01 12:09:32|              2|         3.38|             141|              234|           1|       10.0|       1.7|        13.0|             1.3|         12.0|\n",
       "|2019-01-01 11:24:04|2019-01-01 11:47:06|              2|        4.506|             246|              162|           1|       15.0|      3.25|       19.55|             1.3|       23.033|\n",
       "|2019-01-01 11:21:59|2019-01-01 11:28:24|              1|        1.127|             238|              151|           1|        5.5|       1.7|         8.5|             1.3|        6.417|\n",
       "|2019-01-01 11:45:21|2019-01-01 12:31:05|              1|       14.001|             163|               25|           1|       34.5|      7.15|       42.95|             1.3|       45.733|\n",
       "|2019-01-01 11:43:19|2019-01-01 12:07:42|              1|       10.139|             224|               25|           1|       21.5|       5.7|        28.5|             1.3|       24.383|\n",
       "|2019-01-01 11:58:24|2019-01-01 12:15:18|              1|        4.345|             141|              234|           1|       13.0|       1.0|        15.3|             1.3|         16.9|\n",
       "|2019-01-01 11:23:14|2019-01-01 11:25:40|              1|        0.612|             170|              170|           2|        3.5|       0.0|         4.8|             1.3|        2.433|\n",
       "|2019-01-01 11:39:51|2019-01-01 11:48:02|              1|        0.885|             170|              170|           1|        6.5|      1.95|        9.75|             1.3|        8.183|\n",
       "|2019-01-01 11:46:00|2019-01-01 11:49:07|              1|        0.483|             107|              107|           1|        4.0|      1.06|        6.36|             1.3|        3.117|\n",
       "|2019-01-01 11:57:45|2019-01-01 12:03:51|              1|        2.285|             170|              141|           1|        6.5|      1.56|        9.36|             1.3|          6.1|\n",
       "|2019-01-01 11:16:16|2019-01-01 11:25:57|              1|        2.768|              41|              247|           2|        9.0|       0.0|        10.3|             1.3|        9.683|\n",
       "+-------------------+-------------------+---------------+-------------+----------------+-----------------+------------+-----------+----------+------------+----------------+-------------+\n",
       "only showing top 20 rows"
      ]
     },
     "execution_count": 8,
     "metadata": {},
     "output_type": "execute_result"
    }
   ],
   "source": [
    "sdf = sdf.withColumn('passenger_count', sdf.passenger_count.cast('int'))\n",
    "sdf"
   ]
  },
  {
   "cell_type": "markdown",
   "metadata": {},
   "source": [
    "### Invalidating data:\n",
    "#### passenger_count:"
   ]
  },
  {
   "cell_type": "code",
   "execution_count": 9,
   "metadata": {},
   "outputs": [
    {
     "name": "stdout",
     "output_type": "stream",
     "text": [
      "+---------------+-------+\n",
      "|passenger_count|  count|\n",
      "+---------------+-------+\n",
      "|           null|  28672|\n",
      "|              1|5456515|\n",
      "|              6| 200811|\n",
      "|              3| 314692|\n",
      "|              5| 323842|\n",
      "|              9|      9|\n",
      "|              4| 140753|\n",
      "|              8|     29|\n",
      "|              7|     19|\n",
      "|              2|1113894|\n",
      "|              0| 117381|\n",
      "+---------------+-------+\n",
      "\n"
     ]
    },
    {
     "name": "stderr",
     "output_type": "stream",
     "text": [
      "                                                                                \r"
     ]
    }
   ],
   "source": [
    "#sdf.select(max('passenger_count'), min('passenger_count'))\n",
    "sdf.groupBy('passenger_count').count().show()"
   ]
  },
  {
   "cell_type": "markdown",
   "metadata": {},
   "source": [
    "As the reasonable minimum nuber of passengers is 1, For yellow taxis in NYC the maximum legal number of passengers is 5, thus we will onyl keep instances between 1 and 5 passengers:"
   ]
  },
  {
   "cell_type": "code",
   "execution_count": 10,
   "metadata": {},
   "outputs": [],
   "source": [
    "sdf = sdf.filter(sdf.passenger_count > 0)\n",
    "sdf = sdf.filter(sdf.passenger_count < 6)"
   ]
  },
  {
   "cell_type": "markdown",
   "metadata": {},
   "source": [
    "#### pickup/dropoff time:\n",
    "ensuring all data comes from the same month"
   ]
  },
  {
   "cell_type": "code",
   "execution_count": 11,
   "metadata": {},
   "outputs": [],
   "source": [
    "sdf = sdf.filter(sdf.pickup_time >= '2019-01-01 00:00:00')\n",
    "sdf = sdf.filter(sdf.pickup_time < '2019-02-01 00:00:00')\n",
    "sdf = sdf.filter(sdf.dropoff_time >= '2019-01-01 00:00:00')\n",
    "sdf = sdf.filter(sdf.dropoff_time < '2019-02-01 00:00:00')\n"
   ]
  },
  {
   "cell_type": "markdown",
   "metadata": {},
   "source": [
    "#### Trip_distance:"
   ]
  },
  {
   "cell_type": "code",
   "execution_count": 12,
   "metadata": {},
   "outputs": [
    {
     "name": "stderr",
     "output_type": "stream",
     "text": [
      "                                                                                \r"
     ]
    },
    {
     "name": "stdout",
     "output_type": "stream",
     "text": [
      "+------------------+\n",
      "|max(trip_distance)|\n",
      "+------------------+\n",
      "|          1338.649|\n",
      "+------------------+\n",
      "\n"
     ]
    },
    {
     "name": "stderr",
     "output_type": "stream",
     "text": [
      "[Stage 14:==================================================>       (7 + 1) / 8]\r"
     ]
    },
    {
     "name": "stdout",
     "output_type": "stream",
     "text": [
      "+------------------+\n",
      "|min(trip_distance)|\n",
      "+------------------+\n",
      "|               0.0|\n",
      "+------------------+\n",
      "\n"
     ]
    },
    {
     "name": "stderr",
     "output_type": "stream",
     "text": [
      "                                                                                \r"
     ]
    }
   ],
   "source": [
    "print(sdf.agg({'trip_distance': 'max'}))\n",
    "print(sdf.agg({'trip_distance': 'min'}))"
   ]
  },
  {
   "cell_type": "markdown",
   "metadata": {},
   "source": [
    "As New York from north to south is approximately 500km long, we will set that as the upper bound of acceptable taxi trip distances, and of course all non-zero/negative values as the lower bound:"
   ]
  },
  {
   "cell_type": "code",
   "execution_count": 13,
   "metadata": {},
   "outputs": [],
   "source": [
    "sdf = sdf.filter(sdf.trip_distance > 0)\n",
    "sdf = sdf.filter(sdf.trip_distance < 500)"
   ]
  },
  {
   "cell_type": "markdown",
   "metadata": {},
   "source": [
    "### Total_amount:"
   ]
  },
  {
   "cell_type": "code",
   "execution_count": 14,
   "metadata": {},
   "outputs": [
    {
     "name": "stderr",
     "output_type": "stream",
     "text": [
      "                                                                                \r"
     ]
    },
    {
     "name": "stdout",
     "output_type": "stream",
     "text": [
      "+-----------------+\n",
      "|max(total_amount)|\n",
      "+-----------------+\n",
      "|        623261.66|\n",
      "+-----------------+\n",
      "\n"
     ]
    },
    {
     "name": "stderr",
     "output_type": "stream",
     "text": [
      "[Stage 20:==================================================>       (7 + 1) / 8]\r"
     ]
    },
    {
     "name": "stdout",
     "output_type": "stream",
     "text": [
      "+-----------------+\n",
      "|min(total_amount)|\n",
      "+-----------------+\n",
      "|           -322.3|\n",
      "+-----------------+\n",
      "\n"
     ]
    },
    {
     "name": "stderr",
     "output_type": "stream",
     "text": [
      "                                                                                \r"
     ]
    }
   ],
   "source": [
    "print(sdf.agg({'total_amount': 'max'}))\n",
    "print(sdf.agg({'total_amount': 'min'}))"
   ]
  },
  {
   "cell_type": "code",
   "execution_count": 15,
   "metadata": {},
   "outputs": [
    {
     "name": "stderr",
     "output_type": "stream",
     "text": [
      "                                                                                \r"
     ]
    },
    {
     "data": {
      "text/plain": [
       "5"
      ]
     },
     "execution_count": 15,
     "metadata": {},
     "output_type": "execute_result"
    }
   ],
   "source": [
    "sdf.where(sdf.total_amount > 1000).count()\n"
   ]
  },
  {
   "cell_type": "markdown",
   "metadata": {},
   "source": [
    "Given that there is only 5 instances of a taxi charging more than $1000, we will set this as our reasonable upper bound to prevent outliers which are most likely errors, additionally any negative totals will be removed as they are clear errors."
   ]
  },
  {
   "cell_type": "code",
   "execution_count": 16,
   "metadata": {},
   "outputs": [],
   "source": [
    "sdf = sdf.filter(sdf.total_amount > 0)\n",
    "sdf = sdf.filter(sdf.total_amount < 1000)"
   ]
  },
  {
   "cell_type": "markdown",
   "metadata": {},
   "source": [
    "#### Trip_time:"
   ]
  },
  {
   "cell_type": "code",
   "execution_count": 17,
   "metadata": {},
   "outputs": [
    {
     "name": "stderr",
     "output_type": "stream",
     "text": [
      "                                                                                \r"
     ]
    },
    {
     "name": "stdout",
     "output_type": "stream",
     "text": [
      "+------------------+\n",
      "|max(trip_time_min)|\n",
      "+------------------+\n",
      "|         33856.683|\n",
      "+------------------+\n",
      "\n"
     ]
    },
    {
     "name": "stderr",
     "output_type": "stream",
     "text": [
      "[Stage 29:==================================================>       (7 + 1) / 8]\r"
     ]
    },
    {
     "name": "stdout",
     "output_type": "stream",
     "text": [
      "+------------------+\n",
      "|min(trip_time_min)|\n",
      "+------------------+\n",
      "|         -2838.233|\n",
      "+------------------+\n",
      "\n"
     ]
    },
    {
     "name": "stderr",
     "output_type": "stream",
     "text": [
      "                                                                                \r"
     ]
    }
   ],
   "source": [
    "print(sdf.agg({'trip_time_min': 'max'}))\n",
    "print(sdf.agg({'trip_time_min': 'min'}))"
   ]
  },
  {
   "cell_type": "markdown",
   "metadata": {},
   "source": [
    "Based on the reasonable maximum travel diatance of 500km, we assume an average travel speed of 60km/h (condering traffic as well as highways) which is exacly 8 hours and 20 mins (500mins), thus we can set this as the reasonable upper bound and 0 as the reasonable lower bound"
   ]
  },
  {
   "cell_type": "code",
   "execution_count": 18,
   "metadata": {},
   "outputs": [],
   "source": [
    "sdf = sdf.filter(sdf.trip_time_min > 0)\n",
    "sdf = sdf.filter(sdf.trip_time_min < 500)"
   ]
  },
  {
   "cell_type": "code",
   "execution_count": 19,
   "metadata": {},
   "outputs": [
    {
     "name": "stderr",
     "output_type": "stream",
     "text": [
      "                                                                                \r"
     ]
    },
    {
     "data": {
      "text/plain": [
       "7102174"
      ]
     },
     "execution_count": 19,
     "metadata": {},
     "output_type": "execute_result"
    }
   ],
   "source": [
    "sdf.count()"
   ]
  },
  {
   "cell_type": "code",
   "execution_count": 20,
   "metadata": {},
   "outputs": [
    {
     "data": {
      "text/html": [
       "<table border='1'>\n",
       "<tr><th>pickup_time</th><th>dropoff_time</th><th>passenger_count</th><th>trip_distance</th><th>pick_up_location</th><th>drop_off_location</th><th>payment_type</th><th>fare_amount</th><th>tip_amount</th><th>total_amount</th><th>surchange_amount</th><th>trip_time_min</th></tr>\n",
       "<tr><td>2019-01-01 11:46:40</td><td>2019-01-01 11:53:20</td><td>1</td><td>2.414</td><td>151</td><td>239</td><td>1</td><td>7.0</td><td>1.65</td><td>9.95</td><td>1.3</td><td>6.667</td></tr>\n",
       "<tr><td>2019-01-01 11:59:47</td><td>2019-01-01 12:18:59</td><td>1</td><td>4.184</td><td>239</td><td>246</td><td>1</td><td>14.0</td><td>1.0</td><td>16.3</td><td>1.3</td><td>19.2</td></tr>\n",
       "<tr><td>2019-01-01 11:21:28</td><td>2019-01-01 11:28:37</td><td>1</td><td>2.092</td><td>163</td><td>229</td><td>1</td><td>6.5</td><td>1.25</td><td>9.05</td><td>1.3</td><td>7.15</td></tr>\n",
       "<tr><td>2019-01-01 11:32:01</td><td>2019-01-01 11:45:39</td><td>1</td><td>5.955</td><td>229</td><td>7</td><td>1</td><td>13.5</td><td>3.7</td><td>18.5</td><td>1.3</td><td>13.633</td></tr>\n",
       "<tr><td>2019-01-01 11:57:32</td><td>2019-01-01 12:09:32</td><td>2</td><td>3.38</td><td>141</td><td>234</td><td>1</td><td>10.0</td><td>1.7</td><td>13.0</td><td>1.3</td><td>12.0</td></tr>\n",
       "<tr><td>2019-01-01 11:24:04</td><td>2019-01-01 11:47:06</td><td>2</td><td>4.506</td><td>246</td><td>162</td><td>1</td><td>15.0</td><td>3.25</td><td>19.55</td><td>1.3</td><td>23.033</td></tr>\n",
       "<tr><td>2019-01-01 11:21:59</td><td>2019-01-01 11:28:24</td><td>1</td><td>1.127</td><td>238</td><td>151</td><td>1</td><td>5.5</td><td>1.7</td><td>8.5</td><td>1.3</td><td>6.417</td></tr>\n",
       "<tr><td>2019-01-01 11:45:21</td><td>2019-01-01 12:31:05</td><td>1</td><td>14.001</td><td>163</td><td>25</td><td>1</td><td>34.5</td><td>7.15</td><td>42.95</td><td>1.3</td><td>45.733</td></tr>\n",
       "<tr><td>2019-01-01 11:43:19</td><td>2019-01-01 12:07:42</td><td>1</td><td>10.139</td><td>224</td><td>25</td><td>1</td><td>21.5</td><td>5.7</td><td>28.5</td><td>1.3</td><td>24.383</td></tr>\n",
       "<tr><td>2019-01-01 11:58:24</td><td>2019-01-01 12:15:18</td><td>1</td><td>4.345</td><td>141</td><td>234</td><td>1</td><td>13.0</td><td>1.0</td><td>15.3</td><td>1.3</td><td>16.9</td></tr>\n",
       "<tr><td>2019-01-01 11:23:14</td><td>2019-01-01 11:25:40</td><td>1</td><td>0.612</td><td>170</td><td>170</td><td>2</td><td>3.5</td><td>0.0</td><td>4.8</td><td>1.3</td><td>2.433</td></tr>\n",
       "<tr><td>2019-01-01 11:39:51</td><td>2019-01-01 11:48:02</td><td>1</td><td>0.885</td><td>170</td><td>170</td><td>1</td><td>6.5</td><td>1.95</td><td>9.75</td><td>1.3</td><td>8.183</td></tr>\n",
       "<tr><td>2019-01-01 11:46:00</td><td>2019-01-01 11:49:07</td><td>1</td><td>0.483</td><td>107</td><td>107</td><td>1</td><td>4.0</td><td>1.06</td><td>6.36</td><td>1.3</td><td>3.117</td></tr>\n",
       "<tr><td>2019-01-01 11:57:45</td><td>2019-01-01 12:03:51</td><td>1</td><td>2.285</td><td>170</td><td>141</td><td>1</td><td>6.5</td><td>1.56</td><td>9.36</td><td>1.3</td><td>6.1</td></tr>\n",
       "<tr><td>2019-01-01 11:16:16</td><td>2019-01-01 11:25:57</td><td>1</td><td>2.768</td><td>41</td><td>247</td><td>2</td><td>9.0</td><td>0.0</td><td>10.3</td><td>1.3</td><td>9.683</td></tr>\n",
       "<tr><td>2019-01-01 11:46:43</td><td>2019-01-01 11:47:02</td><td>1</td><td>0.097</td><td>116</td><td>42</td><td>2</td><td>2.5</td><td>0.0</td><td>3.8</td><td>1.3</td><td>0.317</td></tr>\n",
       "<tr><td>2019-01-01 11:48:01</td><td>2019-01-01 12:00:23</td><td>1</td><td>2.414</td><td>113</td><td>90</td><td>2</td><td>7.5</td><td>0.0</td><td>8.8</td><td>1.3</td><td>12.367</td></tr>\n",
       "<tr><td>2019-01-01 11:55:27</td><td>2019-01-01 12:11:50</td><td>1</td><td>1.931</td><td>161</td><td>170</td><td>1</td><td>10.5</td><td>2.95</td><td>14.75</td><td>1.3</td><td>16.383</td></tr>\n",
       "<tr><td>2019-01-01 11:19:55</td><td>2019-01-01 11:57:56</td><td>1</td><td>19.795</td><td>138</td><td>50</td><td>1</td><td>38.0</td><td>4.0</td><td>49.06</td><td>7.06</td><td>38.017</td></tr>\n",
       "<tr><td>2019-01-01 11:13:53</td><td>2019-01-01 11:22:11</td><td>1</td><td>2.092</td><td>144</td><td>261</td><td>2</td><td>7.5</td><td>0.0</td><td>8.8</td><td>1.3</td><td>8.3</td></tr>\n",
       "</table>\n",
       "only showing top 20 rows\n"
      ],
      "text/plain": [
       "+-------------------+-------------------+---------------+-------------+----------------+-----------------+------------+-----------+----------+------------+----------------+-------------+\n",
       "|        pickup_time|       dropoff_time|passenger_count|trip_distance|pick_up_location|drop_off_location|payment_type|fare_amount|tip_amount|total_amount|surchange_amount|trip_time_min|\n",
       "+-------------------+-------------------+---------------+-------------+----------------+-----------------+------------+-----------+----------+------------+----------------+-------------+\n",
       "|2019-01-01 11:46:40|2019-01-01 11:53:20|              1|        2.414|             151|              239|           1|        7.0|      1.65|        9.95|             1.3|        6.667|\n",
       "|2019-01-01 11:59:47|2019-01-01 12:18:59|              1|        4.184|             239|              246|           1|       14.0|       1.0|        16.3|             1.3|         19.2|\n",
       "|2019-01-01 11:21:28|2019-01-01 11:28:37|              1|        2.092|             163|              229|           1|        6.5|      1.25|        9.05|             1.3|         7.15|\n",
       "|2019-01-01 11:32:01|2019-01-01 11:45:39|              1|        5.955|             229|                7|           1|       13.5|       3.7|        18.5|             1.3|       13.633|\n",
       "|2019-01-01 11:57:32|2019-01-01 12:09:32|              2|         3.38|             141|              234|           1|       10.0|       1.7|        13.0|             1.3|         12.0|\n",
       "|2019-01-01 11:24:04|2019-01-01 11:47:06|              2|        4.506|             246|              162|           1|       15.0|      3.25|       19.55|             1.3|       23.033|\n",
       "|2019-01-01 11:21:59|2019-01-01 11:28:24|              1|        1.127|             238|              151|           1|        5.5|       1.7|         8.5|             1.3|        6.417|\n",
       "|2019-01-01 11:45:21|2019-01-01 12:31:05|              1|       14.001|             163|               25|           1|       34.5|      7.15|       42.95|             1.3|       45.733|\n",
       "|2019-01-01 11:43:19|2019-01-01 12:07:42|              1|       10.139|             224|               25|           1|       21.5|       5.7|        28.5|             1.3|       24.383|\n",
       "|2019-01-01 11:58:24|2019-01-01 12:15:18|              1|        4.345|             141|              234|           1|       13.0|       1.0|        15.3|             1.3|         16.9|\n",
       "|2019-01-01 11:23:14|2019-01-01 11:25:40|              1|        0.612|             170|              170|           2|        3.5|       0.0|         4.8|             1.3|        2.433|\n",
       "|2019-01-01 11:39:51|2019-01-01 11:48:02|              1|        0.885|             170|              170|           1|        6.5|      1.95|        9.75|             1.3|        8.183|\n",
       "|2019-01-01 11:46:00|2019-01-01 11:49:07|              1|        0.483|             107|              107|           1|        4.0|      1.06|        6.36|             1.3|        3.117|\n",
       "|2019-01-01 11:57:45|2019-01-01 12:03:51|              1|        2.285|             170|              141|           1|        6.5|      1.56|        9.36|             1.3|          6.1|\n",
       "|2019-01-01 11:16:16|2019-01-01 11:25:57|              1|        2.768|              41|              247|           2|        9.0|       0.0|        10.3|             1.3|        9.683|\n",
       "|2019-01-01 11:46:43|2019-01-01 11:47:02|              1|        0.097|             116|               42|           2|        2.5|       0.0|         3.8|             1.3|        0.317|\n",
       "|2019-01-01 11:48:01|2019-01-01 12:00:23|              1|        2.414|             113|               90|           2|        7.5|       0.0|         8.8|             1.3|       12.367|\n",
       "|2019-01-01 11:55:27|2019-01-01 12:11:50|              1|        1.931|             161|              170|           1|       10.5|      2.95|       14.75|             1.3|       16.383|\n",
       "|2019-01-01 11:19:55|2019-01-01 11:57:56|              1|       19.795|             138|               50|           1|       38.0|       4.0|       49.06|            7.06|       38.017|\n",
       "|2019-01-01 11:13:53|2019-01-01 11:22:11|              1|        2.092|             144|              261|           2|        7.5|       0.0|         8.8|             1.3|          8.3|\n",
       "+-------------------+-------------------+---------------+-------------+----------------+-----------------+------------+-----------+----------+------------+----------------+-------------+\n",
       "only showing top 20 rows"
      ]
     },
     "execution_count": 20,
     "metadata": {},
     "output_type": "execute_result"
    },
    {
     "name": "stdout",
     "output_type": "stream",
     "text": [
      "22/08/01 22:27:46 WARN HeartbeatReceiver: Removing executor driver with no recent heartbeats: 308196 ms exceeds timeout 120000 ms\n",
      "22/08/01 22:27:46 WARN SparkContext: Killing executors is not supported by current scheduler.\n"
     ]
    }
   ],
   "source": [
    "sdf\n"
   ]
  },
  {
   "cell_type": "code",
   "execution_count": null,
   "metadata": {},
   "outputs": [],
   "source": []
  }
 ],
 "metadata": {
  "interpreter": {
   "hash": "863906e9a4165d4738736793daf13ef61aad6cfe5622e28d202ed76ed0afc263"
  },
  "kernelspec": {
   "display_name": "Python 3.9.7 ('base')",
   "language": "python",
   "name": "python3"
  },
  "language_info": {
   "codemirror_mode": {
    "name": "ipython",
    "version": 3
   },
   "file_extension": ".py",
   "mimetype": "text/x-python",
   "name": "python",
   "nbconvert_exporter": "python",
   "pygments_lexer": "ipython3",
   "version": "3.9.7"
  },
  "orig_nbformat": 4
 },
 "nbformat": 4,
 "nbformat_minor": 2
}
