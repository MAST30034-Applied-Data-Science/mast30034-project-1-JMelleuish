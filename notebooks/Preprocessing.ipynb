{
 "cells": [
  {
   "cell_type": "markdown",
   "metadata": {},
   "source": [
    "# MAST30034 Project 1\n",
    "## Preprocessing"
   ]
  },
  {
   "cell_type": "markdown",
   "metadata": {},
   "source": [
    "Potential questions:\n",
    "How big of an impact do tourists have on taxi revenue?"
   ]
  },
  {
   "cell_type": "code",
   "execution_count": 1,
   "metadata": {},
   "outputs": [
    {
     "name": "stderr",
     "output_type": "stream",
     "text": [
      "Setting default log level to \"WARN\".\n",
      "To adjust logging level use sc.setLogLevel(newLevel). For SparkR, use setLogLevel(newLevel).\n"
     ]
    },
    {
     "name": "stdout",
     "output_type": "stream",
     "text": [
      "22/07/27 20:10:14 WARN NativeCodeLoader: Unable to load native-hadoop library for your platform... using builtin-java classes where applicable\n"
     ]
    }
   ],
   "source": [
    "from pyspark.sql import SparkSession\n",
    "\n",
    "# Create a spark session (which will run spark jobs)\n",
    "spark = (\n",
    "    SparkSession.builder.appName(\"Project 1 - Preprocessing\")\n",
    "    .config(\"spark.sql.repl.eagerEval.enabled\", True) \n",
    "    .config(\"spark.sql.parquet.cacheMetadata\", \"true\")\n",
    "    .getOrCreate()\n",
    ")"
   ]
  },
  {
   "cell_type": "code",
   "execution_count": 2,
   "metadata": {},
   "outputs": [
    {
     "name": "stderr",
     "output_type": "stream",
     "text": [
      "                                                                                \r"
     ]
    },
    {
     "name": "stdout",
     "output_type": "stream",
     "text": [
      "-RECORD 0------------------------------------\n",
      " VendorID              | 1                   \n",
      " tpep_pickup_datetime  | 2019-01-01 11:46:40 \n",
      " tpep_dropoff_datetime | 2019-01-01 11:53:20 \n",
      " passenger_count       | 1.0                 \n",
      " trip_distance         | 1.5                 \n",
      " RatecodeID            | 1.0                 \n",
      " store_and_fwd_flag    | N                   \n",
      " PULocationID          | 151                 \n",
      " DOLocationID          | 239                 \n",
      " payment_type          | 1                   \n",
      " fare_amount           | 7.0                 \n",
      " extra                 | 0.5                 \n",
      " mta_tax               | 0.5                 \n",
      " tip_amount            | 1.65                \n",
      " tolls_amount          | 0.0                 \n",
      " improvement_surcharge | 0.3                 \n",
      " total_amount          | 9.95                \n",
      " congestion_surcharge  | null                \n",
      " airport_fee           | null                \n",
      "only showing top 1 row\n",
      "\n"
     ]
    },
    {
     "name": "stderr",
     "output_type": "stream",
     "text": [
      "                                                                                \r"
     ]
    }
   ],
   "source": [
    "sdf = spark.read.parquet('P1 Data/yellow_tripdata_2019-01 (1).parquet')\n",
    "sdf.show(1, vertical=True, truncate=100)"
   ]
  },
  {
   "cell_type": "markdown",
   "metadata": {},
   "source": [
    "### Dropped Columns:"
   ]
  },
  {
   "cell_type": "markdown",
   "metadata": {},
   "source": [
    "VendorID is used to indicate the provider who indicated the record, this inforation is not nesscary to know for this project as it has no effect of the taxis themselves. \n",
    "\n",
    "RatecodeID is used to indicate the kind of rate used (to calculate payment) during the ride. This is unescary information due to other columns.\n",
    "\n",
    "store_and_fwd_flag is used to flag if the vechile had a conection to the service during payment, this information is unnessacy."
   ]
  },
  {
   "cell_type": "code",
   "execution_count": 3,
   "metadata": {},
   "outputs": [],
   "source": [
    "sdf = sdf.drop(\"VendorID\", \"RatecodeID\", \"store_and_fwd_flag\")"
   ]
  },
  {
   "cell_type": "markdown",
   "metadata": {},
   "source": [
    "### Combined columns"
   ]
  },
  {
   "cell_type": "markdown",
   "metadata": {},
   "source": [
    "improvement_surcharge, mta_tax, extra, tolls_amount, airport_fee and congestion_surcharge are all various surcharges applied to the total fee to the customer. These on their own dont hold alot of information but the total will be kept."
   ]
  },
  {
   "cell_type": "code",
   "execution_count": 9,
   "metadata": {},
   "outputs": [],
   "source": [
    "sdf = sdf.na.fill(value=0,subset=[\"congestion_surcharge\", \"airport_fee\"])"
   ]
  },
  {
   "cell_type": "code",
   "execution_count": 10,
   "metadata": {},
   "outputs": [],
   "source": [
    "from pyspark.sql.functions import *\n",
    "sdf = sdf.withColumn('surchange_amount', col(\"improvement_surcharge\") + col(\"mta_tax\") + col(\"extra\") + col(\"tolls_amount\") + col(\"airport_fee\") + col(\"congestion_surcharge\"))"
   ]
  },
  {
   "cell_type": "code",
   "execution_count": null,
   "metadata": {},
   "outputs": [],
   "source": [
    "sdf = sdf.drop(\"extra\", \"mta_tax\", \"improvement_surcharge\", \"congestion_surcharge\", \"tolls_amount\", \"airport_fee\")"
   ]
  },
  {
   "cell_type": "markdown",
   "metadata": {},
   "source": [
    "### Renaming records"
   ]
  },
  {
   "cell_type": "code",
   "execution_count": 13,
   "metadata": {},
   "outputs": [
    {
     "data": {
      "text/html": [
       "<table border='1'>\n",
       "<tr><th>pickup_time</th><th>dropoff_time</th><th>passenger_count</th><th>trip_distance</th><th>pick_up_location</th><th>drop_off_location</th><th>payment_type</th><th>fare_amount</th><th>extra</th><th>mta_tax</th><th>tip_amount</th><th>tolls_amount</th><th>improvement_surcharge</th><th>total_amount</th><th>congestion_surcharge</th><th>airport_fee</th><th>Surchanges</th><th>surchange_amount</th></tr>\n",
       "<tr><td>2019-01-01 11:46:40</td><td>2019-01-01 11:53:20</td><td>1.0</td><td>1.5</td><td>151</td><td>239</td><td>1</td><td>7.0</td><td>0.5</td><td>0.5</td><td>1.65</td><td>0.0</td><td>0.3</td><td>9.95</td><td>0.0</td><td>0</td><td>1.3</td><td>1.3</td></tr>\n",
       "<tr><td>2019-01-01 11:59:47</td><td>2019-01-01 12:18:59</td><td>1.0</td><td>2.6</td><td>239</td><td>246</td><td>1</td><td>14.0</td><td>0.5</td><td>0.5</td><td>1.0</td><td>0.0</td><td>0.3</td><td>16.3</td><td>0.0</td><td>0</td><td>1.3</td><td>1.3</td></tr>\n",
       "<tr><td>2018-12-22 00:48:30</td><td>2018-12-22 00:52:40</td><td>3.0</td><td>0.0</td><td>236</td><td>236</td><td>1</td><td>4.5</td><td>0.5</td><td>0.5</td><td>0.0</td><td>0.0</td><td>0.3</td><td>5.8</td><td>0.0</td><td>0</td><td>1.3</td><td>1.3</td></tr>\n",
       "<tr><td>2018-11-29 02:52:25</td><td>2018-11-29 02:55:45</td><td>5.0</td><td>0.0</td><td>193</td><td>193</td><td>2</td><td>3.5</td><td>0.5</td><td>0.5</td><td>0.0</td><td>0.0</td><td>0.3</td><td>7.55</td><td>0.0</td><td>0</td><td>1.3</td><td>1.3</td></tr>\n",
       "<tr><td>2018-11-29 02:56:57</td><td>2018-11-29 02:58:33</td><td>5.0</td><td>0.0</td><td>193</td><td>193</td><td>2</td><td>52.0</td><td>0.0</td><td>0.5</td><td>0.0</td><td>0.0</td><td>0.3</td><td>55.55</td><td>0.0</td><td>0</td><td>0.8</td><td>0.8</td></tr>\n",
       "<tr><td>2018-11-29 03:25:49</td><td>2018-11-29 03:28:26</td><td>5.0</td><td>0.0</td><td>193</td><td>193</td><td>2</td><td>3.5</td><td>0.5</td><td>0.5</td><td>0.0</td><td>5.76</td><td>0.3</td><td>13.31</td><td>0.0</td><td>0</td><td>7.06</td><td>7.06</td></tr>\n",
       "<tr><td>2018-11-29 03:29:37</td><td>2018-11-29 03:33:43</td><td>5.0</td><td>0.0</td><td>193</td><td>193</td><td>2</td><td>52.0</td><td>0.0</td><td>0.5</td><td>0.0</td><td>0.0</td><td>0.3</td><td>55.55</td><td>0.0</td><td>0</td><td>0.8</td><td>0.8</td></tr>\n",
       "<tr><td>2019-01-01 11:21:28</td><td>2019-01-01 11:28:37</td><td>1.0</td><td>1.3</td><td>163</td><td>229</td><td>1</td><td>6.5</td><td>0.5</td><td>0.5</td><td>1.25</td><td>0.0</td><td>0.3</td><td>9.05</td><td>0.0</td><td>0</td><td>1.3</td><td>1.3</td></tr>\n",
       "<tr><td>2019-01-01 11:32:01</td><td>2019-01-01 11:45:39</td><td>1.0</td><td>3.7</td><td>229</td><td>7</td><td>1</td><td>13.5</td><td>0.5</td><td>0.5</td><td>3.7</td><td>0.0</td><td>0.3</td><td>18.5</td><td>0.0</td><td>0</td><td>1.3</td><td>1.3</td></tr>\n",
       "<tr><td>2019-01-01 11:57:32</td><td>2019-01-01 12:09:32</td><td>2.0</td><td>2.1</td><td>141</td><td>234</td><td>1</td><td>10.0</td><td>0.5</td><td>0.5</td><td>1.7</td><td>0.0</td><td>0.3</td><td>13.0</td><td>0.0</td><td>0</td><td>1.3</td><td>1.3</td></tr>\n",
       "<tr><td>2019-01-01 11:24:04</td><td>2019-01-01 11:47:06</td><td>2.0</td><td>2.8</td><td>246</td><td>162</td><td>1</td><td>15.0</td><td>0.5</td><td>0.5</td><td>3.25</td><td>0.0</td><td>0.3</td><td>19.55</td><td>0.0</td><td>0</td><td>1.3</td><td>1.3</td></tr>\n",
       "<tr><td>2019-01-01 11:21:59</td><td>2019-01-01 11:28:24</td><td>1.0</td><td>0.7</td><td>238</td><td>151</td><td>1</td><td>5.5</td><td>0.5</td><td>0.5</td><td>1.7</td><td>0.0</td><td>0.3</td><td>8.5</td><td>0.0</td><td>0</td><td>1.3</td><td>1.3</td></tr>\n",
       "<tr><td>2019-01-01 11:45:21</td><td>2019-01-01 12:31:05</td><td>1.0</td><td>8.7</td><td>163</td><td>25</td><td>1</td><td>34.5</td><td>0.5</td><td>0.5</td><td>7.15</td><td>0.0</td><td>0.3</td><td>42.95</td><td>0.0</td><td>0</td><td>1.3</td><td>1.3</td></tr>\n",
       "<tr><td>2019-01-01 11:43:19</td><td>2019-01-01 12:07:42</td><td>1.0</td><td>6.3</td><td>224</td><td>25</td><td>1</td><td>21.5</td><td>0.5</td><td>0.5</td><td>5.7</td><td>0.0</td><td>0.3</td><td>28.5</td><td>0.0</td><td>0</td><td>1.3</td><td>1.3</td></tr>\n",
       "<tr><td>2019-01-01 11:58:24</td><td>2019-01-01 12:15:18</td><td>1.0</td><td>2.7</td><td>141</td><td>234</td><td>1</td><td>13.0</td><td>0.5</td><td>0.5</td><td>1.0</td><td>0.0</td><td>0.3</td><td>15.3</td><td>0.0</td><td>0</td><td>1.3</td><td>1.3</td></tr>\n",
       "<tr><td>2019-01-01 11:23:14</td><td>2019-01-01 11:25:40</td><td>1.0</td><td>0.38</td><td>170</td><td>170</td><td>2</td><td>3.5</td><td>0.5</td><td>0.5</td><td>0.0</td><td>0.0</td><td>0.3</td><td>4.8</td><td>0.0</td><td>0</td><td>1.3</td><td>1.3</td></tr>\n",
       "<tr><td>2019-01-01 11:39:51</td><td>2019-01-01 11:48:02</td><td>1.0</td><td>0.55</td><td>170</td><td>170</td><td>1</td><td>6.5</td><td>0.5</td><td>0.5</td><td>1.95</td><td>0.0</td><td>0.3</td><td>9.75</td><td>0.0</td><td>0</td><td>1.3</td><td>1.3</td></tr>\n",
       "<tr><td>2019-01-01 11:46:00</td><td>2019-01-01 11:49:07</td><td>1.0</td><td>0.3</td><td>107</td><td>107</td><td>1</td><td>4.0</td><td>0.5</td><td>0.5</td><td>1.06</td><td>0.0</td><td>0.3</td><td>6.36</td><td>0.0</td><td>0</td><td>1.3</td><td>1.3</td></tr>\n",
       "<tr><td>2019-01-01 11:57:45</td><td>2019-01-01 12:03:51</td><td>1.0</td><td>1.42</td><td>170</td><td>141</td><td>1</td><td>6.5</td><td>0.5</td><td>0.5</td><td>1.56</td><td>0.0</td><td>0.3</td><td>9.36</td><td>0.0</td><td>0</td><td>1.3</td><td>1.3</td></tr>\n",
       "<tr><td>2019-01-01 11:16:16</td><td>2019-01-01 11:25:57</td><td>1.0</td><td>1.72</td><td>41</td><td>247</td><td>2</td><td>9.0</td><td>0.5</td><td>0.5</td><td>0.0</td><td>0.0</td><td>0.3</td><td>10.3</td><td>0.0</td><td>0</td><td>1.3</td><td>1.3</td></tr>\n",
       "</table>\n",
       "only showing top 20 rows\n"
      ],
      "text/plain": [
       "+-------------------+-------------------+---------------+-------------+----------------+-----------------+------------+-----------+-----+-------+----------+------------+---------------------+------------+--------------------+-----------+----------+----------------+\n",
       "|        pickup_time|       dropoff_time|passenger_count|trip_distance|pick_up_location|drop_off_location|payment_type|fare_amount|extra|mta_tax|tip_amount|tolls_amount|improvement_surcharge|total_amount|congestion_surcharge|airport_fee|Surchanges|surchange_amount|\n",
       "+-------------------+-------------------+---------------+-------------+----------------+-----------------+------------+-----------+-----+-------+----------+------------+---------------------+------------+--------------------+-----------+----------+----------------+\n",
       "|2019-01-01 11:46:40|2019-01-01 11:53:20|            1.0|          1.5|             151|              239|           1|        7.0|  0.5|    0.5|      1.65|         0.0|                  0.3|        9.95|                 0.0|          0|       1.3|             1.3|\n",
       "|2019-01-01 11:59:47|2019-01-01 12:18:59|            1.0|          2.6|             239|              246|           1|       14.0|  0.5|    0.5|       1.0|         0.0|                  0.3|        16.3|                 0.0|          0|       1.3|             1.3|\n",
       "|2018-12-22 00:48:30|2018-12-22 00:52:40|            3.0|          0.0|             236|              236|           1|        4.5|  0.5|    0.5|       0.0|         0.0|                  0.3|         5.8|                 0.0|          0|       1.3|             1.3|\n",
       "|2018-11-29 02:52:25|2018-11-29 02:55:45|            5.0|          0.0|             193|              193|           2|        3.5|  0.5|    0.5|       0.0|         0.0|                  0.3|        7.55|                 0.0|          0|       1.3|             1.3|\n",
       "|2018-11-29 02:56:57|2018-11-29 02:58:33|            5.0|          0.0|             193|              193|           2|       52.0|  0.0|    0.5|       0.0|         0.0|                  0.3|       55.55|                 0.0|          0|       0.8|             0.8|\n",
       "|2018-11-29 03:25:49|2018-11-29 03:28:26|            5.0|          0.0|             193|              193|           2|        3.5|  0.5|    0.5|       0.0|        5.76|                  0.3|       13.31|                 0.0|          0|      7.06|            7.06|\n",
       "|2018-11-29 03:29:37|2018-11-29 03:33:43|            5.0|          0.0|             193|              193|           2|       52.0|  0.0|    0.5|       0.0|         0.0|                  0.3|       55.55|                 0.0|          0|       0.8|             0.8|\n",
       "|2019-01-01 11:21:28|2019-01-01 11:28:37|            1.0|          1.3|             163|              229|           1|        6.5|  0.5|    0.5|      1.25|         0.0|                  0.3|        9.05|                 0.0|          0|       1.3|             1.3|\n",
       "|2019-01-01 11:32:01|2019-01-01 11:45:39|            1.0|          3.7|             229|                7|           1|       13.5|  0.5|    0.5|       3.7|         0.0|                  0.3|        18.5|                 0.0|          0|       1.3|             1.3|\n",
       "|2019-01-01 11:57:32|2019-01-01 12:09:32|            2.0|          2.1|             141|              234|           1|       10.0|  0.5|    0.5|       1.7|         0.0|                  0.3|        13.0|                 0.0|          0|       1.3|             1.3|\n",
       "|2019-01-01 11:24:04|2019-01-01 11:47:06|            2.0|          2.8|             246|              162|           1|       15.0|  0.5|    0.5|      3.25|         0.0|                  0.3|       19.55|                 0.0|          0|       1.3|             1.3|\n",
       "|2019-01-01 11:21:59|2019-01-01 11:28:24|            1.0|          0.7|             238|              151|           1|        5.5|  0.5|    0.5|       1.7|         0.0|                  0.3|         8.5|                 0.0|          0|       1.3|             1.3|\n",
       "|2019-01-01 11:45:21|2019-01-01 12:31:05|            1.0|          8.7|             163|               25|           1|       34.5|  0.5|    0.5|      7.15|         0.0|                  0.3|       42.95|                 0.0|          0|       1.3|             1.3|\n",
       "|2019-01-01 11:43:19|2019-01-01 12:07:42|            1.0|          6.3|             224|               25|           1|       21.5|  0.5|    0.5|       5.7|         0.0|                  0.3|        28.5|                 0.0|          0|       1.3|             1.3|\n",
       "|2019-01-01 11:58:24|2019-01-01 12:15:18|            1.0|          2.7|             141|              234|           1|       13.0|  0.5|    0.5|       1.0|         0.0|                  0.3|        15.3|                 0.0|          0|       1.3|             1.3|\n",
       "|2019-01-01 11:23:14|2019-01-01 11:25:40|            1.0|         0.38|             170|              170|           2|        3.5|  0.5|    0.5|       0.0|         0.0|                  0.3|         4.8|                 0.0|          0|       1.3|             1.3|\n",
       "|2019-01-01 11:39:51|2019-01-01 11:48:02|            1.0|         0.55|             170|              170|           1|        6.5|  0.5|    0.5|      1.95|         0.0|                  0.3|        9.75|                 0.0|          0|       1.3|             1.3|\n",
       "|2019-01-01 11:46:00|2019-01-01 11:49:07|            1.0|          0.3|             107|              107|           1|        4.0|  0.5|    0.5|      1.06|         0.0|                  0.3|        6.36|                 0.0|          0|       1.3|             1.3|\n",
       "|2019-01-01 11:57:45|2019-01-01 12:03:51|            1.0|         1.42|             170|              141|           1|        6.5|  0.5|    0.5|      1.56|         0.0|                  0.3|        9.36|                 0.0|          0|       1.3|             1.3|\n",
       "|2019-01-01 11:16:16|2019-01-01 11:25:57|            1.0|         1.72|              41|              247|           2|        9.0|  0.5|    0.5|       0.0|         0.0|                  0.3|        10.3|                 0.0|          0|       1.3|             1.3|\n",
       "+-------------------+-------------------+---------------+-------------+----------------+-----------------+------------+-----------+-----+-------+----------+------------+---------------------+------------+--------------------+-----------+----------+----------------+\n",
       "only showing top 20 rows"
      ]
     },
     "execution_count": 13,
     "metadata": {},
     "output_type": "execute_result"
    }
   ],
   "source": [
    "sdf = sdf.withColumnRenamed(\"tpep_pickup_datetime\", \"pickup_time\")\n",
    "sdf = sdf.withColumnRenamed(\"tpep_dropoff_datetime\", \"dropoff_time\")\n",
    "sdf = sdf.withColumnRenamed(\"PULocationID\", \"pick_up_location\")\n",
    "sdf = sdf.withColumnRenamed(\"DOLocationID\", \"drop_off_location\")\n",
    "sdf"
   ]
  },
  {
   "cell_type": "markdown",
   "metadata": {},
   "source": [
    "### Converting units"
   ]
  },
  {
   "cell_type": "markdown",
   "metadata": {},
   "source": [
    "The trip_distance is set to miles (imperial), thus for ease of analysis, this will be set to kilometres (metric)"
   ]
  },
  {
   "cell_type": "code",
   "execution_count": 19,
   "metadata": {},
   "outputs": [],
   "source": [
    "sdf = sdf.withColumn(\"trip_distance\", round(col(\"trip_distance\") * 1.60934, 4)) "
   ]
  },
  {
   "cell_type": "markdown",
   "metadata": {},
   "source": [
    "As there are time stamps of the pickup an dropoff times, it may be handy to look into aspects affecting the duration of the trip, thus we will add a column for total duration in minutes:"
   ]
  },
  {
   "cell_type": "code",
   "execution_count": null,
   "metadata": {},
   "outputs": [],
   "source": [
    "from pyspark.sql.functions import *\n",
    "df.withColumn('from_timestamp',to_timestamp(col('from_timestamp')))\\\n",
    "  .withColumn('end_timestamp', current_timestamp())\\\n",
    "  .withColumn('DiffInSeconds',unix_timestamp(\"end_timestamp\") - unix_timestamp('from_timestamp'))"
   ]
  }
 ],
 "metadata": {
  "interpreter": {
   "hash": "863906e9a4165d4738736793daf13ef61aad6cfe5622e28d202ed76ed0afc263"
  },
  "kernelspec": {
   "display_name": "Python 3.9.7 ('base')",
   "language": "python",
   "name": "python3"
  },
  "language_info": {
   "codemirror_mode": {
    "name": "ipython",
    "version": 3
   },
   "file_extension": ".py",
   "mimetype": "text/x-python",
   "name": "python",
   "nbconvert_exporter": "python",
   "pygments_lexer": "ipython3",
   "version": "3.9.7"
  },
  "orig_nbformat": 4
 },
 "nbformat": 4,
 "nbformat_minor": 2
}
