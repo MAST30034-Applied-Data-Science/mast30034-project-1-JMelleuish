{
 "cells": [
  {
   "cell_type": "markdown",
   "metadata": {},
   "source": [
    "# MAST30034 Project 1\n",
    "## Statistical Modelling"
   ]
  },
  {
   "cell_type": "code",
   "execution_count": null,
   "metadata": {},
   "outputs": [],
   "source": [
    "import pandas as pd\n",
    "import matplotlib.pyplot as plt\n",
    "from statsmodels.formula.api import ols, glm"
   ]
  },
  {
   "cell_type": "code",
   "execution_count": null,
   "metadata": {},
   "outputs": [],
   "source": [
    "from functools import reduce \n",
    "from pyspark.sql import DataFrame\n",
    "from pyspark.sql import SparkSession\n",
    "from pyspark.sql.functions import *\n",
    "\n",
    "# Create a spark session (which will run spark jobs)\n",
    "spark = (\n",
    "    SparkSession.builder.appName(\"MAST30034 Tutorial 1\")\n",
    "    .config(\"spark.sql.repl.eagerEval.enabled\", True) \n",
    "    .config(\"spark.sql.parquet.cacheMetadata\", \"true\")\n",
    "    .config(\"spark.sql.session.timeZone\", \"Etc/UTC\")\n",
    "    .config(\"spark.executor.memory\", \"2g\")\n",
    "    .config(\"spark.driver.memory\", \"4g\")\n",
    "    .getOrCreate()\n",
    ")"
   ]
  },
  {
   "cell_type": "code",
   "execution_count": 210,
   "metadata": {},
   "outputs": [
    {
     "name": "stderr",
     "output_type": "stream",
     "text": [
      "                                                                                \r"
     ]
    }
   ],
   "source": [
    "taxi = spark.read.parquet('../../Project 1/DataFrames/taxi')\n",
    "weather = spark.read.parquet('../../Project 1/DataFrames/weather')\n",
    "taxi = taxi.withColumn(\"pickup_date\",to_date(col(\"pickup_time\")))\n",
    "taxi = taxi.drop(\"pickup_time\", \"dropoff_time\")\n",
    "sdf = taxi.join(weather,taxi.pickup_date ==  weather.date,\"inner\")\n",
    "sdf = sdf.drop('date')\n",
    "sdf.write.parquet(\"../../Project 1/DataFrames/stats_modelling\")"
   ]
  },
  {
   "cell_type": "code",
   "execution_count": 188,
   "metadata": {},
   "outputs": [
    {
     "data": {
      "text/html": [
       "<table border='1'>\n",
       "<tr><th>label</th><th>features</th></tr>\n",
       "<tr><td>0.0</td><td>[12.0,1.0,77.0,4....</td></tr>\n",
       "<tr><td>8.5</td><td>[35.5,2.0,127.0,1...</td></tr>\n",
       "<tr><td>3.06</td><td>[14.0,5.0,65.0,6....</td></tr>\n",
       "<tr><td>0.0</td><td>[6.0,1.0,255.0,2....</td></tr>\n",
       "<tr><td>0.0</td><td>[23.0,1.0,112.0,1...</td></tr>\n",
       "<tr><td>2.0</td><td>[15.5,1.0,112.0,5...</td></tr>\n",
       "<tr><td>1.46</td><td>[6.0,1.0,255.0,1....</td></tr>\n",
       "<tr><td>1.26</td><td>[5.0,1.0,255.0,1....</td></tr>\n",
       "<tr><td>1.82</td><td>[6.0,1.0,112.0,1....</td></tr>\n",
       "<tr><td>1.82</td><td>[6.0,1.0,49.0,1.8...</td></tr>\n",
       "<tr><td>5.16</td><td>[24.5,1.0,181.0,1...</td></tr>\n",
       "<tr><td>1.65</td><td>[7.0,1.0,25.0,2.0...</td></tr>\n",
       "<tr><td>1.0</td><td>[8.5,1.0,130.0,3....</td></tr>\n",
       "<tr><td>2.49</td><td>[7.0,2.0,42.0,2.0...</td></tr>\n",
       "<tr><td>2.16</td><td>[9.5,1.0,25.0,3.6...</td></tr>\n",
       "<tr><td>0.0</td><td>[8.0,1.0,41.0,2.2...</td></tr>\n",
       "<tr><td>0.0</td><td>[12.0,2.0,255.0,5...</td></tr>\n",
       "<tr><td>1.95</td><td>[6.5,1.0,256.0,1....</td></tr>\n",
       "<tr><td>3.08</td><td>[11.0,2.0,66.0,4....</td></tr>\n",
       "<tr><td>5.0</td><td>[23.5,1.0,41.0,10...</td></tr>\n",
       "</table>\n",
       "only showing top 20 rows\n"
      ],
      "text/plain": [
       "+-----+--------------------+\n",
       "|label|            features|\n",
       "+-----+--------------------+\n",
       "|  0.0|[12.0,1.0,77.0,4....|\n",
       "|  8.5|[35.5,2.0,127.0,1...|\n",
       "| 3.06|[14.0,5.0,65.0,6....|\n",
       "|  0.0|[6.0,1.0,255.0,2....|\n",
       "|  0.0|[23.0,1.0,112.0,1...|\n",
       "|  2.0|[15.5,1.0,112.0,5...|\n",
       "| 1.46|[6.0,1.0,255.0,1....|\n",
       "| 1.26|[5.0,1.0,255.0,1....|\n",
       "| 1.82|[6.0,1.0,112.0,1....|\n",
       "| 1.82|[6.0,1.0,49.0,1.8...|\n",
       "| 5.16|[24.5,1.0,181.0,1...|\n",
       "| 1.65|[7.0,1.0,25.0,2.0...|\n",
       "|  1.0|[8.5,1.0,130.0,3....|\n",
       "| 2.49|[7.0,2.0,42.0,2.0...|\n",
       "| 2.16|[9.5,1.0,25.0,3.6...|\n",
       "|  0.0|[8.0,1.0,41.0,2.2...|\n",
       "|  0.0|[12.0,2.0,255.0,5...|\n",
       "| 1.95|[6.5,1.0,256.0,1....|\n",
       "| 3.08|[11.0,2.0,66.0,4....|\n",
       "|  5.0|[23.5,1.0,41.0,10...|\n",
       "+-----+--------------------+\n",
       "only showing top 20 rows"
      ]
     },
     "execution_count": 188,
     "metadata": {},
     "output_type": "execute_result"
    }
   ],
   "source": [
    "from pyspark.ml.feature import RFormula\n",
    "\n",
    "#eatures = 'features'\n",
    "#input_cols = ['fare_amount', 'passenger_count', 'pickup_location', 'trip_distance_km', 'temp', 'dew_point', 'pressure', 'wind_speed', 'wind_direction']\n",
    "\n",
    "formula=RFormula(formula = \"tip_amount ~ fare_amount + passenger_count + pickup_location + trip_distance_km + temp + dew_point + pressure + wind_speed + wind_direction\", featuresCol= \"features\", labelCol= \"label\")\n",
    "output = formula.fit(sdf).transform(sdf)\n",
    "model_sdf = output.select(\"label\",\"features\")"
   ]
  },
  {
   "cell_type": "code",
   "execution_count": 201,
   "metadata": {},
   "outputs": [],
   "source": []
  },
  {
   "cell_type": "code",
   "execution_count": 204,
   "metadata": {},
   "outputs": [
    {
     "name": "stderr",
     "output_type": "stream",
     "text": [
      "                                                                                \r"
     ]
    },
    {
     "data": {
      "text/html": [
       "<table border='1'>\n",
       "<tr><th>pickup_location</th><th>dropoff_location</th><th>passenger_count</th><th>fare_amount</th><th>tip_amount</th><th>total_amount</th><th>surcharge_amount</th><th>trip_distance_km</th><th>trip_time_min</th><th>temp</th><th>dew_point</th><th>pressure</th><th>wind_speed</th><th>wind_direction</th></tr>\n",
       "<tr><td>1.0</td><td>0.9999999999999998</td><td>0.01996316320900586</td><td>0.06688233158306747</td><td>0.012644113141148489</td><td>0.06557253527454392</td><td>0.01919616612676156</td><td>0.07330988195752552</td><td>0.0450067871568211</td><td>0.002974544275576...</td><td>-4.76438782707553...</td><td>0.003145881396222141</td><td>9.006246451320172E-4</td><td>0.003705401239887254</td></tr>\n",
       "<tr><td>0.9999999999999998</td><td>1.0</td><td>0.01996316320900586</td><td>0.06688233158306747</td><td>0.012644113141148489</td><td>0.06557253527454392</td><td>0.01919616612676156</td><td>0.07330988195752552</td><td>0.0450067871568211</td><td>0.002974544275576...</td><td>-4.76438782707553...</td><td>0.003145881396222141</td><td>9.006246451320172E-4</td><td>0.003705401239887254</td></tr>\n",
       "<tr><td>0.01996316320900586</td><td>0.01996316320900586</td><td>1.0</td><td>-0.00642606107105965</td><td>0.011859687366910154</td><td>-0.00351897467210...</td><td>-1.49699826266390...</td><td>-0.00986543347472...</td><td>-0.01088876775295...</td><td>0.003712325705170...</td><td>0.001336358553391...</td><td>8.053478648682649E-4</td><td>9.682070047532162E-4</td><td>0.002044096604317...</td></tr>\n",
       "<tr><td>0.06688233158306747</td><td>0.06688233158306747</td><td>-0.00642606107105965</td><td>1.0</td><td>0.1591737439110843</td><td>0.9793769185902902</td><td>0.37565029542079464</td><td>0.9600858251314356</td><td>0.9038969695089076</td><td>-0.00272200755028...</td><td>-0.01377729446748...</td><td>0.001690981672328...</td><td>-3.08241128759099...</td><td>0.013645398318871111</td></tr>\n",
       "<tr><td>0.012644113141148489</td><td>0.012644113141148489</td><td>0.011859687366910154</td><td>0.1591737439110843</td><td>1.0</td><td>0.3290089977710959</td><td>0.20553422094922985</td><td>0.14935529812733045</td><td>0.10747393483403195</td><td>0.020324687870879994</td><td>0.01788379922615095</td><td>-6.98868272864239...</td><td>0.004922673726705788</td><td>-4.6298981260174E-4</td></tr>\n",
       "<tr><td>0.06557253527454392</td><td>0.06557253527454392</td><td>-0.00351897467210...</td><td>0.9793769185902902</td><td>0.3290089977710959</td><td>1.0</td><td>0.48180120351740036</td><td>0.9444751730159798</td><td>0.8742515002150799</td><td>-1.37011356277725...</td><td>-0.00924954634552...</td><td>3.168813279737766E-4</td><td>-3.39654679737998...</td><td>0.011129833049161094</td></tr>\n",
       "<tr><td>0.01919616612676156</td><td>0.01919616612676156</td><td>-1.49699826266390...</td><td>0.37565029542079464</td><td>0.20553422094922985</td><td>0.48180120351740036</td><td>1.0</td><td>0.40242109526936376</td><td>0.29418737848579846</td><td>-0.00681583007667...</td><td>0.004641551853424101</td><td>-0.00986078778706...</td><td>-0.01275305524518949</td><td>-0.01218184350465...</td></tr>\n",
       "<tr><td>0.07330988195752552</td><td>0.07330988195752552</td><td>-0.00986543347472...</td><td>0.9600858251314356</td><td>0.14935529812733045</td><td>0.9444751730159798</td><td>0.40242109526936376</td><td>1.0</td><td>0.8251673100297426</td><td>-0.00500601565292...</td><td>-0.01499813113411...</td><td>0.001851051815036...</td><td>8.59199139286539E-4</td><td>0.012921949456517319</td></tr>\n",
       "<tr><td>0.0450067871568211</td><td>0.0450067871568211</td><td>-0.01088876775295...</td><td>0.9038969695089076</td><td>0.10747393483403195</td><td>0.8742515002150799</td><td>0.29418737848579846</td><td>0.8251673100297426</td><td>1.0</td><td>-0.00263093296542...</td><td>-0.01181004952818...</td><td>0.003273052202112...</td><td>-0.00299800569489...</td><td>0.010001954376855719</td></tr>\n",
       "<tr><td>0.002974544275576...</td><td>0.002974544275576...</td><td>0.003712325705170...</td><td>-0.00272200755028...</td><td>0.020324687870879994</td><td>-1.37011356277725...</td><td>-0.00681583007667...</td><td>-0.00500601565292...</td><td>-0.00263093296542...</td><td>1.0</td><td>0.5042687968614006</td><td>-0.05073384701749247</td><td>-0.10852718895036463</td><td>0.09139557565015524</td></tr>\n",
       "<tr><td>-4.76438782707553...</td><td>-4.76438782707553...</td><td>0.001336358553391...</td><td>-0.01377729446748...</td><td>0.01788379922615095</td><td>-0.00924954634552...</td><td>0.004641551853424101</td><td>-0.01499813113411...</td><td>-0.01181004952818...</td><td>0.5042687968614006</td><td>1.0</td><td>-0.16945382490180844</td><td>-0.23571583123929107</td><td>-0.407131013991348</td></tr>\n",
       "<tr><td>0.003145881396222141</td><td>0.003145881396222141</td><td>8.053478648682649E-4</td><td>0.001690981672328...</td><td>-6.98868272864239...</td><td>3.168813279737766E-4</td><td>-0.00986078778706...</td><td>0.001851051815036...</td><td>0.003273052202112...</td><td>-0.05073384701749247</td><td>-0.16945382490180844</td><td>1.0</td><td>-0.49338665744966825</td><td>-0.261204918558998</td></tr>\n",
       "<tr><td>9.006246451320172E-4</td><td>9.006246451320172E-4</td><td>9.682070047532162E-4</td><td>-3.08241128759099...</td><td>0.004922673726705788</td><td>-3.39654679737998...</td><td>-0.01275305524518949</td><td>8.59199139286539E-4</td><td>-0.00299800569489...</td><td>-0.10852718895036463</td><td>-0.23571583123929107</td><td>-0.49338665744966825</td><td>1.0</td><td>0.3578450297797489</td></tr>\n",
       "<tr><td>0.003705401239887254</td><td>0.003705401239887254</td><td>0.002044096604317...</td><td>0.013645398318871111</td><td>-4.6298981260174E-4</td><td>0.011129833049161094</td><td>-0.01218184350465...</td><td>0.012921949456517319</td><td>0.010001954376855719</td><td>0.09139557565015524</td><td>-0.407131013991348</td><td>-0.261204918558998</td><td>0.3578450297797489</td><td>1.0</td></tr>\n",
       "</table>\n"
      ],
      "text/plain": [
       "+--------------------+--------------------+--------------------+--------------------+--------------------+--------------------+--------------------+--------------------+--------------------+--------------------+--------------------+--------------------+--------------------+--------------------+\n",
       "|     pickup_location|    dropoff_location|     passenger_count|         fare_amount|          tip_amount|        total_amount|    surcharge_amount|    trip_distance_km|       trip_time_min|                temp|           dew_point|            pressure|          wind_speed|      wind_direction|\n",
       "+--------------------+--------------------+--------------------+--------------------+--------------------+--------------------+--------------------+--------------------+--------------------+--------------------+--------------------+--------------------+--------------------+--------------------+\n",
       "|                 1.0|  0.9999999999999998| 0.01996316320900586| 0.06688233158306747|0.012644113141148489| 0.06557253527454392| 0.01919616612676156| 0.07330988195752552|  0.0450067871568211|0.002974544275576...|-4.76438782707553...|0.003145881396222141|9.006246451320172E-4|0.003705401239887254|\n",
       "|  0.9999999999999998|                 1.0| 0.01996316320900586| 0.06688233158306747|0.012644113141148489| 0.06557253527454392| 0.01919616612676156| 0.07330988195752552|  0.0450067871568211|0.002974544275576...|-4.76438782707553...|0.003145881396222141|9.006246451320172E-4|0.003705401239887254|\n",
       "| 0.01996316320900586| 0.01996316320900586|                 1.0|-0.00642606107105965|0.011859687366910154|-0.00351897467210...|-1.49699826266390...|-0.00986543347472...|-0.01088876775295...|0.003712325705170...|0.001336358553391...|8.053478648682649E-4|9.682070047532162E-4|0.002044096604317...|\n",
       "| 0.06688233158306747| 0.06688233158306747|-0.00642606107105965|                 1.0|  0.1591737439110843|  0.9793769185902902| 0.37565029542079464|  0.9600858251314356|  0.9038969695089076|-0.00272200755028...|-0.01377729446748...|0.001690981672328...|-3.08241128759099...|0.013645398318871111|\n",
       "|0.012644113141148489|0.012644113141148489|0.011859687366910154|  0.1591737439110843|                 1.0|  0.3290089977710959| 0.20553422094922985| 0.14935529812733045| 0.10747393483403195|0.020324687870879994| 0.01788379922615095|-6.98868272864239...|0.004922673726705788| -4.6298981260174E-4|\n",
       "| 0.06557253527454392| 0.06557253527454392|-0.00351897467210...|  0.9793769185902902|  0.3290089977710959|                 1.0| 0.48180120351740036|  0.9444751730159798|  0.8742515002150799|-1.37011356277725...|-0.00924954634552...|3.168813279737766E-4|-3.39654679737998...|0.011129833049161094|\n",
       "| 0.01919616612676156| 0.01919616612676156|-1.49699826266390...| 0.37565029542079464| 0.20553422094922985| 0.48180120351740036|                 1.0| 0.40242109526936376| 0.29418737848579846|-0.00681583007667...|0.004641551853424101|-0.00986078778706...|-0.01275305524518949|-0.01218184350465...|\n",
       "| 0.07330988195752552| 0.07330988195752552|-0.00986543347472...|  0.9600858251314356| 0.14935529812733045|  0.9444751730159798| 0.40242109526936376|                 1.0|  0.8251673100297426|-0.00500601565292...|-0.01499813113411...|0.001851051815036...| 8.59199139286539E-4|0.012921949456517319|\n",
       "|  0.0450067871568211|  0.0450067871568211|-0.01088876775295...|  0.9038969695089076| 0.10747393483403195|  0.8742515002150799| 0.29418737848579846|  0.8251673100297426|                 1.0|-0.00263093296542...|-0.01181004952818...|0.003273052202112...|-0.00299800569489...|0.010001954376855719|\n",
       "|0.002974544275576...|0.002974544275576...|0.003712325705170...|-0.00272200755028...|0.020324687870879994|-1.37011356277725...|-0.00681583007667...|-0.00500601565292...|-0.00263093296542...|                 1.0|  0.5042687968614006|-0.05073384701749247|-0.10852718895036463| 0.09139557565015524|\n",
       "|-4.76438782707553...|-4.76438782707553...|0.001336358553391...|-0.01377729446748...| 0.01788379922615095|-0.00924954634552...|0.004641551853424101|-0.01499813113411...|-0.01181004952818...|  0.5042687968614006|                 1.0|-0.16945382490180844|-0.23571583123929107|  -0.407131013991348|\n",
       "|0.003145881396222141|0.003145881396222141|8.053478648682649E-4|0.001690981672328...|-6.98868272864239...|3.168813279737766E-4|-0.00986078778706...|0.001851051815036...|0.003273052202112...|-0.05073384701749247|-0.16945382490180844|                 1.0|-0.49338665744966825|  -0.261204918558998|\n",
       "|9.006246451320172E-4|9.006246451320172E-4|9.682070047532162E-4|-3.08241128759099...|0.004922673726705788|-3.39654679737998...|-0.01275305524518949| 8.59199139286539E-4|-0.00299800569489...|-0.10852718895036463|-0.23571583123929107|-0.49338665744966825|                 1.0|  0.3578450297797489|\n",
       "|0.003705401239887254|0.003705401239887254|0.002044096604317...|0.013645398318871111| -4.6298981260174E-4|0.011129833049161094|-0.01218184350465...|0.012921949456517319|0.010001954376855719| 0.09139557565015524|  -0.407131013991348|  -0.261204918558998|  0.3578450297797489|                 1.0|\n",
       "+--------------------+--------------------+--------------------+--------------------+--------------------+--------------------+--------------------+--------------------+--------------------+--------------------+--------------------+--------------------+--------------------+--------------------+"
      ]
     },
     "execution_count": 204,
     "metadata": {},
     "output_type": "execute_result"
    }
   ],
   "source": []
  },
  {
   "cell_type": "markdown",
   "metadata": {},
   "source": [
    "## Logistic regression"
   ]
  },
  {
   "cell_type": "code",
   "execution_count": null,
   "metadata": {},
   "outputs": [],
   "source": []
  },
  {
   "cell_type": "code",
   "execution_count": 166,
   "metadata": {},
   "outputs": [
    {
     "name": "stderr",
     "output_type": "stream",
     "text": [
      "                                                                                \r"
     ]
    },
    {
     "data": {
      "text/plain": [
       "<pyspark.ml.classification.BinaryLogisticRegressionTrainingSummary at 0x7f7d732b5f40>"
      ]
     },
     "execution_count": 166,
     "metadata": {},
     "output_type": "execute_result"
    }
   ],
   "source": [
    "from pyspark.ml.classification import LogisticRegression\n",
    "\n",
    "model_sdf = model_sdf.withColumn(\"label\", when(model_sdf[\"label\"] > 0, 1).otherwise(model_sdf[\"label\"]))\n",
    "\n",
    "# Split the data into train and test\n",
    "splits = model_sdf.randomSplit([0.8, 0.2], 1234)\n",
    "train = splits[0]\n",
    "test = splits[1]\n",
    "\n",
    "# Fit the model\n",
    "lrModel = LogisticRegression().fit(train)\n",
    "lrModel.summary\n",
    "# Print the coefficients and intercept for logistic regression\n",
    "# print(\"Coefficients: \" + str(lrModel.coefficients))\n",
    "# print(\"Intercept: \" + str(lrModel.intercept))"
   ]
  },
  {
   "cell_type": "code",
   "execution_count": null,
   "metadata": {},
   "outputs": [],
   "source": [
    "fit_weather = ols(\n",
    "    formula=\"tip_amount ~ temp + dew_point + pressure + wind_speed + wind_direction\",\n",
    "    data=df\n",
    ").fit()\n",
    "\n",
    "fit_taxi = ols(\n",
    "    formula=\"tip_amount ~ pickup_location + passenger_count + fare_amount + trip_distance_km\",\n",
    "    data=df\n",
    ").fit()\n",
    "\n",
    "fit_all = ols(\n",
    "    formula=\"tip_amount ~ temp + dew_point + pressure + wind_speed + wind_direction + pickup_location + passenger_count + fare_amount + trip_distance_km\",\n",
    "    data=df\n",
    ").fit()\n"
   ]
  },
  {
   "cell_type": "markdown",
   "metadata": {},
   "source": [
    "## Multilayer Perceptron"
   ]
  },
  {
   "cell_type": "code",
   "execution_count": 180,
   "metadata": {},
   "outputs": [
    {
     "data": {
      "text/plain": [
       "34.220367188411906"
      ]
     },
     "execution_count": 180,
     "metadata": {},
     "output_type": "execute_result"
    }
   ],
   "source": [
    "#sdf[['tip_amount']] <= 10)\n",
    "(sdf.select('tip_amount').where(sdf.tip_amount == 0).count() / sdf.select('tip_amount').count())*100\n"
   ]
  },
  {
   "cell_type": "markdown",
   "metadata": {},
   "source": [
    "As over 99% of people give a tip <= $10, thus for simplicity, the percentron will be trained only on instances meeting this criteria. "
   ]
  },
  {
   "cell_type": "code",
   "execution_count": 177,
   "metadata": {},
   "outputs": [],
   "source": [
    "from pyspark.ml.classification import MultilayerPerceptronClassifier\n",
    "from pyspark.ml.evaluation import MulticlassClassificationEvaluator\n",
    "from pyspark.ml.feature import RFormula\n",
    "\n",
    "formula=RFormula(formula = \"tip_amount ~ fare_amount + passenger_count + pickup_location + trip_distance_km + temp + dew_point + pressure + wind_speed + wind_direction\", featuresCol= \"features\", labelCol= \"label\")\n",
    "output = formula.fit(sdf).transform(sdf)\n",
    "model_sdf = output.select(\"label\",\"features\")\n",
    "#model_sdf = model_sdf.select(\"*\",(round(\"label\")))\n",
    "#model_sdf = model_sdf.withColumn(\"label\",col(\"round(label, 0)\").cast(\"int\"))\n",
    "#final_model = model_sdf.drop(\"round(label, 0)\")\n",
    "#final_model = final_model.filter(final_model.label >= 0)\n",
    "#data = final_model.filter(final_model.label <= 10)\n",
    "model_sdf = model_sdf.withColumn(\"label\", when(model_sdf[\"label\"] > 0, 1).otherwise(model_sdf[\"label\"]))\n",
    "# Load training data\n",
    "model_sdf = model_sdf.withColumn(\"label\",col('label').cast(\"int\"))"
   ]
  },
  {
   "cell_type": "code",
   "execution_count": 179,
   "metadata": {},
   "outputs": [
    {
     "name": "stderr",
     "output_type": "stream",
     "text": [
      "[Stage 931:==================================================>      (8 + 1) / 9]\r"
     ]
    },
    {
     "name": "stdout",
     "output_type": "stream",
     "text": [
      "Test set accuracy = 0.6586177311586593\n"
     ]
    },
    {
     "name": "stderr",
     "output_type": "stream",
     "text": [
      "                                                                                \r"
     ]
    }
   ],
   "source": [
    "\n",
    "# Split the data into train and test\n",
    "splits = model_sdf.randomSplit([0.8, 0.2], 1234)\n",
    "train = splits[0]\n",
    "test = splits[1]\n",
    "\n",
    "# specify layers for the neural network:\n",
    "# input layer of size 4 (features), two intermediate of size 5 and 4\n",
    "# and output of size 3 (classes)\n",
    "layers = [9, 15, 13, 11, 9, 5, 2]\n",
    "\n",
    "# create the trainer and set its parameters\n",
    "trainer = MultilayerPerceptronClassifier(maxIter=100, layers=layers, blockSize=128, seed=1234)\n",
    "\n",
    "# train the model\n",
    "model = trainer.fit(train)\n",
    "\n",
    "# compute accuracy on the test set\n",
    "result = model.transform(test)\n",
    "predictionAndLabels = result.select(\"prediction\", \"label\")\n",
    "evaluator = MulticlassClassificationEvaluator(metricName=\"accuracy\")\n",
    "print(\"Test set accuracy = \" + str(evaluator.evaluate(predictionAndLabels)))"
   ]
  },
  {
   "cell_type": "code",
   "execution_count": null,
   "metadata": {},
   "outputs": [],
   "source": []
  }
 ],
 "metadata": {
  "interpreter": {
   "hash": "b0fa6594d8f4cbf19f97940f81e996739fb7646882a419484c72d19e05852a7e"
  },
  "kernelspec": {
   "display_name": "Python 3.9.13 64-bit",
   "language": "python",
   "name": "python3"
  },
  "language_info": {
   "codemirror_mode": {
    "name": "ipython",
    "version": 3
   },
   "file_extension": ".py",
   "mimetype": "text/x-python",
   "name": "python",
   "nbconvert_exporter": "python",
   "pygments_lexer": "ipython3",
   "version": "3.9.7"
  },
  "orig_nbformat": 4
 },
 "nbformat": 4,
 "nbformat_minor": 2
}
