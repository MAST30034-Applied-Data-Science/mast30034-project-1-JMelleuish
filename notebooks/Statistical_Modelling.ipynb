{
 "cells": [
  {
   "cell_type": "markdown",
   "metadata": {},
   "source": [
    "# MAST30034 Project 1\n",
    "## Statistical Modelling"
   ]
  },
  {
   "cell_type": "code",
   "execution_count": 101,
   "metadata": {},
   "outputs": [],
   "source": [
    "import pandas as pd\n",
    "import matplotlib.pyplot as plt\n",
    "from statsmodels.formula.api import ols, glm"
   ]
  },
  {
   "cell_type": "code",
   "execution_count": 102,
   "metadata": {},
   "outputs": [],
   "source": [
    "from functools import reduce \n",
    "from pyspark.sql import DataFrame\n",
    "from pyspark.sql import SparkSession\n",
    "from pyspark.sql.functions import *\n",
    "\n",
    "# Create a spark session (which will run spark jobs)\n",
    "spark = (\n",
    "    SparkSession.builder.appName(\"MAST30034 Tutorial 1\")\n",
    "    .config(\"spark.sql.repl.eagerEval.enabled\", True) \n",
    "    .config(\"spark.sql.parquet.cacheMetadata\", \"true\")\n",
    "    .config(\"spark.sql.session.timeZone\", \"Etc/UTC\")\n",
    "    .config(\"spark.executor.memory\", \"2g\")\n",
    "    .config(\"spark.driver.memory\", \"4g\")\n",
    "    .getOrCreate()\n",
    ")"
   ]
  },
  {
   "cell_type": "code",
   "execution_count": 103,
   "metadata": {},
   "outputs": [
    {
     "data": {
      "text/plain": [
       "array(['fare_amount', 'trip_distance_km', 'trip_time_min',\n",
       "       'pickup_hour_time', 'dew_point'], dtype=object)"
      ]
     },
     "execution_count": 103,
     "metadata": {},
     "output_type": "execute_result"
    }
   ],
   "source": [
    "from sklearn.preprocessing import StandardScaler\n",
    "from sklearn.svm import SVR\n",
    "from sklearn.feature_selection import RFE\n",
    "\n",
    "COLS = ['pickup_location', 'passenger_count', 'fare_amount', 'trip_distance_km', 'trip_time_min', 'pickup_hour_time', 'temp', 'dew_point', 'pressure', 'wind_speed', 'wind_direction']\n",
    "\n",
    "df = pd.read_parquet(\"../data/curated/combined\")\n",
    "df = df.sample(frac=0.005, replace=True, random_state=1)\n",
    "variables = df[COLS]\n",
    "df['tip_amount'] = np.where(df['tip_amount'] > 0, 1, df['tip_amount'])\n",
    "target = df['tip_amount']\n",
    "\n",
    "scaler = StandardScaler()\n",
    "scaled_pd = scaler.fit_transform(variables)\n",
    "variables_scaled = pd.DataFrame(scaled_pd, columns = COLS)\n",
    "estimator = SVR(kernel=\"linear\")\n",
    "sfs = RFE(estimator, n_features_to_select=5)\n",
    "selector = sfs.fit(variables_scaled, target)\n",
    "selector.get_feature_names_out(COLS)"
   ]
  },
  {
   "cell_type": "markdown",
   "metadata": {},
   "source": [
    "## Neutral Network"
   ]
  },
  {
   "cell_type": "code",
   "execution_count": 104,
   "metadata": {},
   "outputs": [],
   "source": [
    "import numpy as np\n",
    "import pandas as pd\n",
    "from tensorflow import keras\n",
    "from tensorflow.keras.layers import Dense, Normalization\n",
    "from sklearn.model_selection import train_test_split"
   ]
  },
  {
   "cell_type": "code",
   "execution_count": 250,
   "metadata": {},
   "outputs": [
    {
     "data": {
      "text/html": [
       "<div>\n",
       "<style scoped>\n",
       "    .dataframe tbody tr th:only-of-type {\n",
       "        vertical-align: middle;\n",
       "    }\n",
       "\n",
       "    .dataframe tbody tr th {\n",
       "        vertical-align: top;\n",
       "    }\n",
       "\n",
       "    .dataframe thead th {\n",
       "        text-align: right;\n",
       "    }\n",
       "</style>\n",
       "<table border=\"1\" class=\"dataframe\">\n",
       "  <thead>\n",
       "    <tr style=\"text-align: right;\">\n",
       "      <th></th>\n",
       "      <th>fare_amount</th>\n",
       "      <th>trip_distance_km</th>\n",
       "      <th>trip_time_min</th>\n",
       "      <th>temp</th>\n",
       "      <th>tip_amount</th>\n",
       "      <th>pickup_hour_time</th>\n",
       "    </tr>\n",
       "  </thead>\n",
       "  <tbody>\n",
       "    <tr>\n",
       "      <th>1</th>\n",
       "      <td>0.158445</td>\n",
       "      <td>0.258407</td>\n",
       "      <td>0.205361</td>\n",
       "      <td>1.000000</td>\n",
       "      <td>8.50</td>\n",
       "      <td>0</td>\n",
       "    </tr>\n",
       "    <tr>\n",
       "      <th>2</th>\n",
       "      <td>0.062458</td>\n",
       "      <td>0.084488</td>\n",
       "      <td>0.122268</td>\n",
       "      <td>1.000000</td>\n",
       "      <td>3.06</td>\n",
       "      <td>0</td>\n",
       "    </tr>\n",
       "    <tr>\n",
       "      <th>5</th>\n",
       "      <td>0.069155</td>\n",
       "      <td>0.070909</td>\n",
       "      <td>0.174239</td>\n",
       "      <td>1.000000</td>\n",
       "      <td>2.00</td>\n",
       "      <td>0</td>\n",
       "    </tr>\n",
       "    <tr>\n",
       "      <th>6</th>\n",
       "      <td>0.026742</td>\n",
       "      <td>0.022846</td>\n",
       "      <td>0.041817</td>\n",
       "      <td>1.000000</td>\n",
       "      <td>1.46</td>\n",
       "      <td>0</td>\n",
       "    </tr>\n",
       "    <tr>\n",
       "      <th>7</th>\n",
       "      <td>0.022278</td>\n",
       "      <td>0.021775</td>\n",
       "      <td>0.029037</td>\n",
       "      <td>1.000000</td>\n",
       "      <td>1.26</td>\n",
       "      <td>0</td>\n",
       "    </tr>\n",
       "    <tr>\n",
       "      <th>...</th>\n",
       "      <td>...</td>\n",
       "      <td>...</td>\n",
       "      <td>...</td>\n",
       "      <td>...</td>\n",
       "      <td>...</td>\n",
       "      <td>...</td>\n",
       "    </tr>\n",
       "    <tr>\n",
       "      <th>3435331</th>\n",
       "      <td>0.180767</td>\n",
       "      <td>0.314652</td>\n",
       "      <td>0.212722</td>\n",
       "      <td>0.749104</td>\n",
       "      <td>7.19</td>\n",
       "      <td>23</td>\n",
       "    </tr>\n",
       "    <tr>\n",
       "      <th>3435332</th>\n",
       "      <td>0.020046</td>\n",
       "      <td>0.019833</td>\n",
       "      <td>0.025844</td>\n",
       "      <td>0.749104</td>\n",
       "      <td>5.00</td>\n",
       "      <td>23</td>\n",
       "    </tr>\n",
       "    <tr>\n",
       "      <th>3435333</th>\n",
       "      <td>0.098174</td>\n",
       "      <td>0.138792</td>\n",
       "      <td>0.172430</td>\n",
       "      <td>0.749104</td>\n",
       "      <td>3.50</td>\n",
       "      <td>23</td>\n",
       "    </tr>\n",
       "    <tr>\n",
       "      <th>3435334</th>\n",
       "      <td>0.069155</td>\n",
       "      <td>0.081033</td>\n",
       "      <td>0.158399</td>\n",
       "      <td>0.749104</td>\n",
       "      <td>5.04</td>\n",
       "      <td>23</td>\n",
       "    </tr>\n",
       "    <tr>\n",
       "      <th>3435335</th>\n",
       "      <td>0.122729</td>\n",
       "      <td>0.178016</td>\n",
       "      <td>0.217866</td>\n",
       "      <td>0.749104</td>\n",
       "      <td>6.31</td>\n",
       "      <td>23</td>\n",
       "    </tr>\n",
       "  </tbody>\n",
       "</table>\n",
       "<p>2259717 rows × 6 columns</p>\n",
       "</div>"
      ],
      "text/plain": [
       "         fare_amount  trip_distance_km  trip_time_min      temp  tip_amount  \\\n",
       "1           0.158445          0.258407       0.205361  1.000000        8.50   \n",
       "2           0.062458          0.084488       0.122268  1.000000        3.06   \n",
       "5           0.069155          0.070909       0.174239  1.000000        2.00   \n",
       "6           0.026742          0.022846       0.041817  1.000000        1.46   \n",
       "7           0.022278          0.021775       0.029037  1.000000        1.26   \n",
       "...              ...               ...            ...       ...         ...   \n",
       "3435331     0.180767          0.314652       0.212722  0.749104        7.19   \n",
       "3435332     0.020046          0.019833       0.025844  0.749104        5.00   \n",
       "3435333     0.098174          0.138792       0.172430  0.749104        3.50   \n",
       "3435334     0.069155          0.081033       0.158399  0.749104        5.04   \n",
       "3435335     0.122729          0.178016       0.217866  0.749104        6.31   \n",
       "\n",
       "         pickup_hour_time  \n",
       "1                       0  \n",
       "2                       0  \n",
       "5                       0  \n",
       "6                       0  \n",
       "7                       0  \n",
       "...                   ...  \n",
       "3435331                23  \n",
       "3435332                23  \n",
       "3435333                23  \n",
       "3435334                23  \n",
       "3435335                23  \n",
       "\n",
       "[2259717 rows x 6 columns]"
      ]
     },
     "execution_count": 250,
     "metadata": {},
     "output_type": "execute_result"
    }
   ],
   "source": [
    "df = pd.read_parquet(\"../data/curated/combined\")\n",
    "COLS = ['fare_amount', 'trip_distance_km', 'trip_time_min', 'temp']\n",
    "variables = df[COLS]\n",
    "target = df['tip_amount']\n",
    "normalized_df=(variables-variables.min())/(variables.max()-variables.min())\n",
    "normalized_df['tip_amount'] = target\n",
    "normalized_df['pickup_hour_time'] = df['pickup_hour_time']\n",
    "normalized_df = normalized_df.drop(normalized_df[normalized_df.tip_amount == 0].index)\n",
    "df = normalized_df\n",
    "df"
   ]
  },
  {
   "cell_type": "code",
   "execution_count": 214,
   "metadata": {},
   "outputs": [],
   "source": [
    "df = pd.read_parquet(\"../data/curated/combined\")\n",
    "COLS = ['tip_amount', 'fare_amount', 'trip_distance_km', 'trip_time_min','temp', 'pickup_hour_time']\n",
    "df = df[COLS]"
   ]
  },
  {
   "cell_type": "code",
   "execution_count": 251,
   "metadata": {},
   "outputs": [
    {
     "data": {
      "text/html": [
       "<div>\n",
       "<style scoped>\n",
       "    .dataframe tbody tr th:only-of-type {\n",
       "        vertical-align: middle;\n",
       "    }\n",
       "\n",
       "    .dataframe tbody tr th {\n",
       "        vertical-align: top;\n",
       "    }\n",
       "\n",
       "    .dataframe thead th {\n",
       "        text-align: right;\n",
       "    }\n",
       "</style>\n",
       "<table border=\"1\" class=\"dataframe\">\n",
       "  <thead>\n",
       "    <tr style=\"text-align: right;\">\n",
       "      <th></th>\n",
       "      <th>fare_amount</th>\n",
       "      <th>trip_distance_km</th>\n",
       "      <th>trip_time_min</th>\n",
       "      <th>temp</th>\n",
       "      <th>tip_amount</th>\n",
       "      <th>pickup_hour_time_0</th>\n",
       "      <th>pickup_hour_time_1</th>\n",
       "      <th>pickup_hour_time_2</th>\n",
       "      <th>pickup_hour_time_3</th>\n",
       "      <th>pickup_hour_time_4</th>\n",
       "      <th>...</th>\n",
       "      <th>pickup_hour_time_14</th>\n",
       "      <th>pickup_hour_time_15</th>\n",
       "      <th>pickup_hour_time_16</th>\n",
       "      <th>pickup_hour_time_17</th>\n",
       "      <th>pickup_hour_time_18</th>\n",
       "      <th>pickup_hour_time_19</th>\n",
       "      <th>pickup_hour_time_20</th>\n",
       "      <th>pickup_hour_time_21</th>\n",
       "      <th>pickup_hour_time_22</th>\n",
       "      <th>pickup_hour_time_23</th>\n",
       "    </tr>\n",
       "  </thead>\n",
       "  <tbody>\n",
       "    <tr>\n",
       "      <th>1</th>\n",
       "      <td>0.158445</td>\n",
       "      <td>0.258407</td>\n",
       "      <td>0.205361</td>\n",
       "      <td>1.000000</td>\n",
       "      <td>8.50</td>\n",
       "      <td>1</td>\n",
       "      <td>0</td>\n",
       "      <td>0</td>\n",
       "      <td>0</td>\n",
       "      <td>0</td>\n",
       "      <td>...</td>\n",
       "      <td>0</td>\n",
       "      <td>0</td>\n",
       "      <td>0</td>\n",
       "      <td>0</td>\n",
       "      <td>0</td>\n",
       "      <td>0</td>\n",
       "      <td>0</td>\n",
       "      <td>0</td>\n",
       "      <td>0</td>\n",
       "      <td>0</td>\n",
       "    </tr>\n",
       "    <tr>\n",
       "      <th>2</th>\n",
       "      <td>0.062458</td>\n",
       "      <td>0.084488</td>\n",
       "      <td>0.122268</td>\n",
       "      <td>1.000000</td>\n",
       "      <td>3.06</td>\n",
       "      <td>1</td>\n",
       "      <td>0</td>\n",
       "      <td>0</td>\n",
       "      <td>0</td>\n",
       "      <td>0</td>\n",
       "      <td>...</td>\n",
       "      <td>0</td>\n",
       "      <td>0</td>\n",
       "      <td>0</td>\n",
       "      <td>0</td>\n",
       "      <td>0</td>\n",
       "      <td>0</td>\n",
       "      <td>0</td>\n",
       "      <td>0</td>\n",
       "      <td>0</td>\n",
       "      <td>0</td>\n",
       "    </tr>\n",
       "    <tr>\n",
       "      <th>5</th>\n",
       "      <td>0.069155</td>\n",
       "      <td>0.070909</td>\n",
       "      <td>0.174239</td>\n",
       "      <td>1.000000</td>\n",
       "      <td>2.00</td>\n",
       "      <td>1</td>\n",
       "      <td>0</td>\n",
       "      <td>0</td>\n",
       "      <td>0</td>\n",
       "      <td>0</td>\n",
       "      <td>...</td>\n",
       "      <td>0</td>\n",
       "      <td>0</td>\n",
       "      <td>0</td>\n",
       "      <td>0</td>\n",
       "      <td>0</td>\n",
       "      <td>0</td>\n",
       "      <td>0</td>\n",
       "      <td>0</td>\n",
       "      <td>0</td>\n",
       "      <td>0</td>\n",
       "    </tr>\n",
       "    <tr>\n",
       "      <th>6</th>\n",
       "      <td>0.026742</td>\n",
       "      <td>0.022846</td>\n",
       "      <td>0.041817</td>\n",
       "      <td>1.000000</td>\n",
       "      <td>1.46</td>\n",
       "      <td>1</td>\n",
       "      <td>0</td>\n",
       "      <td>0</td>\n",
       "      <td>0</td>\n",
       "      <td>0</td>\n",
       "      <td>...</td>\n",
       "      <td>0</td>\n",
       "      <td>0</td>\n",
       "      <td>0</td>\n",
       "      <td>0</td>\n",
       "      <td>0</td>\n",
       "      <td>0</td>\n",
       "      <td>0</td>\n",
       "      <td>0</td>\n",
       "      <td>0</td>\n",
       "      <td>0</td>\n",
       "    </tr>\n",
       "    <tr>\n",
       "      <th>7</th>\n",
       "      <td>0.022278</td>\n",
       "      <td>0.021775</td>\n",
       "      <td>0.029037</td>\n",
       "      <td>1.000000</td>\n",
       "      <td>1.26</td>\n",
       "      <td>1</td>\n",
       "      <td>0</td>\n",
       "      <td>0</td>\n",
       "      <td>0</td>\n",
       "      <td>0</td>\n",
       "      <td>...</td>\n",
       "      <td>0</td>\n",
       "      <td>0</td>\n",
       "      <td>0</td>\n",
       "      <td>0</td>\n",
       "      <td>0</td>\n",
       "      <td>0</td>\n",
       "      <td>0</td>\n",
       "      <td>0</td>\n",
       "      <td>0</td>\n",
       "      <td>0</td>\n",
       "    </tr>\n",
       "    <tr>\n",
       "      <th>...</th>\n",
       "      <td>...</td>\n",
       "      <td>...</td>\n",
       "      <td>...</td>\n",
       "      <td>...</td>\n",
       "      <td>...</td>\n",
       "      <td>...</td>\n",
       "      <td>...</td>\n",
       "      <td>...</td>\n",
       "      <td>...</td>\n",
       "      <td>...</td>\n",
       "      <td>...</td>\n",
       "      <td>...</td>\n",
       "      <td>...</td>\n",
       "      <td>...</td>\n",
       "      <td>...</td>\n",
       "      <td>...</td>\n",
       "      <td>...</td>\n",
       "      <td>...</td>\n",
       "      <td>...</td>\n",
       "      <td>...</td>\n",
       "      <td>...</td>\n",
       "    </tr>\n",
       "    <tr>\n",
       "      <th>3435331</th>\n",
       "      <td>0.180767</td>\n",
       "      <td>0.314652</td>\n",
       "      <td>0.212722</td>\n",
       "      <td>0.749104</td>\n",
       "      <td>7.19</td>\n",
       "      <td>0</td>\n",
       "      <td>0</td>\n",
       "      <td>0</td>\n",
       "      <td>0</td>\n",
       "      <td>0</td>\n",
       "      <td>...</td>\n",
       "      <td>0</td>\n",
       "      <td>0</td>\n",
       "      <td>0</td>\n",
       "      <td>0</td>\n",
       "      <td>0</td>\n",
       "      <td>0</td>\n",
       "      <td>0</td>\n",
       "      <td>0</td>\n",
       "      <td>0</td>\n",
       "      <td>1</td>\n",
       "    </tr>\n",
       "    <tr>\n",
       "      <th>3435332</th>\n",
       "      <td>0.020046</td>\n",
       "      <td>0.019833</td>\n",
       "      <td>0.025844</td>\n",
       "      <td>0.749104</td>\n",
       "      <td>5.00</td>\n",
       "      <td>0</td>\n",
       "      <td>0</td>\n",
       "      <td>0</td>\n",
       "      <td>0</td>\n",
       "      <td>0</td>\n",
       "      <td>...</td>\n",
       "      <td>0</td>\n",
       "      <td>0</td>\n",
       "      <td>0</td>\n",
       "      <td>0</td>\n",
       "      <td>0</td>\n",
       "      <td>0</td>\n",
       "      <td>0</td>\n",
       "      <td>0</td>\n",
       "      <td>0</td>\n",
       "      <td>1</td>\n",
       "    </tr>\n",
       "    <tr>\n",
       "      <th>3435333</th>\n",
       "      <td>0.098174</td>\n",
       "      <td>0.138792</td>\n",
       "      <td>0.172430</td>\n",
       "      <td>0.749104</td>\n",
       "      <td>3.50</td>\n",
       "      <td>0</td>\n",
       "      <td>0</td>\n",
       "      <td>0</td>\n",
       "      <td>0</td>\n",
       "      <td>0</td>\n",
       "      <td>...</td>\n",
       "      <td>0</td>\n",
       "      <td>0</td>\n",
       "      <td>0</td>\n",
       "      <td>0</td>\n",
       "      <td>0</td>\n",
       "      <td>0</td>\n",
       "      <td>0</td>\n",
       "      <td>0</td>\n",
       "      <td>0</td>\n",
       "      <td>1</td>\n",
       "    </tr>\n",
       "    <tr>\n",
       "      <th>3435334</th>\n",
       "      <td>0.069155</td>\n",
       "      <td>0.081033</td>\n",
       "      <td>0.158399</td>\n",
       "      <td>0.749104</td>\n",
       "      <td>5.04</td>\n",
       "      <td>0</td>\n",
       "      <td>0</td>\n",
       "      <td>0</td>\n",
       "      <td>0</td>\n",
       "      <td>0</td>\n",
       "      <td>...</td>\n",
       "      <td>0</td>\n",
       "      <td>0</td>\n",
       "      <td>0</td>\n",
       "      <td>0</td>\n",
       "      <td>0</td>\n",
       "      <td>0</td>\n",
       "      <td>0</td>\n",
       "      <td>0</td>\n",
       "      <td>0</td>\n",
       "      <td>1</td>\n",
       "    </tr>\n",
       "    <tr>\n",
       "      <th>3435335</th>\n",
       "      <td>0.122729</td>\n",
       "      <td>0.178016</td>\n",
       "      <td>0.217866</td>\n",
       "      <td>0.749104</td>\n",
       "      <td>6.31</td>\n",
       "      <td>0</td>\n",
       "      <td>0</td>\n",
       "      <td>0</td>\n",
       "      <td>0</td>\n",
       "      <td>0</td>\n",
       "      <td>...</td>\n",
       "      <td>0</td>\n",
       "      <td>0</td>\n",
       "      <td>0</td>\n",
       "      <td>0</td>\n",
       "      <td>0</td>\n",
       "      <td>0</td>\n",
       "      <td>0</td>\n",
       "      <td>0</td>\n",
       "      <td>0</td>\n",
       "      <td>1</td>\n",
       "    </tr>\n",
       "  </tbody>\n",
       "</table>\n",
       "<p>2259717 rows × 29 columns</p>\n",
       "</div>"
      ],
      "text/plain": [
       "         fare_amount  trip_distance_km  trip_time_min      temp  tip_amount  \\\n",
       "1           0.158445          0.258407       0.205361  1.000000        8.50   \n",
       "2           0.062458          0.084488       0.122268  1.000000        3.06   \n",
       "5           0.069155          0.070909       0.174239  1.000000        2.00   \n",
       "6           0.026742          0.022846       0.041817  1.000000        1.46   \n",
       "7           0.022278          0.021775       0.029037  1.000000        1.26   \n",
       "...              ...               ...            ...       ...         ...   \n",
       "3435331     0.180767          0.314652       0.212722  0.749104        7.19   \n",
       "3435332     0.020046          0.019833       0.025844  0.749104        5.00   \n",
       "3435333     0.098174          0.138792       0.172430  0.749104        3.50   \n",
       "3435334     0.069155          0.081033       0.158399  0.749104        5.04   \n",
       "3435335     0.122729          0.178016       0.217866  0.749104        6.31   \n",
       "\n",
       "         pickup_hour_time_0  pickup_hour_time_1  pickup_hour_time_2  \\\n",
       "1                         1                   0                   0   \n",
       "2                         1                   0                   0   \n",
       "5                         1                   0                   0   \n",
       "6                         1                   0                   0   \n",
       "7                         1                   0                   0   \n",
       "...                     ...                 ...                 ...   \n",
       "3435331                   0                   0                   0   \n",
       "3435332                   0                   0                   0   \n",
       "3435333                   0                   0                   0   \n",
       "3435334                   0                   0                   0   \n",
       "3435335                   0                   0                   0   \n",
       "\n",
       "         pickup_hour_time_3  pickup_hour_time_4  ...  pickup_hour_time_14  \\\n",
       "1                         0                   0  ...                    0   \n",
       "2                         0                   0  ...                    0   \n",
       "5                         0                   0  ...                    0   \n",
       "6                         0                   0  ...                    0   \n",
       "7                         0                   0  ...                    0   \n",
       "...                     ...                 ...  ...                  ...   \n",
       "3435331                   0                   0  ...                    0   \n",
       "3435332                   0                   0  ...                    0   \n",
       "3435333                   0                   0  ...                    0   \n",
       "3435334                   0                   0  ...                    0   \n",
       "3435335                   0                   0  ...                    0   \n",
       "\n",
       "         pickup_hour_time_15  pickup_hour_time_16  pickup_hour_time_17  \\\n",
       "1                          0                    0                    0   \n",
       "2                          0                    0                    0   \n",
       "5                          0                    0                    0   \n",
       "6                          0                    0                    0   \n",
       "7                          0                    0                    0   \n",
       "...                      ...                  ...                  ...   \n",
       "3435331                    0                    0                    0   \n",
       "3435332                    0                    0                    0   \n",
       "3435333                    0                    0                    0   \n",
       "3435334                    0                    0                    0   \n",
       "3435335                    0                    0                    0   \n",
       "\n",
       "         pickup_hour_time_18  pickup_hour_time_19  pickup_hour_time_20  \\\n",
       "1                          0                    0                    0   \n",
       "2                          0                    0                    0   \n",
       "5                          0                    0                    0   \n",
       "6                          0                    0                    0   \n",
       "7                          0                    0                    0   \n",
       "...                      ...                  ...                  ...   \n",
       "3435331                    0                    0                    0   \n",
       "3435332                    0                    0                    0   \n",
       "3435333                    0                    0                    0   \n",
       "3435334                    0                    0                    0   \n",
       "3435335                    0                    0                    0   \n",
       "\n",
       "         pickup_hour_time_21  pickup_hour_time_22  pickup_hour_time_23  \n",
       "1                          0                    0                    0  \n",
       "2                          0                    0                    0  \n",
       "5                          0                    0                    0  \n",
       "6                          0                    0                    0  \n",
       "7                          0                    0                    0  \n",
       "...                      ...                  ...                  ...  \n",
       "3435331                    0                    0                    1  \n",
       "3435332                    0                    0                    1  \n",
       "3435333                    0                    0                    1  \n",
       "3435334                    0                    0                    1  \n",
       "3435335                    0                    0                    1  \n",
       "\n",
       "[2259717 rows x 29 columns]"
      ]
     },
     "execution_count": 251,
     "metadata": {},
     "output_type": "execute_result"
    }
   ],
   "source": [
    "df = pd.get_dummies(df, columns=['pickup_hour_time'])\n",
    "df"
   ]
  },
  {
   "cell_type": "code",
   "execution_count": 252,
   "metadata": {},
   "outputs": [
    {
     "name": "stdout",
     "output_type": "stream",
     "text": [
      "1807773 training instances, 451944 test instances\n"
     ]
    }
   ],
   "source": [
    "TARGET_COLS = ['tip_amount']\n",
    "\n",
    "train, test = train_test_split(df, train_size=0.8, random_state=0)\n",
    "\n",
    "X_train, y_train = train.drop(TARGET_COLS, axis=1), train[TARGET_COLS]\n",
    "X_test, y_test = test.drop(TARGET_COLS, axis=1), test[TARGET_COLS]\n",
    "\n",
    "print(f'{len(X_train)} training instances, {len(X_test)} test instances')"
   ]
  },
  {
   "cell_type": "code",
   "execution_count": 253,
   "metadata": {},
   "outputs": [],
   "source": [
    "# Setup a normalization layer and adapt it to the training set so that it knows\n",
    "# what mean and sd to use when normalising\n",
    "norm_layer = Normalization()\n",
    "norm_layer.adapt(X_train)"
   ]
  },
  {
   "cell_type": "code",
   "execution_count": 254,
   "metadata": {},
   "outputs": [],
   "source": [
    "model = keras.Sequential(\n",
    "    [   \n",
    "        norm_layer,                   # our normalisation layer recieves the input\n",
    "        Dense(5, activation='relu'),  # the hidden layer gets the normalised result\n",
    "        Dense(5, activation='relu'),   # (in case you want to try an extra hidden layer)\n",
    "        Dense(1, activation='relu')   # and the output layer has a single node which will estimate total_amount\n",
    "    ]\n",
    ")"
   ]
  },
  {
   "cell_type": "code",
   "execution_count": 255,
   "metadata": {},
   "outputs": [],
   "source": [
    "model.compile(\n",
    "    optimizer='adam',  # Adam optimises using gradient descent, is generally fast and a good choice in many cases\n",
    "    loss='MSE'  # Mean Squared Error makes sense for this problem, \n",
    "                # though we could use Mean Absolute Error, or many other choices.\n",
    "                # Classification outputs would use a different loss (eg. BinaryCrossentropy)\n",
    ")"
   ]
  },
  {
   "cell_type": "code",
   "execution_count": 256,
   "metadata": {},
   "outputs": [
    {
     "name": "stdout",
     "output_type": "stream",
     "text": [
      "Epoch 1/10\n",
      "7232/7232 [==============================] - 5s 634us/step - loss: 2.0974 - val_loss: 1.9676\n",
      "Epoch 2/10\n",
      "7232/7232 [==============================] - 5s 641us/step - loss: 1.9787 - val_loss: 1.9653\n",
      "Epoch 3/10\n",
      "7232/7232 [==============================] - 4s 609us/step - loss: 1.9770 - val_loss: 1.9656\n",
      "Epoch 4/10\n",
      "7232/7232 [==============================] - 4s 606us/step - loss: 1.9761 - val_loss: 1.9646\n",
      "Epoch 5/10\n",
      "7232/7232 [==============================] - 4s 608us/step - loss: 1.9750 - val_loss: 1.9668\n",
      "Epoch 6/10\n",
      "7232/7232 [==============================] - 4s 607us/step - loss: 1.9753 - val_loss: 1.9722\n",
      "Epoch 7/10\n",
      "7232/7232 [==============================] - 4s 618us/step - loss: 1.9744 - val_loss: 1.9639\n",
      "Epoch 8/10\n",
      "7232/7232 [==============================] - 4s 616us/step - loss: 1.9745 - val_loss: 1.9692\n",
      "Epoch 9/10\n",
      "7232/7232 [==============================] - 5s 645us/step - loss: 1.9736 - val_loss: 1.9635\n",
      "Epoch 10/10\n",
      "7232/7232 [==============================] - 4s 610us/step - loss: 1.9737 - val_loss: 1.9619\n"
     ]
    }
   ],
   "source": [
    "history = model.fit(\n",
    "    x=X_train,\n",
    "    y=y_train,\n",
    "    batch_size=200,\n",
    "    validation_split=0.20,\n",
    "    epochs=10\n",
    ")"
   ]
  },
  {
   "cell_type": "code",
   "execution_count": 257,
   "metadata": {},
   "outputs": [
    {
     "name": "stdout",
     "output_type": "stream",
     "text": [
      "14124/14124 [==============================] - 5s 366us/step\n"
     ]
    },
    {
     "data": {
      "text/html": [
       "<div>\n",
       "<style scoped>\n",
       "    .dataframe tbody tr th:only-of-type {\n",
       "        vertical-align: middle;\n",
       "    }\n",
       "\n",
       "    .dataframe tbody tr th {\n",
       "        vertical-align: top;\n",
       "    }\n",
       "\n",
       "    .dataframe thead th {\n",
       "        text-align: right;\n",
       "    }\n",
       "</style>\n",
       "<table border=\"1\" class=\"dataframe\">\n",
       "  <thead>\n",
       "    <tr style=\"text-align: right;\">\n",
       "      <th></th>\n",
       "      <th>tip_amount</th>\n",
       "      <th>prediction</th>\n",
       "    </tr>\n",
       "  </thead>\n",
       "  <tbody>\n",
       "    <tr>\n",
       "      <th>842475</th>\n",
       "      <td>1.45</td>\n",
       "      <td>1.261032</td>\n",
       "    </tr>\n",
       "    <tr>\n",
       "      <th>632835</th>\n",
       "      <td>2.50</td>\n",
       "      <td>4.768383</td>\n",
       "    </tr>\n",
       "    <tr>\n",
       "      <th>896096</th>\n",
       "      <td>1.56</td>\n",
       "      <td>1.624838</td>\n",
       "    </tr>\n",
       "    <tr>\n",
       "      <th>3188960</th>\n",
       "      <td>1.26</td>\n",
       "      <td>1.327786</td>\n",
       "    </tr>\n",
       "    <tr>\n",
       "      <th>1311309</th>\n",
       "      <td>4.49</td>\n",
       "      <td>3.808471</td>\n",
       "    </tr>\n",
       "    <tr>\n",
       "      <th>...</th>\n",
       "      <td>...</td>\n",
       "      <td>...</td>\n",
       "    </tr>\n",
       "    <tr>\n",
       "      <th>1798998</th>\n",
       "      <td>7.20</td>\n",
       "      <td>5.304352</td>\n",
       "    </tr>\n",
       "    <tr>\n",
       "      <th>2065029</th>\n",
       "      <td>1.06</td>\n",
       "      <td>1.268942</td>\n",
       "    </tr>\n",
       "    <tr>\n",
       "      <th>34166</th>\n",
       "      <td>1.00</td>\n",
       "      <td>1.527292</td>\n",
       "    </tr>\n",
       "    <tr>\n",
       "      <th>1381487</th>\n",
       "      <td>3.76</td>\n",
       "      <td>3.587886</td>\n",
       "    </tr>\n",
       "    <tr>\n",
       "      <th>725280</th>\n",
       "      <td>2.76</td>\n",
       "      <td>2.648912</td>\n",
       "    </tr>\n",
       "  </tbody>\n",
       "</table>\n",
       "<p>451944 rows × 2 columns</p>\n",
       "</div>"
      ],
      "text/plain": [
       "         tip_amount  prediction\n",
       "842475         1.45    1.261032\n",
       "632835         2.50    4.768383\n",
       "896096         1.56    1.624838\n",
       "3188960        1.26    1.327786\n",
       "1311309        4.49    3.808471\n",
       "...             ...         ...\n",
       "1798998        7.20    5.304352\n",
       "2065029        1.06    1.268942\n",
       "34166          1.00    1.527292\n",
       "1381487        3.76    3.587886\n",
       "725280         2.76    2.648912\n",
       "\n",
       "[451944 rows x 2 columns]"
      ]
     },
     "execution_count": 257,
     "metadata": {},
     "output_type": "execute_result"
    }
   ],
   "source": [
    "comparison = y_test.copy()\n",
    "comparison.loc[:, 'prediction'] = model.predict(X_test)\n",
    "comparison"
   ]
  },
  {
   "cell_type": "code",
   "execution_count": 258,
   "metadata": {},
   "outputs": [
    {
     "name": "stdout",
     "output_type": "stream",
     "text": [
      "14124/14124 [==============================] - 5s 367us/step\n",
      "Model R^2: 0.5412\n"
     ]
    }
   ],
   "source": [
    "predictions = model.predict(X_test)\n",
    "errors = np.array(predictions - y_test)\n",
    "squared_errors = errors**2\n",
    "tot_sum_squares = (np.array(y_test - y_test.mean())**2).sum()\n",
    "r2 = 1 - (squared_errors.sum() / tot_sum_squares)\n",
    "print(f'Model R^2: {r2:.4f}')"
   ]
  },
  {
   "cell_type": "code",
   "execution_count": 267,
   "metadata": {},
   "outputs": [
    {
     "data": {
      "text/plain": [
       "<matplotlib.legend.Legend at 0x2bf41bcd0>"
      ]
     },
     "execution_count": 267,
     "metadata": {},
     "output_type": "execute_result"
    },
    {
     "data": {
      "image/png": "[encoded data removed]",
      "text/plain": [
       "<Figure size 576x360 with 1 Axes>"
      ]
     },
     "metadata": {
      "needs_background": "light"
     },
     "output_type": "display_data"
    }
   ],
   "source": [
    "comparison.sort_values(by=['tip_amount'])\n",
    "x = comparison['tip_amount']\n",
    "y = comparison['prediction']\n",
    "fig, ax = plt.subplots(figsize=(8,5))\n",
    "line = range(20)\n",
    "onetoone = [x for x in range(20)]\n",
    "fare_df = pd.DataFrame({\"Tip Amount\": x, \"Predicted Amount\":y})\n",
    "fare_df = fare_df.sample(frac=0.01, replace=True, random_state=1)\n",
    "p = np.poly1d(np.polyfit(x, y, 1))\n",
    "tip_reg = [p(x) for x in range(20)]\n",
    "ax.plot(line, onetoone, zorder=1, color = 'orange')\n",
    "fare_df.plot(kind='scatter', x= 'Tip Amount', y= 'Predicted Amount', s = 1, title=\"Neural Network: prediction vs. tip amount\", ax = ax, zorder =-1) \n",
    "plt.legend(['prediction = tip_amount', 'R^2 = 0.5412'], loc = 'lower right')"
   ]
  },
  {
   "cell_type": "markdown",
   "metadata": {},
   "source": [
    "## Linear regression"
   ]
  },
  {
   "cell_type": "code",
   "execution_count": 325,
   "metadata": {},
   "outputs": [],
   "source": [
    "df = pd.read_parquet(\"../data/curated/combined\")\n",
    "df = df.drop(df[df.tip_amount == 0].index)\n",
    "variables = ['fare_amount', 'trip_distance_km', 'trip_time_min','temp', 'pickup_hour_time']\n",
    "X = df[variables]\n",
    "y = df['tip_amount']"
   ]
  },
  {
   "cell_type": "code",
   "execution_count": 326,
   "metadata": {},
   "outputs": [],
   "source": [
    "X_train, X_test, y_train, y_test = train_test_split(X, y, test_size=0.2, random_state=1)"
   ]
  },
  {
   "cell_type": "code",
   "execution_count": 327,
   "metadata": {},
   "outputs": [],
   "source": [
    "scaler = StandardScaler()\n",
    "X_train = scaler.fit_transform(X_train)\n",
    "X_test = scaler.transform(X_test)"
   ]
  },
  {
   "cell_type": "code",
   "execution_count": 328,
   "metadata": {},
   "outputs": [],
   "source": [
    "model = LinearRegression()\n",
    "model = model.fit(X_train, y_train)"
   ]
  },
  {
   "cell_type": "code",
   "execution_count": 329,
   "metadata": {},
   "outputs": [
    {
     "name": "stdout",
     "output_type": "stream",
     "text": [
      "Model R^2: 0.5456\n"
     ]
    }
   ],
   "source": [
    "predictions = model.predict(X_test)\n",
    "errors = np.array(predictions - y_test)\n",
    "squared_errors = errors**2\n",
    "tot_sum_squares = (np.array(y_test - y_test.mean())**2).sum()\n",
    "r2 = 1 - (squared_errors.sum() / tot_sum_squares)\n",
    "print(f'Model R^2: {r2:.4f}')"
   ]
  },
  {
   "cell_type": "code",
   "execution_count": 330,
   "metadata": {},
   "outputs": [
    {
     "data": {
      "text/plain": [
       "Text(60, 17, 'R^2 = 0.5456')"
      ]
     },
     "execution_count": 330,
     "metadata": {},
     "output_type": "execute_result"
    },
    {
     "data": {
      "image/png": "[encoded data removed]",
      "text/plain": [
       "<Figure size 576x360 with 1 Axes>"
      ]
     },
     "metadata": {
      "needs_background": "light"
     },
     "output_type": "display_data"
    }
   ],
   "source": [
    "y = predictions\n",
    "x = y_test\n",
    "fig, ax = plt.subplots(figsize=(8,5))\n",
    "line = range(20)\n",
    "onetoone = [x for x in range(20)]\n",
    "fare_df = pd.DataFrame({\"Tip Amount\": x, \"Predicted Amount\":y})\n",
    "fare_df = fare_df.sample(frac=0.01, replace=True, random_state=1)\n",
    "p = np.poly1d(np.polyfit(x, y, 1))\n",
    "tip_reg = [p(x) for x in range(20)]\n",
    "ax.plot(line, onetoone, zorder=1, color = 'orange')\n",
    "fare_df.plot(kind='scatter', x= 'Tip Amount', y= 'Predicted Amount', s = 1, title=\"Linear Regression: prediction vs. tip amount\", ax = ax, zorder =-1) \n",
    "plt.legend(['prediction = tip_amount'], loc = 'upper right')\n",
    "ax.annotate(f\"R^2 = {r2:.4f}\", (60, 17))"
   ]
  },
  {
   "cell_type": "markdown",
   "metadata": {},
   "source": [
    "### Elastic Net Regression\n"
   ]
  },
  {
   "cell_type": "code",
   "execution_count": 350,
   "metadata": {},
   "outputs": [],
   "source": [
    "df = pd.read_parquet(\"../data/curated/combined\")\n",
    "df = df.drop(df[df.tip_amount == 0].index)\n",
    "variables = ['fare_amount', 'trip_distance_km', 'trip_time_min','temp', 'pickup_hour_time']\n",
    "X = df[variables]\n",
    "y = df['tip_amount']"
   ]
  },
  {
   "cell_type": "code",
   "execution_count": 351,
   "metadata": {},
   "outputs": [],
   "source": [
    "X_train, X_test, y_train, y_test = train_test_split(X, y, test_size=0.2)"
   ]
  },
  {
   "cell_type": "code",
   "execution_count": 368,
   "metadata": {},
   "outputs": [
    {
     "ename": "TypeError",
     "evalue": "'float' object cannot be interpreted as an integer",
     "output_type": "error",
     "traceback": [
      "\u001b[0;31m---------------------------------------------------------------------------\u001b[0m",
      "\u001b[0;31mTypeError\u001b[0m                                 Traceback (most recent call last)",
      "\u001b[1;32m/Users/jackmelleuish/Library/CloudStorage/OneDrive-TheUniversityofMelbourne/Desktop/Jack/Uni/2022/Semester 2/Data Science/JMelleuish Project 1/notebooks/Statistical_Modelling.ipynb Cell 28'\u001b[0m in \u001b[0;36m<cell line: 4>\u001b[0;34m()\u001b[0m\n\u001b[1;32m      <a href='vscode-notebook-cell:/Users/jackmelleuish/Library/CloudStorage/OneDrive-TheUniversityofMelbourne/Desktop/Jack/Uni/2022/Semester%202/Data%20Science/JMelleuish%20Project%201/notebooks/Statistical_Modelling.ipynb#ch0000061?line=1'>2</a>\u001b[0m X_train \u001b[39m=\u001b[39m scaler\u001b[39m.\u001b[39mfit_transform(X_train)\n\u001b[1;32m      <a href='vscode-notebook-cell:/Users/jackmelleuish/Library/CloudStorage/OneDrive-TheUniversityofMelbourne/Desktop/Jack/Uni/2022/Semester%202/Data%20Science/JMelleuish%20Project%201/notebooks/Statistical_Modelling.ipynb#ch0000061?line=2'>3</a>\u001b[0m X_test \u001b[39m=\u001b[39m scaler\u001b[39m.\u001b[39mtransform(X_test)\n\u001b[0;32m----> <a href='vscode-notebook-cell:/Users/jackmelleuish/Library/CloudStorage/OneDrive-TheUniversityofMelbourne/Desktop/Jack/Uni/2022/Semester%202/Data%20Science/JMelleuish%20Project%201/notebooks/Statistical_Modelling.ipynb#ch0000061?line=3'>4</a>\u001b[0m \u001b[39mprint\u001b[39m(\u001b[39mrange\u001b[39;49m(\u001b[39m0\u001b[39;49m,\u001b[39m1\u001b[39;49m,\u001b[39m0.1\u001b[39;49m))\n",
      "\u001b[0;31mTypeError\u001b[0m: 'float' object cannot be interpreted as an integer"
     ]
    }
   ],
   "source": [
    "scaler = StandardScaler()\n",
    "X_train = scaler.fit_transform(X_train)\n",
    "X_test = scaler.transform(X_test)"
   ]
  },
  {
   "cell_type": "code",
   "execution_count": 384,
   "metadata": {},
   "outputs": [
    {
     "name": "stdout",
     "output_type": "stream",
     "text": [
      "Model R^2: 0.5164\n",
      "Model R^2: 0.5156\n",
      "Model R^2: 0.5147\n",
      "Model R^2: 0.5138\n",
      "Model R^2: 0.5129\n",
      "Model R^2: 0.5120\n",
      "Model R^2: 0.5110\n",
      "Model R^2: 0.5101\n",
      "Model R^2: 0.5091\n"
     ]
    }
   ],
   "source": [
    "from sklearn.linear_model import ElasticNet\n",
    "for i in range(1, 10):\n",
    "    model = ElasticNet(random_state=1, l1_ratio = i/100)\n",
    "    model.fit(X_train,y_train)\n",
    "    predictions = model.predict(X_test)\n",
    "    errors = np.array(predictions - y_test)\n",
    "    squared_errors = errors**2\n",
    "    tot_sum_squares = (np.array(y_test - y_test.mean())**2).sum()\n",
    "    r2 = 1 - (squared_errors.sum() / tot_sum_squares)\n",
    "    print(f'Model R^2: {r2:.4f}')"
   ]
  },
  {
   "cell_type": "code",
   "execution_count": 393,
   "metadata": {},
   "outputs": [
    {
     "name": "stdout",
     "output_type": "stream",
     "text": [
      "Model R^2: 0.5675\n",
      "Model R^2: 0.5665\n",
      "Model R^2: 0.5656\n",
      "Model R^2: 0.5649\n",
      "Model R^2: 0.5643\n",
      "Model R^2: 0.5637\n",
      "Model R^2: 0.5632\n",
      "Model R^2: 0.5627\n",
      "Model R^2: 0.5623\n"
     ]
    }
   ],
   "source": [
    "for i in range(1, 10):\n",
    "    model = ElasticNet(random_state=1, l1_ratio = 0.001, alpha = i/100)\n",
    "    model.fit(X_train,y_train)\n",
    "    predictions = model.predict(X_test)\n",
    "    errors = np.array(predictions - y_test)\n",
    "    squared_errors = errors**2\n",
    "    tot_sum_squares = (np.array(y_test - y_test.mean())**2).sum()\n",
    "    r2 = 1 - (squared_errors.sum() / tot_sum_squares)\n",
    "    print(f'Model R^2: {r2:.4f}')"
   ]
  },
  {
   "cell_type": "code",
   "execution_count": 394,
   "metadata": {},
   "outputs": [
    {
     "data": {
      "text/html": [
       "<style>#sk-container-id-13 {color: black;background-color: white;}#sk-container-id-13 pre{padding: 0;}#sk-container-id-13 div.sk-toggleable {background-color: white;}#sk-container-id-13 label.sk-toggleable__label {cursor: pointer;display: block;width: 100%;margin-bottom: 0;padding: 0.3em;box-sizing: border-box;text-align: center;}#sk-container-id-13 label.sk-toggleable__label-arrow:before {content: \"▸\";float: left;margin-right: 0.25em;color: #696969;}#sk-container-id-13 label.sk-toggleable__label-arrow:hover:before {color: black;}#sk-container-id-13 div.sk-estimator:hover label.sk-toggleable__label-arrow:before {color: black;}#sk-container-id-13 div.sk-toggleable__content {max-height: 0;max-width: 0;overflow: hidden;text-align: left;background-color: #f0f8ff;}#sk-container-id-13 div.sk-toggleable__content pre {margin: 0.2em;color: black;border-radius: 0.25em;background-color: #f0f8ff;}#sk-container-id-13 input.sk-toggleable__control:checked~div.sk-toggleable__content {max-height: 200px;max-width: 100%;overflow: auto;}#sk-container-id-13 input.sk-toggleable__control:checked~label.sk-toggleable__label-arrow:before {content: \"▾\";}#sk-container-id-13 div.sk-estimator input.sk-toggleable__control:checked~label.sk-toggleable__label {background-color: #d4ebff;}#sk-container-id-13 div.sk-label input.sk-toggleable__control:checked~label.sk-toggleable__label {background-color: #d4ebff;}#sk-container-id-13 input.sk-hidden--visually {border: 0;clip: rect(1px 1px 1px 1px);clip: rect(1px, 1px, 1px, 1px);height: 1px;margin: -1px;overflow: hidden;padding: 0;position: absolute;width: 1px;}#sk-container-id-13 div.sk-estimator {font-family: monospace;background-color: #f0f8ff;border: 1px dotted black;border-radius: 0.25em;box-sizing: border-box;margin-bottom: 0.5em;}#sk-container-id-13 div.sk-estimator:hover {background-color: #d4ebff;}#sk-container-id-13 div.sk-parallel-item::after {content: \"\";width: 100%;border-bottom: 1px solid gray;flex-grow: 1;}#sk-container-id-13 div.sk-label:hover label.sk-toggleable__label {background-color: #d4ebff;}#sk-container-id-13 div.sk-serial::before {content: \"\";position: absolute;border-left: 1px solid gray;box-sizing: border-box;top: 0;bottom: 0;left: 50%;z-index: 0;}#sk-container-id-13 div.sk-serial {display: flex;flex-direction: column;align-items: center;background-color: white;padding-right: 0.2em;padding-left: 0.2em;position: relative;}#sk-container-id-13 div.sk-item {position: relative;z-index: 1;}#sk-container-id-13 div.sk-parallel {display: flex;align-items: stretch;justify-content: center;background-color: white;position: relative;}#sk-container-id-13 div.sk-item::before, #sk-container-id-13 div.sk-parallel-item::before {content: \"\";position: absolute;border-left: 1px solid gray;box-sizing: border-box;top: 0;bottom: 0;left: 50%;z-index: -1;}#sk-container-id-13 div.sk-parallel-item {display: flex;flex-direction: column;z-index: 1;position: relative;background-color: white;}#sk-container-id-13 div.sk-parallel-item:first-child::after {align-self: flex-end;width: 50%;}#sk-container-id-13 div.sk-parallel-item:last-child::after {align-self: flex-start;width: 50%;}#sk-container-id-13 div.sk-parallel-item:only-child::after {width: 0;}#sk-container-id-13 div.sk-dashed-wrapped {border: 1px dashed gray;margin: 0 0.4em 0.5em 0.4em;box-sizing: border-box;padding-bottom: 0.4em;background-color: white;}#sk-container-id-13 div.sk-label label {font-family: monospace;font-weight: bold;display: inline-block;line-height: 1.2em;}#sk-container-id-13 div.sk-label-container {text-align: center;}#sk-container-id-13 div.sk-container {/* jupyter's `normalize.less` sets `[hidden] { display: none; }` but bootstrap.min.css set `[hidden] { display: none !important; }` so we also need the `!important` here to be able to override the default hidden behavior on the sphinx rendered scikit-learn.org. See: https://github.com/scikit-learn/scikit-learn/issues/21755 */display: inline-block !important;position: relative;}#sk-container-id-13 div.sk-text-repr-fallback {display: none;}</style><div id=\"sk-container-id-13\" class=\"sk-top-container\"><div class=\"sk-text-repr-fallback\"><pre>ElasticNet(alpha=0.001, l1_ratio=0.001, random_state=1)</pre><b>In a Jupyter environment, please rerun this cell to show the HTML representation or trust the notebook. <br />On GitHub, the HTML representation is unable to render, please try loading this page with nbviewer.org.</b></div><div class=\"sk-container\" hidden><div class=\"sk-item\"><div class=\"sk-estimator sk-toggleable\"><input class=\"sk-toggleable__control sk-hidden--visually\" id=\"sk-estimator-id-13\" type=\"checkbox\" checked><label for=\"sk-estimator-id-13\" class=\"sk-toggleable__label sk-toggleable__label-arrow\">ElasticNet</label><div class=\"sk-toggleable__content\"><pre>ElasticNet(alpha=0.001, l1_ratio=0.001, random_state=1)</pre></div></div></div></div></div>"
      ],
      "text/plain": [
       "ElasticNet(alpha=0.001, l1_ratio=0.001, random_state=1)"
      ]
     },
     "execution_count": 394,
     "metadata": {},
     "output_type": "execute_result"
    }
   ],
   "source": [
    "model = ElasticNet(random_state=1, l1_ratio = 0.001, alpha = 0.001)\n",
    "model.fit(X_train,y_train)"
   ]
  },
  {
   "cell_type": "code",
   "execution_count": 395,
   "metadata": {},
   "outputs": [
    {
     "name": "stdout",
     "output_type": "stream",
     "text": [
      "Model R^2: 0.5683\n"
     ]
    }
   ],
   "source": [
    "predictions = model.predict(X_test)\n",
    "errors = np.array(predictions - y_test)\n",
    "squared_errors = errors**2\n",
    "tot_sum_squares = (np.array(y_test - y_test.mean())**2).sum()\n",
    "r2 = 1 - (squared_errors.sum() / tot_sum_squares)\n",
    "print(f'Model R^2: {r2:.4f}')"
   ]
  },
  {
   "cell_type": "code",
   "execution_count": 405,
   "metadata": {},
   "outputs": [
    {
     "data": {
      "text/plain": [
       "Text(2, 25, 'R^2 = 0.5683')"
      ]
     },
     "execution_count": 405,
     "metadata": {},
     "output_type": "execute_result"
    },
    {
     "data": {
      "image/png": "[encoded data removed]",
      "text/plain": [
       "<Figure size 576x360 with 1 Axes>"
      ]
     },
     "metadata": {
      "needs_background": "light"
     },
     "output_type": "display_data"
    }
   ],
   "source": [
    "y = predictions\n",
    "x = y_test\n",
    "fig, ax = plt.subplots(figsize=(8,5))\n",
    "line = range(20)\n",
    "onetoone = [x for x in range(20)]\n",
    "fare_df = pd.DataFrame({\"Tip Amount\": x, \"Predicted Amount\":y})\n",
    "fare_df = fare_df.sample(frac=0.05, replace=True, random_state=1)\n",
    "p = np.poly1d(np.polyfit(x, y, 1))\n",
    "tip_reg = [p(x) for x in range(20)]\n",
    "ax.plot(line, onetoone, color = 'orange')\n",
    "fare_df.plot(kind='scatter', x= 'Tip Amount', y= 'Predicted Amount', s = 1, title=\"Elastic-Net: prediction vs. tip amount\", ax = ax, zorder =-1) \n",
    "plt.legend(['prediction = tip_amount'], loc = 'upper left')\n",
    "ax.annotate(f\"R^2 = {r2:.4f}\", (2, 25))"
   ]
  },
  {
   "cell_type": "code",
   "execution_count": null,
   "metadata": {},
   "outputs": [],
   "source": []
  }
 ],
 "metadata": {
  "interpreter": {
   "hash": "b0fa6594d8f4cbf19f97940f81e996739fb7646882a419484c72d19e05852a7e"
  },
  "kernelspec": {
   "display_name": "Python 3.9.13 64-bit",
   "language": "python",
   "name": "python3"
  },
  "language_info": {
   "codemirror_mode": {
    "name": "ipython",
    "version": 3
   },
   "file_extension": ".py",
   "mimetype": "text/x-python",
   "name": "python",
   "nbconvert_exporter": "python",
   "pygments_lexer": "ipython3",
   "version": "3.9.13"
  },
  "orig_nbformat": 4
 },
 "nbformat": 4,
 "nbformat_minor": 2
}
