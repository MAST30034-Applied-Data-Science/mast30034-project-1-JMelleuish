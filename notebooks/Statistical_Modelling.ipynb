{
 "cells": [
  {
   "cell_type": "markdown",
   "metadata": {},
   "source": [
    "# MAST30034 Project 1\n",
    "## Statistical Modelling"
   ]
  },
  {
   "cell_type": "code",
   "execution_count": 302,
   "metadata": {},
   "outputs": [],
   "source": [
    "import pandas as pd"
   ]
  },
  {
   "cell_type": "markdown",
   "metadata": {},
   "source": [
    "LaGuardia Airport was chosen as the area taken for weather measurements as out of the 3 major airports in NYC, it is the most centrally located and thus will be the best estimate of the overal weather across the city."
   ]
  },
  {
   "cell_type": "code",
   "execution_count": 303,
   "metadata": {},
   "outputs": [
    {
     "name": "stdout",
     "output_type": "stream",
     "text": [
      "100\n",
      "102\n"
     ]
    }
   ],
   "source": [
    "LG18 = pd.read_csv(\"/Users/jackmelleuish/Library/CloudStorage/OneDrive-TheUniversityofMelbourne/Desktop/Jack/Uni/2022/Semester 2/Data Science/Project 1/Weather Data/LaGuardia2018.csv\")\n",
    "LG19 = pd.read_csv(\"/Users/jackmelleuish/Library/CloudStorage/OneDrive-TheUniversityofMelbourne/Desktop/Jack/Uni/2022/Semester 2/Data Science/Project 1/Weather Data/LaGuardia2019.csv\")\n",
    "print(len(LG18.columns))\n",
    "print(len(LG19.columns))"
   ]
  },
  {
   "cell_type": "markdown",
   "metadata": {},
   "source": [
    "The datasets have approx 100 columns with highly specific weather for a variety of needs, as this project is looking at how weather and other variables effect tipping in NYC, the variables chosen were the main distinct variables commonly reported on: Wind Direction, Wind Speed, Temperature, Dew Point, Sea Level Pressure"
   ]
  },
  {
   "cell_type": "code",
   "execution_count": 304,
   "metadata": {},
   "outputs": [],
   "source": [
    "LG18 = LG18[['DATE', 'WND', 'TMP', 'DEW', 'SLP']]\n",
    "LG19 = LG19[['DATE', 'WND', 'TMP', 'DEW', 'SLP']]"
   ]
  },
  {
   "cell_type": "markdown",
   "metadata": {},
   "source": [
    "Cleaning up the data"
   ]
  },
  {
   "cell_type": "code",
   "execution_count": 305,
   "metadata": {},
   "outputs": [],
   "source": [
    "import numpy as np\n",
    "\n",
    "LG18['date']=LG18['DATE'].str.extract(r'(\\d{4}-\\d{2}-\\d{2})')\n",
    "LG18['wind_speed']=LG18['WND'].str.extract(r'\\d{3},\\d,\\w,(\\d{4},\\d)')\n",
    "LG18['wind_direction']=LG18['WND'].str.extract(r'(\\d{3},\\d),\\w,\\d{4},\\d')\n",
    "LG18 = LG18.rename(columns={\"TMP\":\"temp\", \"DEW\":\"dew_point\", \"SLP\":\"pressure\"})\n",
    "LG18['wind_direction'] = LG18['wind_direction'].str.replace(',','.',regex=True)\n",
    "LG18['wind_speed'] = LG18['wind_speed'].str.replace(',','.',regex=True)\n",
    "LG18['temp'] = LG18['temp'].str.replace(',','.',regex=True)\n",
    "#LG18['temp'] = LG18['temp'].str.replace('0','',regex=True)\n",
    "LG18['dew_point'] = LG18['dew_point'].str.replace(',','.',regex=True)\n",
    "LG18['pressure'] = LG18['pressure'].str.replace(',','.',regex=True)\n",
    "LG18 = LG18.drop(['DATE', 'WND'], axis =1)\n",
    "\n",
    "LG19['date']=LG19['DATE'].str.extract(r'(\\d{4}-\\d{2}-\\d{2})')\n",
    "LG19['wind_speed']=LG19['WND'].str.extract(r'\\d{3},\\d,\\w,(\\d{4},\\d)')\n",
    "LG19['wind_direction']=LG19['WND'].str.extract(r'(\\d{3},\\d),\\w,\\d{4},\\d')\n",
    "LG19 = LG19.rename(columns={\"TMP\":\"temp\", \"DEW\":\"dew_point\", \"SLP\":\"pressure\"})\n",
    "LG19['wind_direction'] = LG19['wind_direction'].str.replace(',','.',regex=True)\n",
    "LG19['wind_speed'] = LG19['wind_speed'].str.replace(',','.',regex=True)\n",
    "LG19['temp'] = LG19['temp'].str.replace(',','.',regex=True)\n",
    "LG19['dew_point'] = LG19['dew_point'].str.replace(',','.',regex=True)\n",
    "LG19['pressure'] = LG19['pressure'].str.replace(',','.',regex=True)\n",
    "LG19 = LG19.drop(['DATE', 'WND'], axis =1)\n"
   ]
  },
  {
   "cell_type": "markdown",
   "metadata": {},
   "source": [
    "Converting Strings to Floats:"
   ]
  },
  {
   "cell_type": "code",
   "execution_count": 306,
   "metadata": {},
   "outputs": [],
   "source": [
    "LG18 = LG18.drop([5320, 7718, 8555, 8970, 13060])\n",
    "LG18['pressure'] = pd.to_numeric(LG18['pressure'], downcast='float')\n",
    "LG18['temp'] = pd.to_numeric(LG18['temp'], downcast='float')\n",
    "LG18['dew_point'] = pd.to_numeric(LG18['dew_point'], downcast='float')\n",
    "LG18['wind_speed'] = pd.to_numeric(LG18['wind_speed'], downcast='float')\n",
    "LG18['wind_direction'] = pd.to_numeric(LG18['wind_direction'], downcast='float')\n",
    "\n",
    "LG19 = LG19.drop([2410, 3700, 3862, 8355, 8544, 10130])\n",
    "LG19 = LG19.drop(LG19.index[10120:10157])\n",
    "LG19['pressure'] = pd.to_numeric(LG19['pressure'], downcast='float')\n",
    "LG19['temp'] = pd.to_numeric(LG19['temp'], downcast='float')\n",
    "LG19['dew_point'] = pd.to_numeric(LG19['dew_point'], downcast='float')\n",
    "LG19['wind_speed'] = pd.to_numeric(LG19['wind_speed'], downcast='float')\n",
    "LG19['wind_direction'] = pd.to_numeric(LG19['wind_direction'], downcast='float')\n"
   ]
  },
  {
   "cell_type": "markdown",
   "metadata": {},
   "source": [
    "### Invalidating data:\n",
    "#### Temp\n",
    "Maximum recorded temperature in NYC was 106F and the Mminium was -15F, thus these were set as the bounds"
   ]
  },
  {
   "cell_type": "code",
   "execution_count": 307,
   "metadata": {},
   "outputs": [],
   "source": [
    "LG18 = LG18.drop(LG18[LG18.temp > 106].index)\n",
    "LG18 = LG18.drop(LG18[LG18.temp < -15].index)\n",
    "LG19 = LG19.drop(LG19[LG19.temp > 106].index)\n",
    "LG19 = LG19.drop(LG19[LG19.temp < -15].index)"
   ]
  },
  {
   "cell_type": "markdown",
   "metadata": {},
   "source": [
    "#### Dew Point\n",
    "Maximum recorded dew point in NYC was 81F and the Mminium was -49F, thus these were set as the bounds"
   ]
  },
  {
   "cell_type": "code",
   "execution_count": 308,
   "metadata": {},
   "outputs": [],
   "source": [
    "LG18 = LG18.drop(LG18[LG18.dew_point > 81].index)\n",
    "LG18 = LG18.drop(LG18[LG18.dew_point < -49].index)\n",
    "LG19 = LG19.drop(LG19[LG19.dew_point > 81].index)\n",
    "LG19 = LG19.drop(LG19[LG19.dew_point < -49].index)"
   ]
  },
  {
   "cell_type": "markdown",
   "metadata": {},
   "source": [
    "#### Pressure\n",
    "There isnt much data for the max and min sea level pressure of NYC, so the upper bounds were set to be the worlds max and min to be safe."
   ]
  },
  {
   "cell_type": "code",
   "execution_count": 309,
   "metadata": {},
   "outputs": [],
   "source": [
    "LG18 = LG18.drop(LG18[LG18.pressure > 10600].index)\n",
    "LG18 = LG18.drop(LG18[LG18.pressure < 8700].index)\n",
    "LG19 = LG19.drop(LG19[LG19.pressure > 10600].index)\n",
    "LG19 = LG19.drop(LG19[LG19.pressure < 8700].index)"
   ]
  },
  {
   "cell_type": "markdown",
   "metadata": {},
   "source": [
    "#### Wind Speed \n",
    "highest ever record was 185km/h during hurricane sandy  and ofcourse the slowest is set to 0."
   ]
  },
  {
   "cell_type": "code",
   "execution_count": 310,
   "metadata": {},
   "outputs": [],
   "source": [
    "LG18 = LG18.drop(LG18[LG18.wind_speed > 185].index)\n",
    "LG18 = LG18.drop(LG18[LG18.wind_speed < 0].index)\n",
    "LG19 = LG19.drop(LG19[LG19.wind_speed > 185].index)\n",
    "LG19 = LG19.drop(LG19[LG19.wind_speed < 0].index)"
   ]
  },
  {
   "cell_type": "markdown",
   "metadata": {},
   "source": [
    "#### Wind Direction \n",
    "wind direction is set in relation to compass degrees and thus the max is 360 and min is 0:"
   ]
  },
  {
   "cell_type": "code",
   "execution_count": 311,
   "metadata": {},
   "outputs": [],
   "source": [
    "LG18 = LG18.drop(LG18[LG18.wind_direction > 185].index)\n",
    "LG18 = LG18.drop(LG18[LG18.wind_direction < 0].index)\n",
    "LG19 = LG19.drop(LG19[LG19.wind_direction > 185].index)\n",
    "LG19 = LG19.drop(LG19[LG19.wind_direction < 0].index)\n",
    "LG18 = LG18.reset_index()\n",
    "LG19 = LG19.reset_index()"
   ]
  },
  {
   "cell_type": "code",
   "execution_count": null,
   "metadata": {},
   "outputs": [],
   "source": []
  }
 ],
 "metadata": {
  "interpreter": {
   "hash": "863906e9a4165d4738736793daf13ef61aad6cfe5622e28d202ed76ed0afc263"
  },
  "kernelspec": {
   "display_name": "Python 3.9.7 ('base')",
   "language": "python",
   "name": "python3"
  },
  "language_info": {
   "codemirror_mode": {
    "name": "ipython",
    "version": 3
   },
   "file_extension": ".py",
   "mimetype": "text/x-python",
   "name": "python",
   "nbconvert_exporter": "python",
   "pygments_lexer": "ipython3",
   "version": "3.9.7"
  },
  "orig_nbformat": 4
 },
 "nbformat": 4,
 "nbformat_minor": 2
}
