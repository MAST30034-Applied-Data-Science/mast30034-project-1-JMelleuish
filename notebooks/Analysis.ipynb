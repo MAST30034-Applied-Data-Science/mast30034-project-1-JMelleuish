{
 "cells": [
  {
   "cell_type": "markdown",
   "metadata": {},
   "source": [
    "# MAST30034 Project 1\n",
    "## Analysis"
   ]
  },
  {
   "cell_type": "code",
   "execution_count": 174,
   "metadata": {},
   "outputs": [],
   "source": [
    "from functools import reduce \n",
    "from pyspark.sql import DataFrame\n",
    "from pyspark.sql import SparkSession\n",
    "\n",
    "# Create a spark session (which will run spark jobs)\n",
    "spark = (\n",
    "    SparkSession.builder.appName(\"Project 1 - Preprocessing\")\n",
    "    .config(\"spark.sql.repl.eagerEval.enabled\", True) \n",
    "    .config(\"spark.sql.parquet.cacheMetadata\", \"true\")\n",
    "    .getOrCreate()\n",
    ")"
   ]
  },
  {
   "cell_type": "code",
   "execution_count": 175,
   "metadata": {},
   "outputs": [],
   "source": [
    "import pandas as pd\n",
    "import geopandas as gpd\n",
    "import folium"
   ]
  },
  {
   "cell_type": "markdown",
   "metadata": {},
   "source": [
    "### Geopandas visualisation\n",
    "#### Average tip earnings per taxi zone"
   ]
  },
  {
   "cell_type": "code",
   "execution_count": 176,
   "metadata": {},
   "outputs": [],
   "source": [
    "sf = gpd.read_file(\"/Users/jackmelleuish/Library/CloudStorage/OneDrive-TheUniversityofMelbourne/Desktop/Jack/Uni/2022/Semester 2/Data Science/Project 1/taxi_zones/taxi_zones.shp\")\n",
    "zones = pd.read_csv(\"/Users/jackmelleuish/Library/CloudStorage/OneDrive-TheUniversityofMelbourne/Desktop/Jack/Uni/2022/Semester 2/Data Science/Project 1/taxi_zones/taxi+_zone_lookup.csv\")\n",
    "sf['geometry'] = sf['geometry'].to_crs(\"+proj=longlat +ellps=WGS84 +datum=WGS84 +no_defs\")\n",
    "gdf = gpd.GeoDataFrame(\n",
    "    pd.merge(zones, sf, on='LocationID', how='inner')\n",
    ")\n",
    "geoJSON = gdf[['LocationID', 'geometry']].drop_duplicates('LocationID').to_json()\n"
   ]
  },
  {
   "cell_type": "code",
   "execution_count": 178,
   "metadata": {},
   "outputs": [],
   "source": [
    "df = spark.read.parquet('DataFrames/geo_tip_df')\n",
    "df = df.toPandas()\n",
    "df = df \\\n",
    "    .merge(gdf[['LocationID', 'geometry']], left_on='pickup_location', right_on='LocationID') \\\n",
    "    .drop('LocationID', axis=1)"
   ]
  },
  {
   "cell_type": "code",
   "execution_count": 180,
   "metadata": {},
   "outputs": [
    {
     "data": {
      "text/html": [
       "<div>\n",
       "<style scoped>\n",
       "    .dataframe tbody tr th:only-of-type {\n",
       "        vertical-align: middle;\n",
       "    }\n",
       "\n",
       "    .dataframe tbody tr th {\n",
       "        vertical-align: top;\n",
       "    }\n",
       "\n",
       "    .dataframe thead th {\n",
       "        text-align: right;\n",
       "    }\n",
       "</style>\n",
       "<table border=\"1\" class=\"dataframe\">\n",
       "  <thead>\n",
       "    <tr style=\"text-align: right;\">\n",
       "      <th></th>\n",
       "      <th>pickup_location</th>\n",
       "      <th>total_trips</th>\n",
       "      <th>total_tips</th>\n",
       "      <th>avg_tip_amount</th>\n",
       "      <th>geometry</th>\n",
       "    </tr>\n",
       "  </thead>\n",
       "  <tbody>\n",
       "    <tr>\n",
       "      <th>0</th>\n",
       "      <td>29</td>\n",
       "      <td>12204</td>\n",
       "      <td>5881.95</td>\n",
       "      <td>0.481969</td>\n",
       "      <td>POLYGON ((-73.96005 40.58327, -73.95901 40.582...</td>\n",
       "    </tr>\n",
       "    <tr>\n",
       "      <th>1</th>\n",
       "      <td>26</td>\n",
       "      <td>23857</td>\n",
       "      <td>6496.42</td>\n",
       "      <td>0.272307</td>\n",
       "      <td>POLYGON ((-73.98332 40.64148, -73.98299 40.641...</td>\n",
       "    </tr>\n",
       "    <tr>\n",
       "      <th>2</th>\n",
       "      <td>65</td>\n",
       "      <td>211006</td>\n",
       "      <td>492434.98</td>\n",
       "      <td>2.333749</td>\n",
       "      <td>POLYGON ((-73.98712 40.70063, -73.98706 40.700...</td>\n",
       "    </tr>\n",
       "    <tr>\n",
       "      <th>3</th>\n",
       "      <td>191</td>\n",
       "      <td>11438</td>\n",
       "      <td>2329.10</td>\n",
       "      <td>0.203628</td>\n",
       "      <td>POLYGON ((-73.73017 40.72396, -73.72991 40.723...</td>\n",
       "    </tr>\n",
       "    <tr>\n",
       "      <th>4</th>\n",
       "      <td>222</td>\n",
       "      <td>14557</td>\n",
       "      <td>3627.65</td>\n",
       "      <td>0.249203</td>\n",
       "      <td>MULTIPOLYGON (((-73.87909 40.65020, -73.87844 ...</td>\n",
       "    </tr>\n",
       "    <tr>\n",
       "      <th>...</th>\n",
       "      <td>...</td>\n",
       "      <td>...</td>\n",
       "      <td>...</td>\n",
       "      <td>...</td>\n",
       "      <td>...</td>\n",
       "    </tr>\n",
       "    <tr>\n",
       "      <th>253</th>\n",
       "      <td>2</td>\n",
       "      <td>5</td>\n",
       "      <td>3.56</td>\n",
       "      <td>0.712000</td>\n",
       "      <td>MULTIPOLYGON (((-73.82338 40.63899, -73.82277 ...</td>\n",
       "    </tr>\n",
       "    <tr>\n",
       "      <th>254</th>\n",
       "      <td>158</td>\n",
       "      <td>6</td>\n",
       "      <td>8.56</td>\n",
       "      <td>1.426667</td>\n",
       "      <td>POLYGON ((-74.00779 40.74197, -74.00697 40.741...</td>\n",
       "    </tr>\n",
       "    <tr>\n",
       "      <th>255</th>\n",
       "      <td>114</td>\n",
       "      <td>15</td>\n",
       "      <td>11.03</td>\n",
       "      <td>0.735333</td>\n",
       "      <td>POLYGON ((-73.99258 40.72420, -73.99260 40.724...</td>\n",
       "    </tr>\n",
       "    <tr>\n",
       "      <th>256</th>\n",
       "      <td>211</td>\n",
       "      <td>2</td>\n",
       "      <td>0.00</td>\n",
       "      <td>0.000000</td>\n",
       "      <td>POLYGON ((-74.00152 40.71982, -74.00188 40.719...</td>\n",
       "    </tr>\n",
       "    <tr>\n",
       "      <th>257</th>\n",
       "      <td>125</td>\n",
       "      <td>6</td>\n",
       "      <td>0.00</td>\n",
       "      <td>0.000000</td>\n",
       "      <td>POLYGON ((-74.00269 40.72831, -74.00215 40.728...</td>\n",
       "    </tr>\n",
       "  </tbody>\n",
       "</table>\n",
       "<p>258 rows × 5 columns</p>\n",
       "</div>"
      ],
      "text/plain": [
       "     pickup_location  total_trips  total_tips  avg_tip_amount  \\\n",
       "0                 29        12204     5881.95        0.481969   \n",
       "1                 26        23857     6496.42        0.272307   \n",
       "2                 65       211006   492434.98        2.333749   \n",
       "3                191        11438     2329.10        0.203628   \n",
       "4                222        14557     3627.65        0.249203   \n",
       "..               ...          ...         ...             ...   \n",
       "253                2            5        3.56        0.712000   \n",
       "254              158            6        8.56        1.426667   \n",
       "255              114           15       11.03        0.735333   \n",
       "256              211            2        0.00        0.000000   \n",
       "257              125            6        0.00        0.000000   \n",
       "\n",
       "                                              geometry  \n",
       "0    POLYGON ((-73.96005 40.58327, -73.95901 40.582...  \n",
       "1    POLYGON ((-73.98332 40.64148, -73.98299 40.641...  \n",
       "2    POLYGON ((-73.98712 40.70063, -73.98706 40.700...  \n",
       "3    POLYGON ((-73.73017 40.72396, -73.72991 40.723...  \n",
       "4    MULTIPOLYGON (((-73.87909 40.65020, -73.87844 ...  \n",
       "..                                                 ...  \n",
       "253  MULTIPOLYGON (((-73.82338 40.63899, -73.82277 ...  \n",
       "254  POLYGON ((-74.00779 40.74197, -74.00697 40.741...  \n",
       "255  POLYGON ((-73.99258 40.72420, -73.99260 40.724...  \n",
       "256  POLYGON ((-74.00152 40.71982, -74.00188 40.719...  \n",
       "257  POLYGON ((-74.00269 40.72831, -74.00215 40.728...  \n",
       "\n",
       "[258 rows x 5 columns]"
      ]
     },
     "execution_count": 180,
     "metadata": {},
     "output_type": "execute_result"
    }
   ],
   "source": [
    "df"
   ]
  },
  {
   "cell_type": "code",
   "execution_count": 179,
   "metadata": {},
   "outputs": [],
   "source": [
    "map = folium.Map(location=[40.73, -73.74], tiles=\"Stamen Terrain\", zoom_start=10)\n",
    "\n",
    "# refer to the folium documentations on more information on how to plot aggregated data.\n",
    "c = folium.Choropleth(\n",
    "    geo_data=geoJSON, # geoJSON \n",
    "    name='Average Tip Earnings (USD)', # name of plot\n",
    "    data=non_zero_tips, # data source\n",
    "    columns=['pickup_location','avg_tip_amount'], # the columns required\n",
    "    key_on='properties.LocationID', # this is from the geoJSON's properties\n",
    "    fill_color='YlOrRd', # color scheme\n",
    "    nan_fill_color='black',\n",
    "    legend_name='Average Tip Earnings (USD)'\n",
    ")\n",
    "c.add_to(map)\n",
    "map.save(\"outputs/Average_tip_Amount.html\")"
   ]
  },
  {
   "cell_type": "code",
   "execution_count": null,
   "metadata": {},
   "outputs": [],
   "source": [
    "'''\n",
    "payment_method = df[['payment_type', 'tip_amount']] \\\n",
    "                .groupby('payment_type') \\\n",
    "                .agg(\n",
    "                    {\n",
    "                        'tip_amount': 'sum', # sum over total amount earned\n",
    "                        'payment_type': 'count' # count number of instances from sample\n",
    "                    }\n",
    "                ) \\\n",
    "                .rename({'payment_type': 'total_trips', 'tip_amount': 'total_tips'}, axis=1)\n",
    "payment_method['avg_tip_amount'] = payment_method['total_tips'] / payment_method['total_trips']\n",
    "payment_method = payment_method.reset_index(level=0)\n",
    "payment_method = payment_method.drop([3, 4])\n",
    "payment_method\n",
    "plot = payment_method.plot.bar(x = \"payment_type\", y = 'avg_tip_amount', logy = True).set_xticklabels([\"card\", \"cash\", \"No charge\"])\n",
    "'''"
   ]
  },
  {
   "cell_type": "markdown",
   "metadata": {},
   "source": [
    "### Linear Modelling"
   ]
  },
  {
   "cell_type": "code",
   "execution_count": null,
   "metadata": {},
   "outputs": [],
   "source": []
  }
 ],
 "metadata": {
  "interpreter": {
   "hash": "863906e9a4165d4738736793daf13ef61aad6cfe5622e28d202ed76ed0afc263"
  },
  "kernelspec": {
   "display_name": "Python 3.9.7 ('base')",
   "language": "python",
   "name": "python3"
  },
  "language_info": {
   "codemirror_mode": {
    "name": "ipython",
    "version": 3
   },
   "file_extension": ".py",
   "mimetype": "text/x-python",
   "name": "python",
   "nbconvert_exporter": "python",
   "pygments_lexer": "ipython3",
   "version": "3.9.13"
  },
  "orig_nbformat": 4
 },
 "nbformat": 4,
 "nbformat_minor": 2
}
