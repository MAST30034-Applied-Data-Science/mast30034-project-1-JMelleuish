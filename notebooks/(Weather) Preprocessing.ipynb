{
 "cells": [
  {
   "cell_type": "markdown",
   "metadata": {},
   "source": [
    "# MAST30034 Project 1\n",
    "## Preprocessing Weather"
   ]
  },
  {
   "cell_type": "code",
   "execution_count": 2,
   "metadata": {},
   "outputs": [],
   "source": [
    "import requests\n",
    "\n",
    "# URLs of two datsets:\n",
    "LG_2019 = \"https://www.ncei.noaa.gov/data/global-hourly/access/2019/72503014732.csv\"\n",
    "LG_2018 = \"https://www.ncei.noaa.gov/data/global-hourly/access/2018/72503014732.csv\"\n",
    "  \n",
    "# creating HTTP response object:\n",
    "r_2019 = requests.get(LG_2019) \n",
    "r_2018 = requests.get(LG_2018)\n",
    "\n",
    "# saving the data from the URLs in dala/raw:\n",
    "with open(\"../data/raw/LaGuardia2019.csv\",'wb') as f:\n",
    "    f.write(r_2019.content)\n",
    "\n",
    "with open(\"../data/raw/LaGuardia2018.csv\",'wb') as f:\n",
    "    f.write(r_2018.content)\n"
   ]
  },
  {
   "cell_type": "markdown",
   "metadata": {},
   "source": [
    "LaGuardia Airport was chosen as the area taken for weather measurements as out of the 3 major airports in NYC, it is the most centrally located and thus will be the best estimate of the overal weather across the city.\n",
    "\n",
    "Creating a dataframe with all instances in one:"
   ]
  },
  {
   "cell_type": "code",
   "execution_count": 1,
   "metadata": {},
   "outputs": [
    {
     "name": "stderr",
     "output_type": "stream",
     "text": [
      "/var/folders/ck/psrltvd10474n3pnlfszjw500000gn/T/ipykernel_48011/2719120739.py:2: DtypeWarning: Columns (44,45,58,89) have mixed types. Specify dtype option on import or set low_memory=False.\n",
      "  LG18 = pd.read_csv(\"../data/raw/LaGuardia2018.csv\")\n",
      "/var/folders/ck/psrltvd10474n3pnlfszjw500000gn/T/ipykernel_48011/2719120739.py:3: DtypeWarning: Columns (44,45,46) have mixed types. Specify dtype option on import or set low_memory=False.\n",
      "  LG19 = pd.read_csv(\"../data/raw/LaGuardia2019.csv\")\n",
      "/var/folders/ck/psrltvd10474n3pnlfszjw500000gn/T/ipykernel_48011/2719120739.py:4: FutureWarning: The frame.append method is deprecated and will be removed from pandas in a future version. Use pandas.concat instead.\n",
      "  df = LG19.append(LG18)\n"
     ]
    }
   ],
   "source": [
    "import pandas as pd\n",
    "LG18 = pd.read_csv(\"../data/raw/LaGuardia2018.csv\")\n",
    "LG19 = pd.read_csv(\"../data/raw/LaGuardia2019.csv\")\n",
    "df = LG19.append(LG18)"
   ]
  },
  {
   "cell_type": "markdown",
   "metadata": {},
   "source": [
    "The datasets have approx 100 columns with highly specific weather for a variety of needs, as this project is looking at how weather and other variables effect tipping in NYC, the variables chosen were the main distinct variables commonly reported on: Wind Direction, Wind Speed, Temperature, Dew Point, Sea Level Pressure"
   ]
  },
  {
   "cell_type": "code",
   "execution_count": 2,
   "metadata": {},
   "outputs": [
    {
     "name": "stdout",
     "output_type": "stream",
     "text": [
      "Total Instances remaining: 28361, percentage of original: 100.0%\n"
     ]
    }
   ],
   "source": [
    "df = df[['DATE', 'WND', 'TMP', 'DEW', 'SLP']]\n",
    "df = df.reset_index()\n",
    "total = len(df.index)\n",
    "print(f\"Total Instances remaining: {len(df.index)}, percentage of original: {(len(df.index)/total)*100}%\")\n"
   ]
  },
  {
   "cell_type": "markdown",
   "metadata": {},
   "source": [
    "converting the data into a workable form"
   ]
  },
  {
   "cell_type": "code",
   "execution_count": 3,
   "metadata": {},
   "outputs": [
    {
     "name": "stdout",
     "output_type": "stream",
     "text": [
      "Total Instances remaining: 28330, percentage of original: 99.89069496844259%\n"
     ]
    }
   ],
   "source": [
    "import numpy as np\n",
    "\n",
    "df['date']=df['DATE'].str.extract(r'(\\d{4}-\\d{2}-\\d{2})')\n",
    "\n",
    "df['wind_speed']=df['WND'].str.extract(r'\\d{3},\\d,\\w,(\\d{4},\\d)')\n",
    "df['wind_speed'] = df['wind_speed'].str.replace(',','.',regex=True)\n",
    "\n",
    "df['wind_direction']=df['WND'].str.extract(r'(\\d{3},\\d),\\w,\\d{4},\\d')\n",
    "df['wind_direction'] = df['wind_direction'].str.replace(',','.',regex=True)\n",
    "\n",
    "df = df.rename(columns={\"TMP\":\"temp\", \"DEW\":\"dew_point\", \"SLP\":\"pressure\"})\n",
    "\n",
    "df['temp'] = df['temp'].str.replace(',','.',regex=True)\n",
    "df = df[df[\"temp\"].str.contains(\"A\")==False] # a few instances had random capital As in them\n",
    "\n",
    "df['dew_point'] = df['dew_point'].str.replace(',','.',regex=True)\n",
    "df['pressure'] = df['pressure'].str.replace(',','.',regex=True)\n",
    "\n",
    "df = df.drop(['DATE', 'WND'], axis =1)\n",
    "print(f\"Total Instances remaining: {len(df.index)}, percentage of original: {(len(df.index)/total)*100}%\")\n"
   ]
  },
  {
   "cell_type": "markdown",
   "metadata": {},
   "source": [
    "Converting Strings to Floats:"
   ]
  },
  {
   "cell_type": "code",
   "execution_count": 4,
   "metadata": {},
   "outputs": [],
   "source": [
    "df['pressure'] = pd.to_numeric(df['pressure'], downcast='float')\n",
    "df['temp'] = pd.to_numeric(df['temp'], downcast='float')\n",
    "df['dew_point'] = pd.to_numeric(df['dew_point'], downcast='float')\n",
    "df['wind_speed'] = pd.to_numeric(df['wind_speed'], downcast='float')\n",
    "df['wind_direction'] = pd.to_numeric(df['wind_direction'], downcast='float')\n",
    "df = df.drop('index', axis=1)"
   ]
  },
  {
   "cell_type": "markdown",
   "metadata": {},
   "source": [
    "### Invalidating data:\n",
    "#### Temp\n",
    "Maximum recorded temperature in NYC was 106F and the Mminium was -15F, thus these were set as the bounds"
   ]
  },
  {
   "cell_type": "code",
   "execution_count": 5,
   "metadata": {},
   "outputs": [
    {
     "name": "stdout",
     "output_type": "stream",
     "text": [
      "Total Instances remaining: 10186, percentage of original: 35.91551778851239%\n"
     ]
    }
   ],
   "source": [
    "df = df.drop(df[(df.temp > 106)].index)\n",
    "df = df.drop(df[(df.temp < -15)].index)\n",
    "print(f\"Total Instances remaining: {len(df.index)}, percentage of original: {(len(df.index)/total)*100}%\")"
   ]
  },
  {
   "cell_type": "markdown",
   "metadata": {},
   "source": [
    "#### Dew Point\n",
    "Maximum recorded dew point in NYC was 106F and the Mminium was -49F, thus these were set as the bounds"
   ]
  },
  {
   "cell_type": "code",
   "execution_count": 6,
   "metadata": {},
   "outputs": [
    {
     "name": "stdout",
     "output_type": "stream",
     "text": [
      "Total Instances remaining: 6786, percentage of original: 23.927224004795317%\n"
     ]
    }
   ],
   "source": [
    "df = df.drop(df[(df.dew_point > 106)].index)\n",
    "df = df.drop(df[(df.dew_point < -49)].index)\n",
    "print(f\"Total Instances remaining: {len(df.index)}, percentage of original: {(len(df.index)/total)*100}%\")"
   ]
  },
  {
   "cell_type": "markdown",
   "metadata": {},
   "source": [
    "#### Pressure\n",
    "There isnt much data for the max and min sea level pressure of NYC, so the upper bounds were set to be the worlds max and min to be safe."
   ]
  },
  {
   "cell_type": "code",
   "execution_count": 7,
   "metadata": {},
   "outputs": [
    {
     "name": "stdout",
     "output_type": "stream",
     "text": [
      "Total Instances remaining: 5152, percentage of original: 18.165791051091286%\n"
     ]
    }
   ],
   "source": [
    "df = df.drop(df[df.pressure > 10600].index)\n",
    "df = df.drop(df[df.pressure < 8700].index)\n",
    "print(f\"Total Instances remaining: {len(df.index)}, percentage of original: {(len(df.index)/total)*100}%\")"
   ]
  },
  {
   "cell_type": "markdown",
   "metadata": {},
   "source": [
    "#### Wind Speed \n",
    "highest ever record was 185km/h during hurricane sandy  and ofcourse the slowest is set to 0."
   ]
  },
  {
   "cell_type": "code",
   "execution_count": 8,
   "metadata": {},
   "outputs": [
    {
     "name": "stdout",
     "output_type": "stream",
     "text": [
      "Total Instances remaining: 5151, percentage of original: 18.16226508233137%\n"
     ]
    }
   ],
   "source": [
    "df = df.drop(df[df.wind_speed > 185].index)\n",
    "df = df.drop(df[df.wind_speed < 0].index)\n",
    "print(f\"Total Instances remaining: {len(df.index)}, percentage of original: {(len(df.index)/total)*100}%\")"
   ]
  },
  {
   "cell_type": "markdown",
   "metadata": {},
   "source": [
    "#### Wind Direction \n",
    "wind direction is set in relation to compass degrees and thus the max is 360 and min is 0:"
   ]
  },
  {
   "cell_type": "code",
   "execution_count": 9,
   "metadata": {},
   "outputs": [
    {
     "name": "stdout",
     "output_type": "stream",
     "text": [
      "Total Instances remaining: 4841, percentage of original: 17.069214766757167%\n"
     ]
    }
   ],
   "source": [
    "df = df.drop(df[df.wind_direction > 360].index)\n",
    "df = df.drop(df[df.wind_direction < 0].index)\n",
    "print(f\"Total Instances remaining: {len(df.index)}, percentage of original: {(len(df.index)/total)*100}%\")"
   ]
  },
  {
   "cell_type": "markdown",
   "metadata": {},
   "source": [
    "### Compressing Dataframe\n",
    "cutting down the dataframe so that each date only appear once:"
   ]
  },
  {
   "cell_type": "code",
   "execution_count": 10,
   "metadata": {},
   "outputs": [],
   "source": [
    "df = df.groupby('date').agg({'temp': 'max', # max temp was chosen as people often think about a days tempature from how hot it will get and not the average it is throughout the day\n",
    "                         'dew_point':'mean', \n",
    "                         'pressure':'mean', \n",
    "                         'wind_speed': 'mean',\n",
    "                         'wind_direction': 'mean'})"
   ]
  },
  {
   "cell_type": "markdown",
   "metadata": {},
   "source": [
    "### Outputting Dataframe"
   ]
  },
  {
   "cell_type": "code",
   "execution_count": 11,
   "metadata": {},
   "outputs": [],
   "source": [
    "df.to_parquet('../data/curated/weather', compression='gzip') "
   ]
  },
  {
   "cell_type": "code",
   "execution_count": null,
   "metadata": {},
   "outputs": [],
   "source": []
  },
  {
   "cell_type": "code",
   "execution_count": null,
   "metadata": {},
   "outputs": [],
   "source": []
  }
 ],
 "metadata": {
  "interpreter": {
   "hash": "863906e9a4165d4738736793daf13ef61aad6cfe5622e28d202ed76ed0afc263"
  },
  "kernelspec": {
   "display_name": "Python 3.9.7 ('base')",
   "language": "python",
   "name": "python3"
  },
  "language_info": {
   "codemirror_mode": {
    "name": "ipython",
    "version": 3
   },
   "file_extension": ".py",
   "mimetype": "text/x-python",
   "name": "python",
   "nbconvert_exporter": "python",
   "pygments_lexer": "ipython3",
   "version": "3.9.13"
  },
  "orig_nbformat": 4
 },
 "nbformat": 4,
 "nbformat_minor": 2
}
