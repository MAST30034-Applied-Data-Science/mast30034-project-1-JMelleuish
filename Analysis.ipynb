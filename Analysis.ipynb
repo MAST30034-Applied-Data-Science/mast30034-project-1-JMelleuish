{
 "cells": [
  {
   "cell_type": "markdown",
   "metadata": {},
   "source": [
    "# MAST30034 Project 1\n",
    "## Analysis"
   ]
  },
  {
   "cell_type": "code",
   "execution_count": 1,
   "metadata": {},
   "outputs": [
    {
     "name": "stderr",
     "output_type": "stream",
     "text": [
      "Setting default log level to \"WARN\".\n",
      "To adjust logging level use sc.setLogLevel(newLevel). For SparkR, use setLogLevel(newLevel).\n"
     ]
    },
    {
     "name": "stdout",
     "output_type": "stream",
     "text": [
      "22/08/10 10:49:43 WARN NativeCodeLoader: Unable to load native-hadoop library for your platform... using builtin-java classes where applicable\n"
     ]
    }
   ],
   "source": [
    "from functools import reduce \n",
    "from pyspark.sql import DataFrame\n",
    "from pyspark.sql import SparkSession\n",
    "\n",
    "# Create a spark session (which will run spark jobs)\n",
    "spark = (\n",
    "    SparkSession.builder.appName(\"MAST30034 Tutorial 1\")\n",
    "    .config(\"spark.sql.repl.eagerEval.enabled\", True) \n",
    "    .config(\"spark.sql.parquet.cacheMetadata\", \"true\")\n",
    "    .config(\"spark.sql.session.timeZone\", \"Etc/UTC\")\n",
    "    .config(\"spark.executor.memory\", \"2g\")\n",
    "    .config(\"spark.driver.memory\", \"4g\")\n",
    "    .getOrCreate()\n",
    ")"
   ]
  },
  {
   "cell_type": "code",
   "execution_count": 2,
   "metadata": {},
   "outputs": [
    {
     "name": "stderr",
     "output_type": "stream",
     "text": [
      "/opt/homebrew/lib/python3.9/site-packages/geopandas/_compat.py:112: UserWarning: The Shapely GEOS version (3.10.2-CAPI-1.16.0) is incompatible with the GEOS version PyGEOS was compiled with (3.10.1-CAPI-1.16.0). Conversions between both will be slow.\n",
      "  warnings.warn(\n"
     ]
    }
   ],
   "source": [
    "import pandas as pd\n",
    "import geopandas as gpd\n",
    "import folium"
   ]
  },
  {
   "cell_type": "markdown",
   "metadata": {},
   "source": [
    "### Geopandas visualisation\n",
    "#### Average tip earnings per taxi zone"
   ]
  },
  {
   "cell_type": "code",
   "execution_count": 3,
   "metadata": {},
   "outputs": [],
   "source": [
    "sf = gpd.read_file(\"../../Project 1/Data/taxi_zones/taxi_zones.shp\")\n",
    "zones = pd.read_csv(\"../../Project 1/Data/taxi_zones/taxi+_zone_lookup.csv\")\n",
    "sf['geometry'] = sf['geometry'].to_crs(\"+proj=longlat +ellps=WGS84 +datum=WGS84 +no_defs\")\n",
    "gdf = gpd.GeoDataFrame(\n",
    "    pd.merge(zones, sf, on='LocationID', how='inner')\n",
    ")\n",
    "geoJSON = gdf[['LocationID', 'geometry']].drop_duplicates('LocationID').to_json()\n"
   ]
  },
  {
   "cell_type": "code",
   "execution_count": 4,
   "metadata": {},
   "outputs": [
    {
     "name": "stderr",
     "output_type": "stream",
     "text": [
      "                                                                                \r"
     ]
    }
   ],
   "source": [
    "sdf = spark.read.parquet('processed')\n",
    "geo_tips = sdf[['pickup_location', 'tip_amount']] \\\n",
    "                .groupby('pickup_location') \\\n",
    "                .agg(\n",
    "                    {\n",
    "                        'tip_amount': 'sum', # sum over total amount earned\n",
    "                        'pickup_location': 'count' # count number of instances from sample\n",
    "                    }\n",
    "                )\n",
    "geo_tips = geo_tips.withColumn('avg_tip_amount', geo_tips['sum(tip_amount)'] / geo_tips['count(pickup_location)'])\n",
    "geo_tips = geo_tips.withColumnRenamed('count(pickup_location)', 'total_trips').withColumnRenamed('sum(tip_amount)', 'total_tips')\n",
    "df = geo_tips.toPandas()\n",
    "df = df \\\n",
    "    .merge(gdf[['LocationID', 'geometry']], left_on='pickup_location', right_on='LocationID') \\\n",
    "    .drop('LocationID', axis=1)"
   ]
  },
  {
   "cell_type": "code",
   "execution_count": 5,
   "metadata": {},
   "outputs": [],
   "source": [
    "map = folium.Map(location=[40.73, -73.74], tiles=\"Stamen Terrain\", zoom_start=10)\n",
    "\n",
    "# refer to the folium documentations on more information on how to plot aggregated data.\n",
    "c = folium.Choropleth(\n",
    "    geo_data=geoJSON, # geoJSON \n",
    "    name='Average Tip Earnings (USD)', # name of plot\n",
    "    data=df, # data source\n",
    "    columns=['pickup_location','avg_tip_amount'], # the columns required\n",
    "    key_on='properties.LocationID', # this is from the geoJSON's properties\n",
    "    fill_color='YlOrRd', # color scheme\n",
    "    nan_fill_color='black',\n",
    "    legend_name='Average Tip Earnings (USD)'\n",
    ")\n",
    "c.add_to(map)\n",
    "map.save(\"/outputs/Average_tip_amount.html\")"
   ]
  },
  {
   "cell_type": "code",
   "execution_count": 6,
   "metadata": {},
   "outputs": [],
   "source": [
    "df['avg_tip_amount'].idxmax()\n",
    "df.loc[[103]]\n",
    "df = df.drop(103)"
   ]
  },
  {
   "cell_type": "code",
   "execution_count": 7,
   "metadata": {},
   "outputs": [],
   "source": [
    "map = folium.Map(location=[40.73, -73.74], tiles=\"Stamen Terrain\", zoom_start=10)\n",
    "\n",
    "# refer to the folium documentations on more information on how to plot aggregated data.\n",
    "c = folium.Choropleth(\n",
    "    geo_data=geoJSON, # geoJSON \n",
    "    name='Average Tip Earnings (USD) (outlier removed)', # name of plot\n",
    "    data=df, # data source\n",
    "    columns=['pickup_location','avg_tip_amount'], # the columns required\n",
    "    key_on='properties.LocationID', # this is from the geoJSON's properties\n",
    "    fill_color='YlOrRd', # color scheme\n",
    "    nan_fill_color='black',\n",
    "    legend_name='Average Tip Earnings (USD)'\n",
    ")\n",
    "c.add_to(map)\n",
    "map.save(\"/outputs/Average_tip_amount_drop_outlier.html\")"
   ]
  },
  {
   "cell_type": "markdown",
   "metadata": {},
   "source": [
    "### Comparing fare amount to tips given"
   ]
  },
  {
   "cell_type": "code",
   "execution_count": 28,
   "metadata": {},
   "outputs": [
    {
     "data": {
      "text/plain": [
       "<matplotlib.legend.Legend at 0x2c0a2b400>"
      ]
     },
     "execution_count": 28,
     "metadata": {},
     "output_type": "execute_result"
    },
    {
     "data": {
      "image/png": "[encoded data removed]",
      "text/plain": [
       "<Figure size 576x360 with 1 Axes>"
      ]
     },
     "metadata": {
      "needs_background": "light"
     },
     "output_type": "display_data"
    }
   ],
   "source": [
    "import numpy as np\n",
    "import matplotlib.pyplot as plt\n",
    "df = pd.read_parquet(\"../../Project 1/DataFrames/stats_modelling\")\n",
    "df = df.sample(frac=0.05, replace=True, random_state=1)\n",
    "x = df['fare_amount']\n",
    "y = df['tip_amount']\n",
    "line = range(250)\n",
    "x_line = [0.2*x for x in range(250)]\n",
    "fig, ax = plt.subplots(figsize=(8,5))\n",
    "fare_df = pd.DataFrame({\"x\": x, \"y\":y})\n",
    "#You pass the wanted axis to the ax argument\n",
    "fare_df.plot(kind='scatter', x= 'x', y= 'y', title=\"Fare amount vs. Tip amount given (NYC) (5% of data)\", ax=ax) \n",
    "ax.plot(line, x_line, zorder=-1, color = 'r')\n",
    "ax.set_xlabel(\"fare_amount (USD)\")\n",
    "ax.set_ylabel(\"tip_amount (USD)\")\n",
    "plt.legend(['A single taxi instance', '20% tip'])"
   ]
  },
  {
   "cell_type": "markdown",
   "metadata": {},
   "source": [
    "### Frequency of particular tip amounts"
   ]
  },
  {
   "cell_type": "code",
   "execution_count": 35,
   "metadata": {},
   "outputs": [
    {
     "data": {
      "text/plain": [
       "Text(0.5, 0, 'tip_amount (USD)')"
      ]
     },
     "execution_count": 35,
     "metadata": {},
     "output_type": "execute_result"
    },
    {
     "data": {
      "image/png": "[encoded data removed]",
      "text/plain": [
       "<Figure size 432x288 with 1 Axes>"
      ]
     },
     "metadata": {
      "needs_background": "light"
     },
     "output_type": "display_data"
    }
   ],
   "source": [
    "import pandas as pd\n",
    "df = pd.read_parquet(\"../../Project 1/DataFrames/stats_modelling\")\n",
    "df['binned'] = pd.cut(df[\"tip_amount\"], bins= range(0, 100, 5))\n",
    "ax = df['binned'].value_counts().plot(kind='bar', logy = True, title = 'frequency of tip amounts')\n",
    "ax.set_ylabel(\"log frequency\")\n",
    "ax.set_xlabel(\"tip_amount (USD)\")"
   ]
  },
  {
   "cell_type": "code",
   "execution_count": 41,
   "metadata": {},
   "outputs": [
    {
     "data": {
      "text/plain": [
       "34.22"
      ]
     },
     "execution_count": 41,
     "metadata": {},
     "output_type": "execute_result"
    }
   ],
   "source": [
    "pctge_non_zero_tips = round(((df['tip_amount'] == 0).sum() / df['tip_amount'].count())*100, 3)\n",
    "pctge_non_zero_tips"
   ]
  },
  {
   "cell_type": "markdown",
   "metadata": {},
   "source": [
    "# ==========Keep looking at relationships between tips and x============="
   ]
  },
  {
   "cell_type": "code",
   "execution_count": 24,
   "metadata": {},
   "outputs": [
    {
     "data": {
      "text/html": [
       "<div>\n",
       "<style scoped>\n",
       "    .dataframe tbody tr th:only-of-type {\n",
       "        vertical-align: middle;\n",
       "    }\n",
       "\n",
       "    .dataframe tbody tr th {\n",
       "        vertical-align: top;\n",
       "    }\n",
       "\n",
       "    .dataframe thead th {\n",
       "        text-align: right;\n",
       "    }\n",
       "</style>\n",
       "<table border=\"1\" class=\"dataframe\">\n",
       "  <thead>\n",
       "    <tr style=\"text-align: right;\">\n",
       "      <th></th>\n",
       "      <th>pickup_location</th>\n",
       "      <th>dropoff_location</th>\n",
       "      <th>passenger_count</th>\n",
       "      <th>fare_amount</th>\n",
       "      <th>tip_amount</th>\n",
       "      <th>total_amount</th>\n",
       "      <th>payment_type</th>\n",
       "      <th>surcharge_amount</th>\n",
       "      <th>trip_distance_km</th>\n",
       "      <th>trip_time_min</th>\n",
       "      <th>pickup_date</th>\n",
       "      <th>temp</th>\n",
       "      <th>dew_point</th>\n",
       "      <th>pressure</th>\n",
       "      <th>wind_speed</th>\n",
       "      <th>wind_direction</th>\n",
       "    </tr>\n",
       "  </thead>\n",
       "  <tbody>\n",
       "    <tr>\n",
       "      <th>0</th>\n",
       "      <td>77</td>\n",
       "      <td>77</td>\n",
       "      <td>1</td>\n",
       "      <td>12.0</td>\n",
       "      <td>0.00</td>\n",
       "      <td>13.30</td>\n",
       "      <td>1</td>\n",
       "      <td>1.30</td>\n",
       "      <td>4.699</td>\n",
       "      <td>14.267</td>\n",
       "      <td>2018-03-01</td>\n",
       "      <td>100.5</td>\n",
       "      <td>28.299999</td>\n",
       "      <td>10111.299805</td>\n",
       "      <td>21.299999</td>\n",
       "      <td>320.299988</td>\n",
       "    </tr>\n",
       "    <tr>\n",
       "      <th>1</th>\n",
       "      <td>127</td>\n",
       "      <td>127</td>\n",
       "      <td>2</td>\n",
       "      <td>35.5</td>\n",
       "      <td>8.50</td>\n",
       "      <td>51.06</td>\n",
       "      <td>1</td>\n",
       "      <td>7.06</td>\n",
       "      <td>19.312</td>\n",
       "      <td>24.650</td>\n",
       "      <td>2018-03-01</td>\n",
       "      <td>100.5</td>\n",
       "      <td>28.299999</td>\n",
       "      <td>10111.299805</td>\n",
       "      <td>21.299999</td>\n",
       "      <td>320.299988</td>\n",
       "    </tr>\n",
       "    <tr>\n",
       "      <th>2</th>\n",
       "      <td>65</td>\n",
       "      <td>65</td>\n",
       "      <td>5</td>\n",
       "      <td>14.0</td>\n",
       "      <td>3.06</td>\n",
       "      <td>18.36</td>\n",
       "      <td>1</td>\n",
       "      <td>1.30</td>\n",
       "      <td>6.325</td>\n",
       "      <td>14.683</td>\n",
       "      <td>2018-03-01</td>\n",
       "      <td>100.5</td>\n",
       "      <td>28.299999</td>\n",
       "      <td>10111.299805</td>\n",
       "      <td>21.299999</td>\n",
       "      <td>320.299988</td>\n",
       "    </tr>\n",
       "    <tr>\n",
       "      <th>3</th>\n",
       "      <td>255</td>\n",
       "      <td>255</td>\n",
       "      <td>1</td>\n",
       "      <td>6.0</td>\n",
       "      <td>0.00</td>\n",
       "      <td>7.30</td>\n",
       "      <td>1</td>\n",
       "      <td>1.30</td>\n",
       "      <td>2.237</td>\n",
       "      <td>4.917</td>\n",
       "      <td>2018-03-01</td>\n",
       "      <td>100.5</td>\n",
       "      <td>28.299999</td>\n",
       "      <td>10111.299805</td>\n",
       "      <td>21.299999</td>\n",
       "      <td>320.299988</td>\n",
       "    </tr>\n",
       "    <tr>\n",
       "      <th>4</th>\n",
       "      <td>112</td>\n",
       "      <td>112</td>\n",
       "      <td>1</td>\n",
       "      <td>23.0</td>\n",
       "      <td>0.00</td>\n",
       "      <td>24.30</td>\n",
       "      <td>1</td>\n",
       "      <td>1.30</td>\n",
       "      <td>11.475</td>\n",
       "      <td>20.383</td>\n",
       "      <td>2018-03-01</td>\n",
       "      <td>100.5</td>\n",
       "      <td>28.299999</td>\n",
       "      <td>10111.299805</td>\n",
       "      <td>21.299999</td>\n",
       "      <td>320.299988</td>\n",
       "    </tr>\n",
       "    <tr>\n",
       "      <th>...</th>\n",
       "      <td>...</td>\n",
       "      <td>...</td>\n",
       "      <td>...</td>\n",
       "      <td>...</td>\n",
       "      <td>...</td>\n",
       "      <td>...</td>\n",
       "      <td>...</td>\n",
       "      <td>...</td>\n",
       "      <td>...</td>\n",
       "      <td>...</td>\n",
       "      <td>...</td>\n",
       "      <td>...</td>\n",
       "      <td>...</td>\n",
       "      <td>...</td>\n",
       "      <td>...</td>\n",
       "      <td>...</td>\n",
       "    </tr>\n",
       "    <tr>\n",
       "      <th>3435452</th>\n",
       "      <td>244</td>\n",
       "      <td>244</td>\n",
       "      <td>1</td>\n",
       "      <td>40.5</td>\n",
       "      <td>7.19</td>\n",
       "      <td>55.11</td>\n",
       "      <td>1</td>\n",
       "      <td>7.42</td>\n",
       "      <td>23.512</td>\n",
       "      <td>25.533</td>\n",
       "      <td>2019-12-31</td>\n",
       "      <td>72.5</td>\n",
       "      <td>14.872414</td>\n",
       "      <td>10055.079102</td>\n",
       "      <td>49.320690</td>\n",
       "      <td>172.458618</td>\n",
       "    </tr>\n",
       "    <tr>\n",
       "      <th>3435453</th>\n",
       "      <td>74</td>\n",
       "      <td>74</td>\n",
       "      <td>1</td>\n",
       "      <td>4.5</td>\n",
       "      <td>5.00</td>\n",
       "      <td>10.80</td>\n",
       "      <td>1</td>\n",
       "      <td>1.30</td>\n",
       "      <td>1.497</td>\n",
       "      <td>3.117</td>\n",
       "      <td>2019-12-31</td>\n",
       "      <td>72.5</td>\n",
       "      <td>14.872414</td>\n",
       "      <td>10055.079102</td>\n",
       "      <td>49.320690</td>\n",
       "      <td>172.458618</td>\n",
       "    </tr>\n",
       "    <tr>\n",
       "      <th>3435454</th>\n",
       "      <td>255</td>\n",
       "      <td>255</td>\n",
       "      <td>1</td>\n",
       "      <td>22.0</td>\n",
       "      <td>3.50</td>\n",
       "      <td>28.75</td>\n",
       "      <td>1</td>\n",
       "      <td>1.30</td>\n",
       "      <td>10.380</td>\n",
       "      <td>20.700</td>\n",
       "      <td>2019-12-31</td>\n",
       "      <td>72.5</td>\n",
       "      <td>14.872414</td>\n",
       "      <td>10055.079102</td>\n",
       "      <td>49.320690</td>\n",
       "      <td>172.458618</td>\n",
       "    </tr>\n",
       "    <tr>\n",
       "      <th>3435455</th>\n",
       "      <td>61</td>\n",
       "      <td>61</td>\n",
       "      <td>1</td>\n",
       "      <td>15.5</td>\n",
       "      <td>5.04</td>\n",
       "      <td>21.84</td>\n",
       "      <td>1</td>\n",
       "      <td>1.30</td>\n",
       "      <td>6.067</td>\n",
       "      <td>19.017</td>\n",
       "      <td>2019-12-31</td>\n",
       "      <td>72.5</td>\n",
       "      <td>14.872414</td>\n",
       "      <td>10055.079102</td>\n",
       "      <td>49.320690</td>\n",
       "      <td>172.458618</td>\n",
       "    </tr>\n",
       "    <tr>\n",
       "      <th>3435456</th>\n",
       "      <td>190</td>\n",
       "      <td>190</td>\n",
       "      <td>1</td>\n",
       "      <td>27.5</td>\n",
       "      <td>6.31</td>\n",
       "      <td>37.86</td>\n",
       "      <td>1</td>\n",
       "      <td>4.05</td>\n",
       "      <td>13.309</td>\n",
       "      <td>26.150</td>\n",
       "      <td>2019-12-31</td>\n",
       "      <td>72.5</td>\n",
       "      <td>14.872414</td>\n",
       "      <td>10055.079102</td>\n",
       "      <td>49.320690</td>\n",
       "      <td>172.458618</td>\n",
       "    </tr>\n",
       "  </tbody>\n",
       "</table>\n",
       "<p>3435457 rows × 16 columns</p>\n",
       "</div>"
      ],
      "text/plain": [
       "         pickup_location  dropoff_location  passenger_count  fare_amount  \\\n",
       "0                     77                77                1         12.0   \n",
       "1                    127               127                2         35.5   \n",
       "2                     65                65                5         14.0   \n",
       "3                    255               255                1          6.0   \n",
       "4                    112               112                1         23.0   \n",
       "...                  ...               ...              ...          ...   \n",
       "3435452              244               244                1         40.5   \n",
       "3435453               74                74                1          4.5   \n",
       "3435454              255               255                1         22.0   \n",
       "3435455               61                61                1         15.5   \n",
       "3435456              190               190                1         27.5   \n",
       "\n",
       "         tip_amount  total_amount payment_type  surcharge_amount  \\\n",
       "0              0.00         13.30            1              1.30   \n",
       "1              8.50         51.06            1              7.06   \n",
       "2              3.06         18.36            1              1.30   \n",
       "3              0.00          7.30            1              1.30   \n",
       "4              0.00         24.30            1              1.30   \n",
       "...             ...           ...          ...               ...   \n",
       "3435452        7.19         55.11            1              7.42   \n",
       "3435453        5.00         10.80            1              1.30   \n",
       "3435454        3.50         28.75            1              1.30   \n",
       "3435455        5.04         21.84            1              1.30   \n",
       "3435456        6.31         37.86            1              4.05   \n",
       "\n",
       "         trip_distance_km  trip_time_min pickup_date   temp  dew_point  \\\n",
       "0                   4.699         14.267  2018-03-01  100.5  28.299999   \n",
       "1                  19.312         24.650  2018-03-01  100.5  28.299999   \n",
       "2                   6.325         14.683  2018-03-01  100.5  28.299999   \n",
       "3                   2.237          4.917  2018-03-01  100.5  28.299999   \n",
       "4                  11.475         20.383  2018-03-01  100.5  28.299999   \n",
       "...                   ...            ...         ...    ...        ...   \n",
       "3435452            23.512         25.533  2019-12-31   72.5  14.872414   \n",
       "3435453             1.497          3.117  2019-12-31   72.5  14.872414   \n",
       "3435454            10.380         20.700  2019-12-31   72.5  14.872414   \n",
       "3435455             6.067         19.017  2019-12-31   72.5  14.872414   \n",
       "3435456            13.309         26.150  2019-12-31   72.5  14.872414   \n",
       "\n",
       "             pressure  wind_speed  wind_direction  \n",
       "0        10111.299805   21.299999      320.299988  \n",
       "1        10111.299805   21.299999      320.299988  \n",
       "2        10111.299805   21.299999      320.299988  \n",
       "3        10111.299805   21.299999      320.299988  \n",
       "4        10111.299805   21.299999      320.299988  \n",
       "...               ...         ...             ...  \n",
       "3435452  10055.079102   49.320690      172.458618  \n",
       "3435453  10055.079102   49.320690      172.458618  \n",
       "3435454  10055.079102   49.320690      172.458618  \n",
       "3435455  10055.079102   49.320690      172.458618  \n",
       "3435456  10055.079102   49.320690      172.458618  \n",
       "\n",
       "[3435457 rows x 16 columns]"
      ]
     },
     "execution_count": 24,
     "metadata": {},
     "output_type": "execute_result"
    }
   ],
   "source": [
    "df = pd.read_parquet(\"../../Project 1/DataFrames/stats_modelling\")\n",
    "df"
   ]
  },
  {
   "cell_type": "code",
   "execution_count": null,
   "metadata": {},
   "outputs": [],
   "source": [
    "x = df['fare_amount']\n",
    "y = df['tip_amount']\n",
    "line = range(250)\n",
    "x_line = [0.2*x for x in range(250)]\n",
    "fig, ax = plt.subplots(figsize=(8,5))\n",
    "df = pd.DataFrame({\"x\": x, \"y\":y})\n",
    "#You pass the wanted axis to the ax argument\n",
    "df.plot(kind='scatter', x= 'x', y= 'y', title=\"Fare amount vs. Tip amount given (NYC)\", ax=ax) "
   ]
  }
 ],
 "metadata": {
  "interpreter": {
   "hash": "863906e9a4165d4738736793daf13ef61aad6cfe5622e28d202ed76ed0afc263"
  },
  "kernelspec": {
   "display_name": "Python 3.9.7 ('base')",
   "language": "python",
   "name": "python3"
  },
  "language_info": {
   "codemirror_mode": {
    "name": "ipython",
    "version": 3
   },
   "file_extension": ".py",
   "mimetype": "text/x-python",
   "name": "python",
   "nbconvert_exporter": "python",
   "pygments_lexer": "ipython3",
   "version": "3.9.13"
  },
  "orig_nbformat": 4
 },
 "nbformat": 4,
 "nbformat_minor": 2
}
